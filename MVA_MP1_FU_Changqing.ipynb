{
  "nbformat": 4,
  "nbformat_minor": 0,
  "metadata": {
    "colab": {
      "name": "MVA-MP1 FU, Changqing.ipynb",
      "version": "0.3.2",
      "provenance": [],
      "collapsed_sections": [
        "fK9CGkcu-1hG",
        "zNUljoLQ-1hY",
        "6easKgpp-1ht"
      ],
      "include_colab_link": true
    },
    "kernelspec": {
      "name": "python3",
      "display_name": "Python 3"
    },
    "accelerator": "GPU"
  },
  "cells": [
    {
      "cell_type": "markdown",
      "metadata": {
        "id": "view-in-github",
        "colab_type": "text"
      },
      "source": [
        "<a href=\"https://colab.research.google.com/github/EvergreenTree/MVA_Deeplearning/blob/master/MVA_MP1_FU_Changqing.ipynb\" target=\"_parent\"><img src=\"https://colab.research.google.com/assets/colab-badge.svg\" alt=\"Open In Colab\"/></a>"
      ]
    },
    {
      "metadata": {
        "id": "n-M3ONYV-1ib",
        "colab_type": "code",
        "colab": {
          "base_uri": "https://localhost:8080/",
          "height": 544
        },
        "outputId": "bd97bb1b-abf4-4caf-caac-60436e9eb85a"
      },
      "cell_type": "code",
      "source": [
        "from tensorflow.python.client import device_lib\n",
        "print(device_lib.list_local_devices())\n",
        "# My Intel Graphic card not supported by CUDA, so I tried Google Cloud VM, but GPU \n",
        "# usage was not permitted. At last I used google colab for GPU acceleration."
      ],
      "execution_count": 2,
      "outputs": [
        {
          "output_type": "stream",
          "text": [
            "[name: \"/device:CPU:0\"\n",
            "device_type: \"CPU\"\n",
            "memory_limit: 268435456\n",
            "locality {\n",
            "}\n",
            "incarnation: 11163925059973029417\n",
            ", name: \"/device:XLA_CPU:0\"\n",
            "device_type: \"XLA_CPU\"\n",
            "memory_limit: 17179869184\n",
            "locality {\n",
            "}\n",
            "incarnation: 10436302181681167715\n",
            "physical_device_desc: \"device: XLA_CPU device\"\n",
            ", name: \"/device:XLA_GPU:0\"\n",
            "device_type: \"XLA_GPU\"\n",
            "memory_limit: 17179869184\n",
            "locality {\n",
            "}\n",
            "incarnation: 7466361387879743045\n",
            "physical_device_desc: \"device: XLA_GPU device\"\n",
            ", name: \"/device:GPU:0\"\n",
            "device_type: \"GPU\"\n",
            "memory_limit: 11281553818\n",
            "locality {\n",
            "  bus_id: 1\n",
            "  links {\n",
            "  }\n",
            "}\n",
            "incarnation: 9758926680751762472\n",
            "physical_device_desc: \"device: 0, name: Tesla K80, pci bus id: 0000:00:04.0, compute capability: 3.7\"\n",
            "]\n"
          ],
          "name": "stdout"
        }
      ]
    },
    {
      "metadata": {
        "id": "s7yukmw3-1gY",
        "colab_type": "code",
        "colab": {}
      },
      "cell_type": "code",
      "source": [
        ""
      ],
      "execution_count": 0,
      "outputs": []
    },
    {
      "metadata": {
        "id": "yNWOAREWdOv1",
        "colab_type": "text"
      },
      "cell_type": "markdown",
      "source": [
        "# Preparation"
      ]
    },
    {
      "metadata": {
        "id": "bInDTpi9-1gh",
        "colab_type": "code",
        "colab": {
          "base_uri": "https://localhost:8080/",
          "height": 34
        },
        "outputId": "6c1efde9-367a-4169-bcd6-2ae71f776625"
      },
      "cell_type": "code",
      "source": [
        "# data generation functions from mp1.py\n",
        "import matplotlib.pyplot as plt\n",
        "# %matplotlib inline\n",
        "import numpy as np\n",
        "import keras\n",
        "from keras.models import *\n",
        "from keras.layers import *\n",
        "from keras.optimizers import *\n",
        "\n",
        "\n",
        "def generate_a_drawing(figsize, U, V, noise=0.0):\n",
        "    fig = plt.figure(figsize=(figsize,figsize))\n",
        "    ax = plt.subplot(111)\n",
        "    plt.axis('Off')\n",
        "    ax.set_xlim(0,figsize)\n",
        "    ax.set_ylim(0,figsize)\n",
        "    ax.fill(U, V, \"k\")\n",
        "    fig.canvas.draw()\n",
        "    imdata = np.frombuffer(fig.canvas.tostring_rgb(), dtype=np.uint8)[::3].astype(np.float32)\n",
        "    imdata = imdata + noise * np.random.random(imdata.size)\n",
        "    plt.close(fig)\n",
        "    return imdata\n",
        "\n",
        "def generate_a_rectangle(noise=0.0, free_location=False):\n",
        "    figsize = 1.0    \n",
        "    U = np.zeros(4)\n",
        "    V = np.zeros(4)\n",
        "    if free_location:\n",
        "        corners = np.random.random(4)\n",
        "        top = max(corners[0], corners[1])\n",
        "        bottom = min(corners[0], corners[1])\n",
        "        left = min(corners[2], corners[3])\n",
        "        right = max(corners[2], corners[3])\n",
        "    else:\n",
        "        side = (0.3 + 0.7 * np.random.random()) * figsize\n",
        "        top = figsize/2 + side/2\n",
        "        bottom = figsize/2 - side/2\n",
        "        left = bottom\n",
        "        right = top\n",
        "    U[0] = U[1] = top\n",
        "    U[2] = U[3] = bottom\n",
        "    V[0] = V[3] = left\n",
        "    V[1] = V[2] = right\n",
        "    return generate_a_drawing(figsize, U, V, noise)\n",
        "\n",
        "\n",
        "def generate_a_disk(noise=0.0, free_location=False):\n",
        "    figsize = 1.0\n",
        "    if free_location:\n",
        "        center = np.random.random(2)\n",
        "    else:\n",
        "        center = (figsize/2, figsize/2)\n",
        "    radius = (0.3 + 0.7 * np.random.random()) * figsize/2\n",
        "    N = 50\n",
        "    U = np.zeros(N)\n",
        "    V = np.zeros(N)\n",
        "    i = 0\n",
        "    for t in np.linspace(0, 2*np.pi, N):\n",
        "        U[i] = center[0] + np.cos(t) * radius\n",
        "        V[i] = center[1] + np.sin(t) * radius\n",
        "        i = i + 1\n",
        "    return generate_a_drawing(figsize, U, V, noise)\n",
        "\n",
        "def generate_a_triangle(noise=0.0, free_location=False):\n",
        "    figsize = 1.0\n",
        "    if free_location:\n",
        "        U = np.random.random(3)\n",
        "        V = np.random.random(3)\n",
        "    else:\n",
        "        size = (0.3 + 0.7 * np.random.random())*figsize/2\n",
        "        middle = figsize/2\n",
        "        U = (middle, middle+size, middle-size)\n",
        "        V = (middle+size, middle-size, middle-size)\n",
        "    imdata = generate_a_drawing(figsize, U, V, noise)\n",
        "    return [imdata, [U[0], V[0], U[1], V[1], U[2], V[2]]]\n",
        "\n",
        "\n",
        "def generate_dataset_classification(nb_samples, noise=0.0, free_location=False):\n",
        "    # Getting im_size:\n",
        "    im_size = generate_a_rectangle().shape[0]\n",
        "    X = np.zeros([nb_samples,im_size])\n",
        "    Y = np.zeros(nb_samples)\n",
        "    print('Creating data:')\n",
        "    for i in range(nb_samples):\n",
        "        if (i+1) % 100 == 0:\n",
        "            print(i+1)\n",
        "        category = np.random.randint(3)\n",
        "        if category == 0:\n",
        "            X[i] = generate_a_rectangle(noise, free_location)\n",
        "        elif category == 1: \n",
        "            X[i] = generate_a_disk(noise, free_location)\n",
        "        else:\n",
        "            [X[i], V] = generate_a_triangle(noise, free_location)\n",
        "        Y[i] = category\n",
        "    X = (X + noise) / (255 + 2 * noise)\n",
        "    return [X, Y]\n",
        "\n",
        "def generate_test_set_classification(nb_samples):\n",
        "    np.random.seed(42)\n",
        "    [X_test, Y_test] = generate_dataset_classification(nb_samples, 20, True)\n",
        "    Y_test = keras.utils.to_categorical(Y_test, 3) \n",
        "    return [X_test, Y_test]\n",
        "\n",
        "def generate_dataset_regression(nb_samples, noise=0.0):\n",
        "    # Getting im_size:\n",
        "    im_size = generate_a_triangle()[0].shape[0]\n",
        "    X = np.zeros([nb_samples,im_size])\n",
        "    Y = np.zeros([nb_samples, 6])\n",
        "    print('Creating data:')\n",
        "    for i in range(nb_samples):\n",
        "        if (i+1) % 100 == 0:\n",
        "            print(i+1)\n",
        "        [X[i], Y[i]] = generate_a_triangle(noise, True)\n",
        "    X = (X + noise) / (255 + 2 * noise)\n",
        "    return [X, Y]\n",
        "\n",
        "import matplotlib.patches as patches\n",
        "\n",
        "def visualize_prediction(x, y, yp=[]):\n",
        "    fig, ax = plt.subplots(figsize=(5, 5))\n",
        "    I = x.reshape((72,72))\n",
        "    ax.imshow(I, extent=[-0.15,1.15,-0.15,1.15],cmap='gray')\n",
        "    ax.set_xlim([0,1])\n",
        "    ax.set_ylim([0,1])\n",
        "\n",
        "    xy = y.reshape(3,2)\n",
        "    tri = patches.Polygon(xy, closed=True, fill = False, edgecolor = 'r', linewidth = 5, alpha = 0.5)\n",
        "    ax.add_patch(tri)\n",
        "    \n",
        "    if yp != []:\n",
        "        xyp = yp.reshape(3,2)\n",
        "        tri2 = patches.Polygon(xyp, closed=True, fill = False, edgecolor = 'g', linewidth = 5, alpha = 0.5)\n",
        "        ax.add_patch(tri2)\n",
        "\n",
        "    plt.show()\n",
        "\n",
        "def generate_test_set_regression():\n",
        "    np.random.seed(42)\n",
        "    [X_test, Y_test] = generate_dataset_regression(300, 20)\n",
        "    return [X_test, Y_test]\n",
        "\n"
      ],
      "execution_count": 3,
      "outputs": [
        {
          "output_type": "stream",
          "text": [
            "Using TensorFlow backend.\n"
          ],
          "name": "stderr"
        }
      ]
    },
    {
      "metadata": {
        "id": "idChAdDZ-1gn",
        "colab_type": "code",
        "colab": {}
      },
      "cell_type": "code",
      "source": [
        "import tensorflow as tf"
      ],
      "execution_count": 0,
      "outputs": []
    },
    {
      "metadata": {
        "id": "hdcjtoUw-1gu",
        "colab_type": "code",
        "colab": {}
      },
      "cell_type": "code",
      "source": [
        ""
      ],
      "execution_count": 0,
      "outputs": []
    },
    {
      "metadata": {
        "id": "_RTYXXuh-1gy",
        "colab_type": "code",
        "colab": {
          "base_uri": "https://localhost:8080/",
          "height": 447
        },
        "outputId": "cd1e698e-0537-4994-c62e-bf60682e2b68"
      },
      "cell_type": "code",
      "source": [
        "[X_train, Y_train] = generate_dataset_classification(nb_samples=300, noise=0., free_location=False)\n",
        "Y_train=keras.utils.to_categorical(Y_train)\n",
        "# 0 = square, 1 = disk, 2 = triangle\n",
        "k=20\n",
        "# X_train=X_train.reshape(-1,5184)\n",
        "plt.imshow(X_train[k,:].reshape(72,72), cmap='gray')\n",
        "plt.title(\"label = \"+str(Y_train[k])+\" X_train.shape = \" +str(X_train.shape))\n",
        "# plotting a template training data\n"
      ],
      "execution_count": 2,
      "outputs": [
        {
          "output_type": "stream",
          "text": [
            "Creating data:\n",
            "100\n",
            "200\n",
            "300\n"
          ],
          "name": "stdout"
        },
        {
          "output_type": "execute_result",
          "data": {
            "text/plain": [
              "Text(0.5,1,'label = [0. 0. 1.] X_train.shape = (300, 5184)')"
            ]
          },
          "metadata": {
            "tags": []
          },
          "execution_count": 2
        },
        {
          "output_type": "display_data",
          "data": {
            "image/png": "[encoded data removed]",
            "text/plain": [
              "<matplotlib.figure.Figure at 0x7f001a1eff98>"
            ]
          },
          "metadata": {
            "tags": []
          }
        }
      ]
    },
    {
      "metadata": {
        "id": "dsExO1hU-1g_",
        "colab_type": "code",
        "colab": {
          "base_uri": "https://localhost:8080/",
          "height": 383
        },
        "outputId": "3df1de9a-3b54-41e3-839a-f141ad709401"
      },
      "cell_type": "code",
      "source": [
        "X_test, Y_test = generate_dataset_classification(1)\n",
        "X_test = X_test.reshape(-1, 5184)\n",
        "plt.imshow(X_test[0].reshape(72,72), cmap='gray')\n",
        "# making a test data"
      ],
      "execution_count": 3,
      "outputs": [
        {
          "output_type": "stream",
          "text": [
            "Creating data:\n"
          ],
          "name": "stdout"
        },
        {
          "output_type": "execute_result",
          "data": {
            "text/plain": [
              "<matplotlib.image.AxesImage at 0x7f00044d6e48>"
            ]
          },
          "metadata": {
            "tags": []
          },
          "execution_count": 3
        },
        {
          "output_type": "display_data",
          "data": {
            "image/png": "[encoded data removed]",
            "text/plain": [
              "<matplotlib.figure.Figure at 0x7f001a1ef198>"
            ]
          },
          "metadata": {
            "tags": []
          }
        }
      ]
    },
    {
      "metadata": {
        "id": "fK9CGkcu-1hG",
        "colab_type": "text"
      },
      "cell_type": "markdown",
      "source": [
        "# First Model\n"
      ]
    },
    {
      "metadata": {
        "id": "v4G3_0pk-1hH",
        "colab_type": "code",
        "colab": {}
      },
      "cell_type": "code",
      "source": [
        "\n",
        "# All parameter gradients will be clipped to a maximum norm of 1.\n",
        "\n",
        "# sgd = optimizers.SGD(lr=0.01, clipnorm=1.)\n",
        "sgd = SGD(lr=0.01,\n",
        "          decay=1e-6, momentum=0.9, clipnorm=1.,\n",
        "          nesterov=True)\n",
        "\n",
        "model = Sequential()\n",
        "model.add(Dense(units=256, activation='relu',input_shape=(5184,)))\n",
        "# model.add(BatchNormalization())\n",
        "model.add(Dropout(0.5))\n",
        "model.add(Dense(units=3, activation='sigmoid'))\n",
        "# model.add(BatchNormalization())\n",
        "model.compile(loss='categorical_crossentropy',\n",
        "              optimizer=sgd,\n",
        "              metrics=['accuracy'])\n",
        "# define model"
      ],
      "execution_count": 0,
      "outputs": []
    },
    {
      "metadata": {
        "id": "idt-CfE--1hJ",
        "colab_type": "code",
        "colab": {
          "base_uri": "https://localhost:8080/",
          "height": 1394
        },
        "outputId": "86b3bc96-f110-4775-d8d5-487b3f587595"
      },
      "cell_type": "code",
      "source": [
        "# from keras.initializers import glorot_uniform  # Or your initializer of choice\n",
        "# initial_weights = model.get_weights()\n",
        "# new_weights = [glorot_uniform()(w.shape) for w in initial_weights]\n",
        "# model.set_weights(new_weights)\n",
        "# clear weights\n",
        "model.fit(X_train, Y_train, epochs=40, batch_size=128)\n",
        "# fit model"
      ],
      "execution_count": 5,
      "outputs": [
        {
          "output_type": "stream",
          "text": [
            "Epoch 1/40\n",
            "300/300 [==============================] - 1s 2ms/step - loss: 1.4165 - acc: 0.3500\n",
            "Epoch 2/40\n",
            "300/300 [==============================] - 0s 219us/step - loss: 1.0973 - acc: 0.3733\n",
            "Epoch 3/40\n",
            "300/300 [==============================] - 0s 237us/step - loss: 1.0726 - acc: 0.4067\n",
            "Epoch 4/40\n",
            "300/300 [==============================] - 0s 241us/step - loss: 1.0032 - acc: 0.3400\n",
            "Epoch 5/40\n",
            "300/300 [==============================] - 0s 216us/step - loss: 0.9600 - acc: 0.3933\n",
            "Epoch 6/40\n",
            "300/300 [==============================] - 0s 221us/step - loss: 0.9152 - acc: 0.4100\n",
            "Epoch 7/40\n",
            "300/300 [==============================] - 0s 208us/step - loss: 0.8727 - acc: 0.3800\n",
            "Epoch 8/40\n",
            "300/300 [==============================] - 0s 215us/step - loss: 0.8528 - acc: 0.4267\n",
            "Epoch 9/40\n",
            "300/300 [==============================] - 0s 211us/step - loss: 0.7809 - acc: 0.5600\n",
            "Epoch 10/40\n",
            "300/300 [==============================] - 0s 208us/step - loss: 0.7075 - acc: 0.6833\n",
            "Epoch 11/40\n",
            "300/300 [==============================] - 0s 214us/step - loss: 0.6161 - acc: 0.7500\n",
            "Epoch 12/40\n",
            "300/300 [==============================] - 0s 204us/step - loss: 0.5454 - acc: 0.7800\n",
            "Epoch 13/40\n",
            "300/300 [==============================] - 0s 213us/step - loss: 0.6175 - acc: 0.7067\n",
            "Epoch 14/40\n",
            "300/300 [==============================] - 0s 204us/step - loss: 0.4682 - acc: 0.8033\n",
            "Epoch 15/40\n",
            "300/300 [==============================] - 0s 218us/step - loss: 0.4667 - acc: 0.8033\n",
            "Epoch 16/40\n",
            "300/300 [==============================] - 0s 207us/step - loss: 0.3904 - acc: 0.8467\n",
            "Epoch 17/40\n",
            "300/300 [==============================] - 0s 212us/step - loss: 0.3729 - acc: 0.8500\n",
            "Epoch 18/40\n",
            "300/300 [==============================] - 0s 208us/step - loss: 0.3165 - acc: 0.8967\n",
            "Epoch 19/40\n",
            "300/300 [==============================] - 0s 234us/step - loss: 0.3433 - acc: 0.8633\n",
            "Epoch 20/40\n",
            "300/300 [==============================] - 0s 206us/step - loss: 0.2972 - acc: 0.8967\n",
            "Epoch 21/40\n",
            "300/300 [==============================] - 0s 235us/step - loss: 0.2768 - acc: 0.9000\n",
            "Epoch 22/40\n",
            "300/300 [==============================] - 0s 217us/step - loss: 0.2479 - acc: 0.9300\n",
            "Epoch 23/40\n",
            "300/300 [==============================] - 0s 217us/step - loss: 0.2598 - acc: 0.9000\n",
            "Epoch 24/40\n",
            "300/300 [==============================] - 0s 216us/step - loss: 0.2010 - acc: 0.9400\n",
            "Epoch 25/40\n",
            "300/300 [==============================] - 0s 214us/step - loss: 0.2943 - acc: 0.8867\n",
            "Epoch 26/40\n",
            "300/300 [==============================] - 0s 216us/step - loss: 0.2095 - acc: 0.9367\n",
            "Epoch 27/40\n",
            "300/300 [==============================] - 0s 208us/step - loss: 0.2221 - acc: 0.9300\n",
            "Epoch 28/40\n",
            "300/300 [==============================] - 0s 232us/step - loss: 0.2184 - acc: 0.9300\n",
            "Epoch 29/40\n",
            "300/300 [==============================] - 0s 213us/step - loss: 0.1785 - acc: 0.9533\n",
            "Epoch 30/40\n",
            "300/300 [==============================] - 0s 212us/step - loss: 0.1695 - acc: 0.9633\n",
            "Epoch 31/40\n",
            "300/300 [==============================] - 0s 201us/step - loss: 0.1604 - acc: 0.9600\n",
            "Epoch 32/40\n",
            "300/300 [==============================] - 0s 222us/step - loss: 0.1793 - acc: 0.9567\n",
            "Epoch 33/40\n",
            "300/300 [==============================] - 0s 230us/step - loss: 0.1704 - acc: 0.9533\n",
            "Epoch 34/40\n",
            "300/300 [==============================] - 0s 213us/step - loss: 0.1596 - acc: 0.9667\n",
            "Epoch 35/40\n",
            "300/300 [==============================] - 0s 223us/step - loss: 0.1687 - acc: 0.9433\n",
            "Epoch 36/40\n",
            "300/300 [==============================] - 0s 256us/step - loss: 0.1199 - acc: 0.9700\n",
            "Epoch 37/40\n",
            "300/300 [==============================] - 0s 266us/step - loss: 0.1526 - acc: 0.9400\n",
            "Epoch 38/40\n",
            "300/300 [==============================] - 0s 245us/step - loss: 0.1217 - acc: 0.9733\n",
            "Epoch 39/40\n",
            "300/300 [==============================] - 0s 250us/step - loss: 0.1182 - acc: 0.9667\n",
            "Epoch 40/40\n",
            "300/300 [==============================] - 0s 260us/step - loss: 0.1152 - acc: 0.9733\n"
          ],
          "name": "stdout"
        },
        {
          "output_type": "execute_result",
          "data": {
            "text/plain": [
              "<keras.callbacks.History at 0x7f001a1ef828>"
            ]
          },
          "metadata": {
            "tags": []
          },
          "execution_count": 5
        }
      ]
    },
    {
      "metadata": {
        "id": "W0jE3xcp-1hQ",
        "colab_type": "code",
        "colab": {
          "base_uri": "https://localhost:8080/",
          "height": 34
        },
        "outputId": "996ae88a-e1bc-409f-f80d-d59345a8c90a"
      },
      "cell_type": "code",
      "source": [
        "model.predict(X_test)\n",
        "# test a prediction (it works)"
      ],
      "execution_count": 6,
      "outputs": [
        {
          "output_type": "execute_result",
          "data": {
            "text/plain": [
              "array([[4.4648815e-02, 5.9911974e-05, 3.6739853e-05]], dtype=float32)"
            ]
          },
          "metadata": {
            "tags": []
          },
          "execution_count": 6
        }
      ]
    },
    {
      "metadata": {
        "id": "8ouu654p-1hU",
        "colab_type": "code",
        "colab": {
          "base_uri": "https://localhost:8080/",
          "height": 238
        },
        "outputId": "62f2118f-8313-46dd-fde5-fdb528719a2f"
      },
      "cell_type": "code",
      "source": [
        "model.summary()\n",
        "# showing size of layers"
      ],
      "execution_count": 7,
      "outputs": [
        {
          "output_type": "stream",
          "text": [
            "_________________________________________________________________\n",
            "Layer (type)                 Output Shape              Param #   \n",
            "=================================================================\n",
            "dense_1 (Dense)              (None, 256)               1327360   \n",
            "_________________________________________________________________\n",
            "dropout_1 (Dropout)          (None, 256)               0         \n",
            "_________________________________________________________________\n",
            "dense_2 (Dense)              (None, 3)                 771       \n",
            "=================================================================\n",
            "Total params: 1,328,131\n",
            "Trainable params: 1,328,131\n",
            "Non-trainable params: 0\n",
            "_________________________________________________________________\n"
          ],
          "name": "stdout"
        }
      ]
    },
    {
      "metadata": {
        "id": "zNUljoLQ-1hY",
        "colab_type": "text"
      },
      "cell_type": "markdown",
      "source": [
        "# Free Location"
      ]
    },
    {
      "metadata": {
        "id": "S0I5umzl-1ha",
        "colab_type": "code",
        "colab": {
          "base_uri": "https://localhost:8080/",
          "height": 374
        },
        "outputId": "6dc9c69c-e3bb-450f-f821-e3625f6a3b8a"
      },
      "cell_type": "code",
      "source": [
        "[X_train, Y_train] = generate_dataset_classification(2000, 20, free_location=True)\n",
        "Y_train=keras.utils.to_categorical(Y_train,num_classes=3)\n",
        "# another training data: free location "
      ],
      "execution_count": 8,
      "outputs": [
        {
          "output_type": "stream",
          "text": [
            "Creating data:\n",
            "100\n",
            "200\n",
            "300\n",
            "400\n",
            "500\n",
            "600\n",
            "700\n",
            "800\n",
            "900\n",
            "1000\n",
            "1100\n",
            "1200\n",
            "1300\n",
            "1400\n",
            "1500\n",
            "1600\n",
            "1700\n",
            "1800\n",
            "1900\n",
            "2000\n"
          ],
          "name": "stdout"
        }
      ]
    },
    {
      "metadata": {
        "id": "Cm9rkZ_3-1hd",
        "colab_type": "code",
        "colab": {
          "base_uri": "https://localhost:8080/",
          "height": 374
        },
        "outputId": "9e73b6a8-bc8c-4661-a50d-44e704beb8b2"
      },
      "cell_type": "code",
      "source": [
        "[X_test, Y_test] = generate_test_set_classification(2000)\n",
        "# test data (centered)"
      ],
      "execution_count": 12,
      "outputs": [
        {
          "output_type": "stream",
          "text": [
            "Creating data:\n",
            "100\n",
            "200\n",
            "300\n",
            "400\n",
            "500\n",
            "600\n",
            "700\n",
            "800\n",
            "900\n",
            "1000\n",
            "1100\n",
            "1200\n",
            "1300\n",
            "1400\n",
            "1500\n",
            "1600\n",
            "1700\n",
            "1800\n",
            "1900\n",
            "2000\n"
          ],
          "name": "stdout"
        }
      ]
    },
    {
      "metadata": {
        "id": "-QFKjMC_-1hg",
        "colab_type": "code",
        "colab": {
          "base_uri": "https://localhost:8080/",
          "height": 34
        },
        "outputId": "e152e504-a492-4974-b6cc-4f7cd41dda49"
      },
      "cell_type": "code",
      "source": [
        "Y_train.shape, X_train.shape"
      ],
      "execution_count": 9,
      "outputs": [
        {
          "output_type": "execute_result",
          "data": {
            "text/plain": [
              "((2000, 3), (2000, 5184))"
            ]
          },
          "metadata": {
            "tags": []
          },
          "execution_count": 9
        }
      ]
    },
    {
      "metadata": {
        "id": "Xj0hLN_p-1hk",
        "colab_type": "code",
        "colab": {
          "base_uri": "https://localhost:8080/",
          "height": 1394
        },
        "outputId": "f6f94b47-3582-4350-f4a9-193d97820142"
      },
      "cell_type": "code",
      "source": [
        "model.fit(X_train, Y_train, epochs=40, batch_size=128)\n",
        "#re-run several times or set batch_size as large numbers"
      ],
      "execution_count": 14,
      "outputs": [
        {
          "output_type": "stream",
          "text": [
            "Epoch 1/40\n",
            "2000/2000 [==============================] - 0s 194us/step - loss: 0.7332 - acc: 0.6255\n",
            "Epoch 2/40\n",
            "2000/2000 [==============================] - 0s 183us/step - loss: 0.7103 - acc: 0.6310\n",
            "Epoch 3/40\n",
            "2000/2000 [==============================] - 0s 189us/step - loss: 0.7191 - acc: 0.6210\n",
            "Epoch 4/40\n",
            "2000/2000 [==============================] - 0s 185us/step - loss: 0.7218 - acc: 0.6325\n",
            "Epoch 5/40\n",
            "2000/2000 [==============================] - 0s 181us/step - loss: 0.7104 - acc: 0.6325\n",
            "Epoch 6/40\n",
            "2000/2000 [==============================] - 0s 191us/step - loss: 0.7218 - acc: 0.6390\n",
            "Epoch 7/40\n",
            "2000/2000 [==============================] - 0s 233us/step - loss: 0.7144 - acc: 0.6340\n",
            "Epoch 8/40\n",
            "2000/2000 [==============================] - 0s 238us/step - loss: 0.7185 - acc: 0.6300\n",
            "Epoch 9/40\n",
            "2000/2000 [==============================] - 0s 235us/step - loss: 0.7138 - acc: 0.6275\n",
            "Epoch 10/40\n",
            "2000/2000 [==============================] - 0s 233us/step - loss: 0.6974 - acc: 0.6440\n",
            "Epoch 11/40\n",
            "2000/2000 [==============================] - 0s 229us/step - loss: 0.7234 - acc: 0.6245\n",
            "Epoch 12/40\n",
            "2000/2000 [==============================] - 0s 227us/step - loss: 0.7147 - acc: 0.6390\n",
            "Epoch 13/40\n",
            "2000/2000 [==============================] - 0s 231us/step - loss: 0.7125 - acc: 0.6275\n",
            "Epoch 14/40\n",
            "2000/2000 [==============================] - 0s 234us/step - loss: 0.6999 - acc: 0.6325\n",
            "Epoch 15/40\n",
            "2000/2000 [==============================] - 0s 220us/step - loss: 0.7154 - acc: 0.6235\n",
            "Epoch 16/40\n",
            "2000/2000 [==============================] - 0s 218us/step - loss: 0.7056 - acc: 0.6500\n",
            "Epoch 17/40\n",
            "2000/2000 [==============================] - 0s 225us/step - loss: 0.7048 - acc: 0.6385\n",
            "Epoch 18/40\n",
            "2000/2000 [==============================] - 0s 234us/step - loss: 0.7021 - acc: 0.6515\n",
            "Epoch 19/40\n",
            "2000/2000 [==============================] - 0s 232us/step - loss: 0.7159 - acc: 0.6275\n",
            "Epoch 20/40\n",
            "2000/2000 [==============================] - 0s 230us/step - loss: 0.7031 - acc: 0.6355\n",
            "Epoch 21/40\n",
            "2000/2000 [==============================] - 0s 222us/step - loss: 0.6979 - acc: 0.6420\n",
            "Epoch 22/40\n",
            "2000/2000 [==============================] - 0s 224us/step - loss: 0.6957 - acc: 0.6475\n",
            "Epoch 23/40\n",
            "2000/2000 [==============================] - 0s 238us/step - loss: 0.6948 - acc: 0.6450\n",
            "Epoch 24/40\n",
            "2000/2000 [==============================] - 0s 234us/step - loss: 0.7032 - acc: 0.6335\n",
            "Epoch 25/40\n",
            "2000/2000 [==============================] - 0s 238us/step - loss: 0.6969 - acc: 0.6405\n",
            "Epoch 26/40\n",
            "2000/2000 [==============================] - 0s 233us/step - loss: 0.6932 - acc: 0.6380\n",
            "Epoch 27/40\n",
            "2000/2000 [==============================] - 0s 230us/step - loss: 0.6877 - acc: 0.6540\n",
            "Epoch 28/40\n",
            "2000/2000 [==============================] - 0s 238us/step - loss: 0.6864 - acc: 0.6435\n",
            "Epoch 29/40\n",
            "2000/2000 [==============================] - 0s 250us/step - loss: 0.6897 - acc: 0.6520\n",
            "Epoch 30/40\n",
            "2000/2000 [==============================] - 1s 254us/step - loss: 0.6978 - acc: 0.6590\n",
            "Epoch 31/40\n",
            "2000/2000 [==============================] - 0s 235us/step - loss: 0.6787 - acc: 0.6450\n",
            "Epoch 32/40\n",
            "2000/2000 [==============================] - 0s 233us/step - loss: 0.6802 - acc: 0.6710\n",
            "Epoch 33/40\n",
            "2000/2000 [==============================] - 0s 235us/step - loss: 0.6779 - acc: 0.6590\n",
            "Epoch 34/40\n",
            "2000/2000 [==============================] - 0s 238us/step - loss: 0.6792 - acc: 0.6585\n",
            "Epoch 35/40\n",
            "2000/2000 [==============================] - 0s 230us/step - loss: 0.6847 - acc: 0.6550\n",
            "Epoch 36/40\n",
            "2000/2000 [==============================] - 0s 235us/step - loss: 0.6693 - acc: 0.6555\n",
            "Epoch 37/40\n",
            "2000/2000 [==============================] - 0s 244us/step - loss: 0.6706 - acc: 0.6560\n",
            "Epoch 38/40\n",
            "2000/2000 [==============================] - 1s 250us/step - loss: 0.6630 - acc: 0.6630\n",
            "Epoch 39/40\n",
            "2000/2000 [==============================] - 0s 247us/step - loss: 0.6767 - acc: 0.6455\n",
            "Epoch 40/40\n",
            "2000/2000 [==============================] - 0s 246us/step - loss: 0.6719 - acc: 0.6490\n"
          ],
          "name": "stdout"
        },
        {
          "output_type": "execute_result",
          "data": {
            "text/plain": [
              "<keras.callbacks.History at 0x7effe76378d0>"
            ]
          },
          "metadata": {
            "tags": []
          },
          "execution_count": 14
        }
      ]
    },
    {
      "metadata": {
        "id": "cxuEbDd--1hp",
        "colab_type": "code",
        "colab": {
          "base_uri": "https://localhost:8080/",
          "height": 51
        },
        "outputId": "b4535369-35f0-4502-9c37-a2d398b31e38"
      },
      "cell_type": "code",
      "source": [
        "[i for i in zip(model.metrics_names,model.evaluate(X_test, Y_test))]\n",
        "# interpretation of the above quantities, meaning that outcome is not as good, since the model may learn the position"
      ],
      "execution_count": 15,
      "outputs": [
        {
          "output_type": "stream",
          "text": [
            "2000/2000 [==============================] - 0s 115us/step\n"
          ],
          "name": "stdout"
        },
        {
          "output_type": "execute_result",
          "data": {
            "text/plain": [
              "[('loss', 0.6758294506072998), ('acc', 0.658)]"
            ]
          },
          "metadata": {
            "tags": []
          },
          "execution_count": 15
        }
      ]
    },
    {
      "metadata": {
        "id": "6easKgpp-1ht",
        "colab_type": "text"
      },
      "cell_type": "markdown",
      "source": [
        "# Second Model - CNN\n"
      ]
    },
    {
      "metadata": {
        "id": "67tX1_h--1hu",
        "colab_type": "code",
        "colab": {}
      },
      "cell_type": "code",
      "source": [
        "X_train_img=X_train.reshape(-1,1,72,72)\n",
        "X_test_img=X_test.reshape(-1,1,72,72)"
      ],
      "execution_count": 0,
      "outputs": []
    },
    {
      "metadata": {
        "id": "ZNw_0cNT-1hw",
        "colab_type": "code",
        "colab": {}
      },
      "cell_type": "code",
      "source": [
        "\n",
        "model = Sequential()\n",
        "model.add(Conv2D(32, (5, 5), activation='relu',\n",
        "          input_shape=(1,72,72),data_format='channels_first'))\n",
        "model.add(MaxPooling2D(pool_size=(2, 2)))\n",
        "model.add(Dropout(0.25))\n",
        "model.add(Flatten())\n",
        "model.add(Dense(128, activation='relu'))\n",
        "model.add(Dropout(0.5)) \n",
        "model.add(Dense(3, activation='softmax'))\n",
        "\n",
        "model.compile(loss='categorical_crossentropy',\n",
        "              optimizer='adam',\n",
        "              metrics=['accuracy'])\n",
        "# define a better model"
      ],
      "execution_count": 0,
      "outputs": []
    },
    {
      "metadata": {
        "id": "D6ZXzowa-1hx",
        "colab_type": "code",
        "colab": {
          "base_uri": "https://localhost:8080/",
          "height": 34
        },
        "outputId": "e9d87629-f125-421c-eab5-6f601cb77863"
      },
      "cell_type": "code",
      "source": [
        "[i for i in map(np.shape,model.get_weights())]"
      ],
      "execution_count": 18,
      "outputs": [
        {
          "output_type": "execute_result",
          "data": {
            "text/plain": [
              "[(5, 5, 1, 32), (32,), (36992, 128), (128,), (128, 3), (3,)]"
            ]
          },
          "metadata": {
            "tags": []
          },
          "execution_count": 18
        }
      ]
    },
    {
      "metadata": {
        "id": "WiNtbob9-1h0",
        "colab_type": "code",
        "colab": {
          "base_uri": "https://localhost:8080/",
          "height": 374
        },
        "outputId": "a909c812-3dba-40eb-82dd-b2024ae80568"
      },
      "cell_type": "code",
      "source": [
        "model.fit(X_train_img, Y_train, batch_size=32, epochs=10, verbose=1)"
      ],
      "execution_count": 19,
      "outputs": [
        {
          "output_type": "stream",
          "text": [
            "Epoch 1/10\n",
            "2000/2000 [==============================] - 45s 22ms/step - loss: 1.4260 - acc: 0.5235\n",
            "Epoch 2/10\n",
            "2000/2000 [==============================] - 44s 22ms/step - loss: 0.6897 - acc: 0.6990\n",
            "Epoch 3/10\n",
            "2000/2000 [==============================] - 44s 22ms/step - loss: 0.5838 - acc: 0.7555\n",
            "Epoch 4/10\n",
            "2000/2000 [==============================] - 44s 22ms/step - loss: 0.4889 - acc: 0.8115\n",
            "Epoch 5/10\n",
            "2000/2000 [==============================] - 44s 22ms/step - loss: 0.3794 - acc: 0.8750\n",
            "Epoch 6/10\n",
            "2000/2000 [==============================] - 44s 22ms/step - loss: 0.2737 - acc: 0.9085\n",
            "Epoch 7/10\n",
            "2000/2000 [==============================] - 44s 22ms/step - loss: 0.2159 - acc: 0.9310\n",
            "Epoch 8/10\n",
            "2000/2000 [==============================] - 44s 22ms/step - loss: 0.1614 - acc: 0.9550\n",
            "Epoch 9/10\n",
            "2000/2000 [==============================] - 44s 22ms/step - loss: 0.1244 - acc: 0.9660\n",
            "Epoch 10/10\n",
            "2000/2000 [==============================] - 44s 22ms/step - loss: 0.1083 - acc: 0.9690\n"
          ],
          "name": "stdout"
        },
        {
          "output_type": "execute_result",
          "data": {
            "text/plain": [
              "<keras.callbacks.History at 0x7effe7587a58>"
            ]
          },
          "metadata": {
            "tags": []
          },
          "execution_count": 19
        }
      ]
    },
    {
      "metadata": {
        "id": "maEc4kAW-1h3",
        "colab_type": "code",
        "colab": {
          "base_uri": "https://localhost:8080/",
          "height": 51
        },
        "outputId": "1e2d33a9-38a8-4cd6-a69d-d11b3eae91da"
      },
      "cell_type": "code",
      "source": [
        "model.evaluate(X_test_img, Y_test)\n",
        "# large epochs will cause overfitting"
      ],
      "execution_count": 20,
      "outputs": [
        {
          "output_type": "stream",
          "text": [
            "2000/2000 [==============================] - 27s 13ms/step\n"
          ],
          "name": "stdout"
        },
        {
          "output_type": "execute_result",
          "data": {
            "text/plain": [
              "[0.3654655305147171, 0.865]"
            ]
          },
          "metadata": {
            "tags": []
          },
          "execution_count": 20
        }
      ]
    },
    {
      "metadata": {
        "id": "sbav93OM-1h6",
        "colab_type": "text"
      },
      "cell_type": "markdown",
      "source": [
        "# Regression Model\n"
      ]
    },
    {
      "metadata": {
        "id": "qCtIY5hf-1h6",
        "colab_type": "code",
        "colab": {}
      },
      "cell_type": "code",
      "source": [
        ""
      ],
      "execution_count": 0,
      "outputs": []
    },
    {
      "metadata": {
        "scrolled": true,
        "id": "2tEH-ltQ-1h8",
        "colab_type": "code",
        "colab": {
          "base_uri": "https://localhost:8080/",
          "height": 698
        },
        "outputId": "5f706aea-bba7-4b15-dc67-a61d70b915a2"
      },
      "cell_type": "code",
      "source": [
        "[X_train_reg, Y_train_reg] = generate_dataset_regression(1000, 20)\n",
        "[X_test_reg, Y_test_reg] = generate_dataset_regression(1000, 20)\n",
        "visualize_prediction(X_train_reg[0], Y_train_reg[0])"
      ],
      "execution_count": 3,
      "outputs": [
        {
          "output_type": "stream",
          "text": [
            "Creating data:\n",
            "100\n",
            "200\n",
            "300\n",
            "400\n",
            "500\n",
            "600\n",
            "700\n",
            "800\n",
            "900\n",
            "1000\n",
            "Creating data:\n",
            "100\n",
            "200\n",
            "300\n",
            "400\n",
            "500\n",
            "600\n",
            "700\n",
            "800\n",
            "900\n",
            "1000\n"
          ],
          "name": "stdout"
        },
        {
          "output_type": "display_data",
          "data": {
            "image/png": "[encoded data removed]",
            "text/plain": [
              "<matplotlib.figure.Figure at 0x7f681d421588>"
            ]
          },
          "metadata": {
            "tags": []
          }
        }
      ]
    },
    {
      "metadata": {
        "id": "mLAxe1KB-1h-",
        "colab_type": "code",
        "colab": {}
      },
      "cell_type": "code",
      "source": [
        "X_train_reg_img=X_train_reg.reshape(-1,1,72,72)\n",
        "X_test_reg_img=X_test_reg.reshape(-1,1,72,72)"
      ],
      "execution_count": 0,
      "outputs": []
    },
    {
      "metadata": {
        "id": "AispFU2U-1iA",
        "colab_type": "code",
        "colab": {}
      },
      "cell_type": "code",
      "source": [
        "\n",
        "model = Sequential([\n",
        "        Flatten(input_shape=(1,72,72),data_format='channels_first'),\n",
        "        Dense(200, activation='relu'),\n",
        "        Dropout(0.2), \n",
        "        Dense(200, activation='relu'),\n",
        "        Dropout(0.2), \n",
        "        Dense(200, activation='relu'),\n",
        "        Dropout(0.2), \n",
        "        Dense(6)\n",
        "    ])\n",
        "model.compile('adadelta', 'mse')"
      ],
      "execution_count": 0,
      "outputs": []
    },
    {
      "metadata": {
        "scrolled": true,
        "id": "KdOCWqX0-1iC",
        "colab_type": "code",
        "colab": {
          "base_uri": "https://localhost:8080/",
          "height": 6834
        },
        "outputId": "438c6ea9-4756-44ed-97f8-601c57c440ed"
      },
      "cell_type": "code",
      "source": [
        "model.fit(X_train_reg_img, Y_train_reg, batch_size=32, epochs=200, verbose=1)"
      ],
      "execution_count": 9,
      "outputs": [
        {
          "output_type": "stream",
          "text": [
            "Epoch 1/200\n",
            "1000/1000 [==============================] - 1s 615us/step - loss: 0.7189\n",
            "Epoch 2/200\n",
            "1000/1000 [==============================] - 0s 278us/step - loss: 0.1544\n",
            "Epoch 3/200\n",
            "1000/1000 [==============================] - 0s 290us/step - loss: 0.1654\n",
            "Epoch 4/200\n",
            "1000/1000 [==============================] - 0s 273us/step - loss: 0.0944\n",
            "Epoch 5/200\n",
            "1000/1000 [==============================] - 0s 267us/step - loss: 0.0869\n",
            "Epoch 6/200\n",
            "1000/1000 [==============================] - 0s 273us/step - loss: 0.0866\n",
            "Epoch 7/200\n",
            "1000/1000 [==============================] - 0s 279us/step - loss: 0.0861\n",
            "Epoch 8/200\n",
            "1000/1000 [==============================] - 0s 272us/step - loss: 0.0866\n",
            "Epoch 9/200\n",
            "1000/1000 [==============================] - 0s 268us/step - loss: 0.0860\n",
            "Epoch 10/200\n",
            "1000/1000 [==============================] - 0s 272us/step - loss: 0.0858\n",
            "Epoch 11/200\n",
            "1000/1000 [==============================] - 0s 273us/step - loss: 0.0856\n",
            "Epoch 12/200\n",
            "1000/1000 [==============================] - 0s 268us/step - loss: 0.0858\n",
            "Epoch 13/200\n",
            "1000/1000 [==============================] - 0s 271us/step - loss: 0.0848\n",
            "Epoch 14/200\n",
            "1000/1000 [==============================] - 0s 297us/step - loss: 0.0851\n",
            "Epoch 15/200\n",
            "1000/1000 [==============================] - 0s 273us/step - loss: 0.0851\n",
            "Epoch 16/200\n",
            "1000/1000 [==============================] - 0s 270us/step - loss: 0.0851\n",
            "Epoch 17/200\n",
            "1000/1000 [==============================] - 0s 270us/step - loss: 0.0851\n",
            "Epoch 18/200\n",
            "1000/1000 [==============================] - 0s 277us/step - loss: 0.0846\n",
            "Epoch 19/200\n",
            "1000/1000 [==============================] - 0s 278us/step - loss: 0.0844\n",
            "Epoch 20/200\n",
            "1000/1000 [==============================] - 0s 272us/step - loss: 0.0838\n",
            "Epoch 21/200\n",
            "1000/1000 [==============================] - 0s 272us/step - loss: 0.0842\n",
            "Epoch 22/200\n",
            "1000/1000 [==============================] - 0s 279us/step - loss: 0.0843\n",
            "Epoch 23/200\n",
            "1000/1000 [==============================] - 0s 276us/step - loss: 0.0839\n",
            "Epoch 24/200\n",
            "1000/1000 [==============================] - 0s 269us/step - loss: 0.0838\n",
            "Epoch 25/200\n",
            "1000/1000 [==============================] - 0s 280us/step - loss: 0.0842\n",
            "Epoch 26/200\n",
            "1000/1000 [==============================] - 0s 268us/step - loss: 0.0835\n",
            "Epoch 27/200\n",
            "1000/1000 [==============================] - 0s 273us/step - loss: 0.0838\n",
            "Epoch 28/200\n",
            "1000/1000 [==============================] - 0s 268us/step - loss: 0.0840\n",
            "Epoch 29/200\n",
            "1000/1000 [==============================] - 0s 277us/step - loss: 0.0837\n",
            "Epoch 30/200\n",
            "1000/1000 [==============================] - 0s 268us/step - loss: 0.0841\n",
            "Epoch 31/200\n",
            "1000/1000 [==============================] - 0s 277us/step - loss: 0.0834\n",
            "Epoch 32/200\n",
            "1000/1000 [==============================] - 0s 270us/step - loss: 0.0833\n",
            "Epoch 33/200\n",
            "1000/1000 [==============================] - 0s 287us/step - loss: 0.0833\n",
            "Epoch 34/200\n",
            "1000/1000 [==============================] - 0s 268us/step - loss: 0.0831\n",
            "Epoch 35/200\n",
            "1000/1000 [==============================] - 0s 266us/step - loss: 0.0836\n",
            "Epoch 36/200\n",
            "1000/1000 [==============================] - 0s 270us/step - loss: 0.0832\n",
            "Epoch 37/200\n",
            "1000/1000 [==============================] - 0s 282us/step - loss: 0.0834\n",
            "Epoch 38/200\n",
            "1000/1000 [==============================] - 0s 266us/step - loss: 0.0836\n",
            "Epoch 39/200\n",
            "1000/1000 [==============================] - 0s 267us/step - loss: 0.0835\n",
            "Epoch 40/200\n",
            "1000/1000 [==============================] - 0s 276us/step - loss: 0.0835\n",
            "Epoch 41/200\n",
            "1000/1000 [==============================] - 0s 269us/step - loss: 0.0835\n",
            "Epoch 42/200\n",
            "1000/1000 [==============================] - 0s 269us/step - loss: 0.0834\n",
            "Epoch 43/200\n",
            "1000/1000 [==============================] - 0s 273us/step - loss: 0.0831\n",
            "Epoch 44/200\n",
            "1000/1000 [==============================] - 0s 277us/step - loss: 0.0834\n",
            "Epoch 45/200\n",
            "1000/1000 [==============================] - 0s 270us/step - loss: 0.0829\n",
            "Epoch 46/200\n",
            "1000/1000 [==============================] - 0s 264us/step - loss: 0.0831\n",
            "Epoch 47/200\n",
            "1000/1000 [==============================] - 0s 275us/step - loss: 0.0833\n",
            "Epoch 48/200\n",
            "1000/1000 [==============================] - 0s 287us/step - loss: 0.0826\n",
            "Epoch 49/200\n",
            "1000/1000 [==============================] - 0s 268us/step - loss: 0.0832\n",
            "Epoch 50/200\n",
            "1000/1000 [==============================] - 0s 270us/step - loss: 0.0826\n",
            "Epoch 51/200\n",
            "1000/1000 [==============================] - 0s 266us/step - loss: 0.0829\n",
            "Epoch 52/200\n",
            "1000/1000 [==============================] - 0s 279us/step - loss: 0.0829\n",
            "Epoch 53/200\n",
            "1000/1000 [==============================] - 0s 269us/step - loss: 0.0829\n",
            "Epoch 54/200\n",
            "1000/1000 [==============================] - 0s 263us/step - loss: 0.0828\n",
            "Epoch 55/200\n",
            "1000/1000 [==============================] - 0s 292us/step - loss: 0.0836\n",
            "Epoch 56/200\n",
            "1000/1000 [==============================] - 0s 280us/step - loss: 0.0831\n",
            "Epoch 57/200\n",
            "1000/1000 [==============================] - 0s 266us/step - loss: 0.0827\n",
            "Epoch 58/200\n",
            "1000/1000 [==============================] - 0s 264us/step - loss: 0.0834\n",
            "Epoch 59/200\n",
            "1000/1000 [==============================] - 0s 276us/step - loss: 0.0827\n",
            "Epoch 60/200\n",
            "1000/1000 [==============================] - 0s 268us/step - loss: 0.0829\n",
            "Epoch 61/200\n",
            "1000/1000 [==============================] - 0s 270us/step - loss: 0.0831\n",
            "Epoch 62/200\n",
            "1000/1000 [==============================] - 0s 273us/step - loss: 0.0828\n",
            "Epoch 63/200\n",
            "1000/1000 [==============================] - 0s 277us/step - loss: 0.0829\n",
            "Epoch 64/200\n",
            "1000/1000 [==============================] - 0s 268us/step - loss: 0.0830\n",
            "Epoch 65/200\n",
            "1000/1000 [==============================] - 0s 268us/step - loss: 0.0827\n",
            "Epoch 66/200\n",
            "1000/1000 [==============================] - 0s 265us/step - loss: 0.0831\n",
            "Epoch 67/200\n",
            "1000/1000 [==============================] - 0s 287us/step - loss: 0.0829\n",
            "Epoch 68/200\n",
            "1000/1000 [==============================] - 0s 272us/step - loss: 0.0828\n",
            "Epoch 69/200\n",
            "1000/1000 [==============================] - 0s 268us/step - loss: 0.0828\n",
            "Epoch 70/200\n",
            "1000/1000 [==============================] - 0s 276us/step - loss: 0.0829\n",
            "Epoch 71/200\n",
            "1000/1000 [==============================] - 0s 268us/step - loss: 0.0830\n",
            "Epoch 72/200\n",
            "1000/1000 [==============================] - 0s 268us/step - loss: 0.0829\n",
            "Epoch 73/200\n",
            "1000/1000 [==============================] - 0s 265us/step - loss: 0.0828\n",
            "Epoch 74/200\n",
            "1000/1000 [==============================] - 0s 279us/step - loss: 0.0827\n",
            "Epoch 75/200\n",
            "1000/1000 [==============================] - 0s 265us/step - loss: 0.0821\n",
            "Epoch 76/200\n",
            "1000/1000 [==============================] - 0s 270us/step - loss: 0.0831\n",
            "Epoch 77/200\n",
            "1000/1000 [==============================] - 0s 267us/step - loss: 0.0828\n",
            "Epoch 78/200\n",
            "1000/1000 [==============================] - 0s 283us/step - loss: 0.0826\n",
            "Epoch 79/200\n",
            "1000/1000 [==============================] - 0s 264us/step - loss: 0.0828\n",
            "Epoch 80/200\n",
            "1000/1000 [==============================] - 0s 267us/step - loss: 0.0824\n",
            "Epoch 81/200\n",
            "1000/1000 [==============================] - 0s 274us/step - loss: 0.0827\n",
            "Epoch 82/200\n",
            "1000/1000 [==============================] - 0s 275us/step - loss: 0.0828\n",
            "Epoch 83/200\n",
            "1000/1000 [==============================] - 0s 266us/step - loss: 0.0828\n",
            "Epoch 84/200\n",
            "1000/1000 [==============================] - 0s 270us/step - loss: 0.0824\n",
            "Epoch 85/200\n",
            "1000/1000 [==============================] - 0s 285us/step - loss: 0.0826\n",
            "Epoch 86/200\n",
            "1000/1000 [==============================] - 0s 267us/step - loss: 0.0826\n",
            "Epoch 87/200\n",
            "1000/1000 [==============================] - 0s 269us/step - loss: 0.0826\n",
            "Epoch 88/200\n",
            "1000/1000 [==============================] - 0s 267us/step - loss: 0.0824\n",
            "Epoch 89/200\n",
            "1000/1000 [==============================] - 0s 275us/step - loss: 0.0823\n",
            "Epoch 90/200\n",
            "1000/1000 [==============================] - 0s 267us/step - loss: 0.0827\n",
            "Epoch 91/200\n",
            "1000/1000 [==============================] - 0s 268us/step - loss: 0.0829\n",
            "Epoch 92/200\n",
            "1000/1000 [==============================] - 0s 270us/step - loss: 0.0827\n",
            "Epoch 93/200\n",
            "1000/1000 [==============================] - 0s 277us/step - loss: 0.0824\n",
            "Epoch 94/200\n",
            "1000/1000 [==============================] - 0s 274us/step - loss: 0.0826\n",
            "Epoch 95/200\n",
            "1000/1000 [==============================] - 0s 263us/step - loss: 0.0827\n",
            "Epoch 96/200\n",
            "1000/1000 [==============================] - 0s 272us/step - loss: 0.0826\n",
            "Epoch 97/200\n",
            "1000/1000 [==============================] - 0s 273us/step - loss: 0.0825\n",
            "Epoch 98/200\n",
            "1000/1000 [==============================] - 0s 270us/step - loss: 0.0824\n",
            "Epoch 99/200\n",
            "1000/1000 [==============================] - 0s 269us/step - loss: 0.0824\n",
            "Epoch 100/200\n",
            "1000/1000 [==============================] - 0s 274us/step - loss: 0.0825\n",
            "Epoch 101/200\n",
            "1000/1000 [==============================] - 0s 266us/step - loss: 0.0827\n",
            "Epoch 102/200\n",
            "1000/1000 [==============================] - 0s 270us/step - loss: 0.0827\n",
            "Epoch 103/200\n",
            "1000/1000 [==============================] - 0s 280us/step - loss: 0.0824\n",
            "Epoch 104/200\n",
            "1000/1000 [==============================] - 0s 285us/step - loss: 0.0825\n",
            "Epoch 105/200\n",
            "1000/1000 [==============================] - 0s 267us/step - loss: 0.0826\n",
            "Epoch 106/200\n",
            "1000/1000 [==============================] - 0s 266us/step - loss: 0.0825\n",
            "Epoch 107/200\n",
            "1000/1000 [==============================] - 0s 267us/step - loss: 0.0829\n",
            "Epoch 108/200\n",
            "1000/1000 [==============================] - 0s 279us/step - loss: 0.0824\n",
            "Epoch 109/200\n",
            "1000/1000 [==============================] - 0s 268us/step - loss: 0.0825\n",
            "Epoch 110/200\n",
            "1000/1000 [==============================] - 0s 271us/step - loss: 0.0827\n",
            "Epoch 111/200\n",
            "1000/1000 [==============================] - 0s 269us/step - loss: 0.0825\n",
            "Epoch 112/200\n",
            "1000/1000 [==============================] - 0s 277us/step - loss: 0.0823\n",
            "Epoch 113/200\n",
            "1000/1000 [==============================] - 0s 266us/step - loss: 0.0826\n",
            "Epoch 114/200\n",
            "1000/1000 [==============================] - 0s 269us/step - loss: 0.0823\n",
            "Epoch 115/200\n",
            "1000/1000 [==============================] - 0s 276us/step - loss: 0.0827\n",
            "Epoch 116/200\n",
            "1000/1000 [==============================] - 0s 266us/step - loss: 0.0825\n",
            "Epoch 117/200\n",
            "1000/1000 [==============================] - 0s 265us/step - loss: 0.0823\n",
            "Epoch 118/200\n",
            "1000/1000 [==============================] - 0s 271us/step - loss: 0.0824\n",
            "Epoch 119/200\n",
            "1000/1000 [==============================] - 0s 287us/step - loss: 0.0823\n",
            "Epoch 120/200\n",
            "1000/1000 [==============================] - 0s 263us/step - loss: 0.0826\n",
            "Epoch 121/200\n",
            "1000/1000 [==============================] - 0s 273us/step - loss: 0.0825\n",
            "Epoch 122/200\n",
            "1000/1000 [==============================] - 0s 268us/step - loss: 0.0821\n",
            "Epoch 123/200\n",
            "1000/1000 [==============================] - 0s 275us/step - loss: 0.0828\n",
            "Epoch 124/200\n",
            "1000/1000 [==============================] - 0s 269us/step - loss: 0.0824\n",
            "Epoch 125/200\n",
            "1000/1000 [==============================] - 0s 269us/step - loss: 0.0822\n",
            "Epoch 126/200\n",
            "1000/1000 [==============================] - 0s 267us/step - loss: 0.0824\n",
            "Epoch 127/200\n",
            "1000/1000 [==============================] - 0s 273us/step - loss: 0.0824\n",
            "Epoch 128/200\n",
            "1000/1000 [==============================] - 0s 266us/step - loss: 0.0824\n",
            "Epoch 129/200\n",
            "1000/1000 [==============================] - 0s 272us/step - loss: 0.0823\n",
            "Epoch 130/200\n",
            "1000/1000 [==============================] - 0s 267us/step - loss: 0.0824\n",
            "Epoch 131/200\n",
            "1000/1000 [==============================] - 0s 272us/step - loss: 0.0825\n",
            "Epoch 132/200\n",
            "1000/1000 [==============================] - 0s 267us/step - loss: 0.0824\n",
            "Epoch 133/200\n",
            "1000/1000 [==============================] - 0s 272us/step - loss: 0.0824\n",
            "Epoch 134/200\n",
            "1000/1000 [==============================] - 0s 281us/step - loss: 0.0823\n",
            "Epoch 135/200\n",
            "1000/1000 [==============================] - 0s 266us/step - loss: 0.0823\n",
            "Epoch 136/200\n",
            "1000/1000 [==============================] - 0s 267us/step - loss: 0.0824\n",
            "Epoch 137/200\n",
            "1000/1000 [==============================] - 0s 274us/step - loss: 0.0824\n",
            "Epoch 138/200\n",
            "1000/1000 [==============================] - 0s 277us/step - loss: 0.0825\n",
            "Epoch 139/200\n",
            "1000/1000 [==============================] - 0s 267us/step - loss: 0.0825\n",
            "Epoch 140/200\n",
            "1000/1000 [==============================] - 0s 272us/step - loss: 0.0823\n",
            "Epoch 141/200\n",
            "1000/1000 [==============================] - 0s 269us/step - loss: 0.0823\n",
            "Epoch 142/200\n",
            "1000/1000 [==============================] - 0s 275us/step - loss: 0.0826\n",
            "Epoch 143/200\n",
            "1000/1000 [==============================] - 0s 281us/step - loss: 0.0827\n",
            "Epoch 144/200\n",
            "1000/1000 [==============================] - 0s 273us/step - loss: 0.0823\n",
            "Epoch 145/200\n",
            "1000/1000 [==============================] - 0s 283us/step - loss: 0.0824\n",
            "Epoch 146/200\n",
            "1000/1000 [==============================] - 0s 268us/step - loss: 0.0824\n",
            "Epoch 147/200\n",
            "1000/1000 [==============================] - 0s 271us/step - loss: 0.0827\n",
            "Epoch 148/200\n",
            "1000/1000 [==============================] - 0s 268us/step - loss: 0.0824\n",
            "Epoch 149/200\n",
            "1000/1000 [==============================] - 0s 278us/step - loss: 0.0824\n",
            "Epoch 150/200\n",
            "1000/1000 [==============================] - 0s 268us/step - loss: 0.0825\n",
            "Epoch 151/200\n",
            "1000/1000 [==============================] - 0s 266us/step - loss: 0.0823\n",
            "Epoch 152/200\n",
            "1000/1000 [==============================] - 0s 263us/step - loss: 0.0823\n",
            "Epoch 153/200\n",
            "1000/1000 [==============================] - 0s 275us/step - loss: 0.0825\n",
            "Epoch 154/200\n",
            "1000/1000 [==============================] - 0s 270us/step - loss: 0.0822\n",
            "Epoch 155/200\n",
            "1000/1000 [==============================] - 0s 267us/step - loss: 0.0827\n",
            "Epoch 156/200\n",
            "1000/1000 [==============================] - 0s 269us/step - loss: 0.0826\n",
            "Epoch 157/200\n",
            "1000/1000 [==============================] - 0s 274us/step - loss: 0.0824\n",
            "Epoch 158/200\n",
            "1000/1000 [==============================] - 0s 271us/step - loss: 0.0823\n",
            "Epoch 159/200\n",
            "1000/1000 [==============================] - 0s 266us/step - loss: 0.0824\n",
            "Epoch 160/200\n",
            "1000/1000 [==============================] - 0s 274us/step - loss: 0.0823\n",
            "Epoch 161/200\n",
            "1000/1000 [==============================] - 0s 276us/step - loss: 0.0825\n",
            "Epoch 162/200\n",
            "1000/1000 [==============================] - 0s 267us/step - loss: 0.0825\n",
            "Epoch 163/200\n",
            "1000/1000 [==============================] - 0s 274us/step - loss: 0.0825\n",
            "Epoch 164/200\n",
            "1000/1000 [==============================] - 0s 275us/step - loss: 0.0823\n",
            "Epoch 165/200\n",
            "1000/1000 [==============================] - 0s 266us/step - loss: 0.0822\n",
            "Epoch 166/200\n",
            "1000/1000 [==============================] - 0s 271us/step - loss: 0.0823\n",
            "Epoch 167/200\n",
            "1000/1000 [==============================] - 0s 272us/step - loss: 0.0823\n",
            "Epoch 168/200\n",
            "1000/1000 [==============================] - 0s 274us/step - loss: 0.0825\n",
            "Epoch 169/200\n",
            "1000/1000 [==============================] - 0s 271us/step - loss: 0.0821\n",
            "Epoch 170/200\n",
            "1000/1000 [==============================] - 0s 271us/step - loss: 0.0825\n",
            "Epoch 171/200\n",
            "1000/1000 [==============================] - 0s 271us/step - loss: 0.0825\n",
            "Epoch 172/200\n",
            "1000/1000 [==============================] - 0s 274us/step - loss: 0.0823\n",
            "Epoch 173/200\n",
            "1000/1000 [==============================] - 0s 272us/step - loss: 0.0827\n",
            "Epoch 174/200\n",
            "1000/1000 [==============================] - 0s 269us/step - loss: 0.0822\n",
            "Epoch 175/200\n",
            "1000/1000 [==============================] - 0s 263us/step - loss: 0.0823\n",
            "Epoch 176/200\n",
            "1000/1000 [==============================] - 0s 278us/step - loss: 0.0823\n",
            "Epoch 177/200\n",
            "1000/1000 [==============================] - 0s 268us/step - loss: 0.0822\n",
            "Epoch 178/200\n",
            "1000/1000 [==============================] - 0s 275us/step - loss: 0.0823\n",
            "Epoch 179/200\n",
            "1000/1000 [==============================] - 0s 276us/step - loss: 0.0824\n",
            "Epoch 180/200\n",
            "1000/1000 [==============================] - 0s 268us/step - loss: 0.0824\n",
            "Epoch 181/200\n",
            "1000/1000 [==============================] - 0s 271us/step - loss: 0.0825\n",
            "Epoch 182/200\n",
            "1000/1000 [==============================] - 0s 265us/step - loss: 0.0823\n",
            "Epoch 183/200\n",
            "1000/1000 [==============================] - 0s 282us/step - loss: 0.0823\n",
            "Epoch 184/200\n",
            "1000/1000 [==============================] - 0s 268us/step - loss: 0.0824\n",
            "Epoch 185/200\n",
            "1000/1000 [==============================] - 0s 269us/step - loss: 0.0827\n",
            "Epoch 186/200\n",
            "1000/1000 [==============================] - 0s 268us/step - loss: 0.0823\n",
            "Epoch 187/200\n",
            "1000/1000 [==============================] - 0s 275us/step - loss: 0.0822\n",
            "Epoch 188/200\n",
            "1000/1000 [==============================] - 0s 273us/step - loss: 0.0821\n",
            "Epoch 189/200\n",
            "1000/1000 [==============================] - 0s 269us/step - loss: 0.0823\n",
            "Epoch 190/200\n",
            "1000/1000 [==============================] - 0s 274us/step - loss: 0.0822\n",
            "Epoch 191/200\n",
            "1000/1000 [==============================] - 0s 287us/step - loss: 0.0824\n",
            "Epoch 192/200\n",
            "1000/1000 [==============================] - 0s 272us/step - loss: 0.0821\n",
            "Epoch 193/200\n",
            "1000/1000 [==============================] - 0s 267us/step - loss: 0.0823\n",
            "Epoch 194/200\n",
            "1000/1000 [==============================] - 0s 285us/step - loss: 0.0826\n",
            "Epoch 195/200\n",
            "1000/1000 [==============================] - 0s 266us/step - loss: 0.0825\n",
            "Epoch 196/200\n",
            "1000/1000 [==============================] - 0s 266us/step - loss: 0.0823\n",
            "Epoch 197/200\n",
            "1000/1000 [==============================] - 0s 275us/step - loss: 0.0823\n",
            "Epoch 198/200\n",
            "1000/1000 [==============================] - 0s 278us/step - loss: 0.0823\n",
            "Epoch 199/200\n",
            "1000/1000 [==============================] - 0s 268us/step - loss: 0.0823\n",
            "Epoch 200/200\n",
            "1000/1000 [==============================] - 0s 268us/step - loss: 0.0823\n"
          ],
          "name": "stdout"
        },
        {
          "output_type": "execute_result",
          "data": {
            "text/plain": [
              "<keras.callbacks.History at 0x7f680a0318d0>"
            ]
          },
          "metadata": {
            "tags": []
          },
          "execution_count": 9
        }
      ]
    },
    {
      "metadata": {
        "id": "u4oe4FwH-1iF",
        "colab_type": "code",
        "colab": {
          "base_uri": "https://localhost:8080/",
          "height": 51
        },
        "outputId": "e7204a95-f830-4685-88f7-ae73523342ac"
      },
      "cell_type": "code",
      "source": [
        "model.evaluate(X_test_reg_img, Y_test_reg)"
      ],
      "execution_count": 10,
      "outputs": [
        {
          "output_type": "stream",
          "text": [
            "1000/1000 [==============================] - 0s 142us/step\n"
          ],
          "name": "stdout"
        },
        {
          "output_type": "execute_result",
          "data": {
            "text/plain": [
              "0.08297324752807617"
            ]
          },
          "metadata": {
            "tags": []
          },
          "execution_count": 10
        }
      ]
    },
    {
      "metadata": {
        "id": "tnLdzTs7-1iJ",
        "colab_type": "code",
        "colab": {
          "base_uri": "https://localhost:8080/",
          "height": 361
        },
        "outputId": "00f2e755-90e5-4aa8-8a60-4f823a8db0a5"
      },
      "cell_type": "code",
      "source": [
        "t=30\n",
        "X_predict=X_test_reg[t].reshape(-1,5184)\n",
        "Y_true=Y_test_reg[t]\n",
        "Y_predict=model.predict(X_test_reg_img[t].reshape(-1,1,72,72))\n",
        "visualize_prediction(X_predict, Y_true, Y_predict)\n",
        "# Not working, trying other methods\n",
        "# notice that green line is the prediction result"
      ],
      "execution_count": 11,
      "outputs": [
        {
          "output_type": "stream",
          "text": [
            "/usr/local/lib/python3.6/dist-packages/ipykernel_launcher.py:129: DeprecationWarning: elementwise != comparison failed; this will raise an error in the future.\n"
          ],
          "name": "stderr"
        },
        {
          "output_type": "display_data",
          "data": {
            "image/png": "[encoded data removed]",
            "text/plain": [
              "<matplotlib.figure.Figure at 0x7f6840da5f60>"
            ]
          },
          "metadata": {
            "tags": []
          }
        }
      ]
    },
    {
      "metadata": {
        "id": "Oc-JlTAB-1iL",
        "colab_type": "text"
      },
      "cell_type": "markdown",
      "source": [
        "# Normalize Y"
      ]
    },
    {
      "metadata": {
        "id": "bxYH9Ypr-1iM",
        "colab_type": "code",
        "colab": {}
      },
      "cell_type": "code",
      "source": [
        "def nml(z):\n",
        "    z=z.reshape(-1,3,2)\n",
        "    for i in range(z.shape[0]):\n",
        "        if np.cross(z[i,2]-z[i,0],z[i,1]-z[i,0])>0:\n",
        "            z[i]=z[i,[0, 2, 1]]\n",
        "    return z.reshape(-1,6)\n",
        "\n",
        "Y_train_reg=nml(Y_train_reg)\n",
        "Y_test_reg=nml(Y_test_reg)\n",
        "# arranging data clockwise"
      ],
      "execution_count": 0,
      "outputs": []
    },
    {
      "metadata": {
        "id": "0Nyco5cl-1iO",
        "colab_type": "code",
        "colab": {}
      },
      "cell_type": "code",
      "source": [
        "sgd = SGD(lr=0.01,\n",
        "          decay=1e-6, momentum=0.9, clipnorm=1.,\n",
        "          nesterov=True)\n",
        "model = Sequential([\n",
        "        Flatten(input_shape=(1,72,72),data_format='channels_first'),\n",
        "        Dense(200, activation='relu'),\n",
        "        Dropout(0.2), \n",
        "        Dense(6)\n",
        "    ])\n",
        "model.compile(sgd, 'mse')"
      ],
      "execution_count": 0,
      "outputs": []
    },
    {
      "metadata": {
        "scrolled": true,
        "id": "-zJFKyzy-1iQ",
        "colab_type": "code",
        "colab": {
          "base_uri": "https://localhost:8080/",
          "height": 6834
        },
        "outputId": "7bf930ae-cd47-4f4c-bd24-0d7676e1dddd"
      },
      "cell_type": "code",
      "source": [
        "model.fit(X_train_reg_img, Y_train_reg, batch_size=32, epochs=200, verbose=1)\n",
        "# training could be run several times\n",
        "# "
      ],
      "execution_count": 15,
      "outputs": [
        {
          "output_type": "stream",
          "text": [
            "Epoch 1/200\n",
            "1000/1000 [==============================] - 0s 190us/step - loss: 0.0672\n",
            "Epoch 2/200\n",
            "1000/1000 [==============================] - 0s 178us/step - loss: 0.0672\n",
            "Epoch 3/200\n",
            "1000/1000 [==============================] - 0s 193us/step - loss: 0.0677\n",
            "Epoch 4/200\n",
            "1000/1000 [==============================] - 0s 188us/step - loss: 0.0676\n",
            "Epoch 5/200\n",
            "1000/1000 [==============================] - 0s 183us/step - loss: 0.0671\n",
            "Epoch 6/200\n",
            "1000/1000 [==============================] - 0s 181us/step - loss: 0.0669\n",
            "Epoch 7/200\n",
            "1000/1000 [==============================] - 0s 182us/step - loss: 0.0665\n",
            "Epoch 8/200\n",
            "1000/1000 [==============================] - 0s 184us/step - loss: 0.0671\n",
            "Epoch 9/200\n",
            "1000/1000 [==============================] - 0s 185us/step - loss: 0.0678\n",
            "Epoch 10/200\n",
            "1000/1000 [==============================] - 0s 182us/step - loss: 0.0679\n",
            "Epoch 11/200\n",
            "1000/1000 [==============================] - 0s 179us/step - loss: 0.0678\n",
            "Epoch 12/200\n",
            "1000/1000 [==============================] - 0s 175us/step - loss: 0.0680\n",
            "Epoch 13/200\n",
            "1000/1000 [==============================] - 0s 184us/step - loss: 0.0679\n",
            "Epoch 14/200\n",
            "1000/1000 [==============================] - 0s 190us/step - loss: 0.0702\n",
            "Epoch 15/200\n",
            "1000/1000 [==============================] - 0s 185us/step - loss: 0.0683\n",
            "Epoch 16/200\n",
            "1000/1000 [==============================] - 0s 177us/step - loss: 0.0688\n",
            "Epoch 17/200\n",
            "1000/1000 [==============================] - 0s 176us/step - loss: 0.0683\n",
            "Epoch 18/200\n",
            "1000/1000 [==============================] - 0s 183us/step - loss: 0.0685\n",
            "Epoch 19/200\n",
            "1000/1000 [==============================] - 0s 179us/step - loss: 0.0679\n",
            "Epoch 20/200\n",
            "1000/1000 [==============================] - 0s 187us/step - loss: 0.0685\n",
            "Epoch 21/200\n",
            "1000/1000 [==============================] - 0s 180us/step - loss: 0.0682\n",
            "Epoch 22/200\n",
            "1000/1000 [==============================] - 0s 180us/step - loss: 0.0687\n",
            "Epoch 23/200\n",
            "1000/1000 [==============================] - 0s 181us/step - loss: 0.0683\n",
            "Epoch 24/200\n",
            "1000/1000 [==============================] - 0s 185us/step - loss: 0.0678\n",
            "Epoch 25/200\n",
            "1000/1000 [==============================] - 0s 192us/step - loss: 0.0677\n",
            "Epoch 26/200\n",
            "1000/1000 [==============================] - 0s 178us/step - loss: 0.0678\n",
            "Epoch 27/200\n",
            "1000/1000 [==============================] - 0s 176us/step - loss: 0.0695\n",
            "Epoch 28/200\n",
            "1000/1000 [==============================] - 0s 180us/step - loss: 0.0681\n",
            "Epoch 29/200\n",
            "1000/1000 [==============================] - 0s 180us/step - loss: 0.0674\n",
            "Epoch 30/200\n",
            "1000/1000 [==============================] - 0s 179us/step - loss: 0.0676\n",
            "Epoch 31/200\n",
            "1000/1000 [==============================] - 0s 193us/step - loss: 0.0680\n",
            "Epoch 32/200\n",
            "1000/1000 [==============================] - 0s 181us/step - loss: 0.0681\n",
            "Epoch 33/200\n",
            "1000/1000 [==============================] - 0s 182us/step - loss: 0.0674\n",
            "Epoch 34/200\n",
            "1000/1000 [==============================] - 0s 179us/step - loss: 0.0672\n",
            "Epoch 35/200\n",
            "1000/1000 [==============================] - 0s 182us/step - loss: 0.0685\n",
            "Epoch 36/200\n",
            "1000/1000 [==============================] - 0s 194us/step - loss: 0.0675\n",
            "Epoch 37/200\n",
            "1000/1000 [==============================] - 0s 184us/step - loss: 0.0668\n",
            "Epoch 38/200\n",
            "1000/1000 [==============================] - 0s 178us/step - loss: 0.0672\n",
            "Epoch 39/200\n",
            "1000/1000 [==============================] - 0s 179us/step - loss: 0.0671\n",
            "Epoch 40/200\n",
            "1000/1000 [==============================] - 0s 174us/step - loss: 0.0677\n",
            "Epoch 41/200\n",
            "1000/1000 [==============================] - 0s 178us/step - loss: 0.0684\n",
            "Epoch 42/200\n",
            "1000/1000 [==============================] - 0s 186us/step - loss: 0.0679\n",
            "Epoch 43/200\n",
            "1000/1000 [==============================] - 0s 179us/step - loss: 0.0671\n",
            "Epoch 44/200\n",
            "1000/1000 [==============================] - 0s 177us/step - loss: 0.0678\n",
            "Epoch 45/200\n",
            "1000/1000 [==============================] - 0s 178us/step - loss: 0.0671\n",
            "Epoch 46/200\n",
            "1000/1000 [==============================] - 0s 176us/step - loss: 0.0677\n",
            "Epoch 47/200\n",
            "1000/1000 [==============================] - 0s 183us/step - loss: 0.0673\n",
            "Epoch 48/200\n",
            "1000/1000 [==============================] - 0s 188us/step - loss: 0.0665\n",
            "Epoch 49/200\n",
            "1000/1000 [==============================] - 0s 180us/step - loss: 0.0670\n",
            "Epoch 50/200\n",
            "1000/1000 [==============================] - 0s 178us/step - loss: 0.0664\n",
            "Epoch 51/200\n",
            "1000/1000 [==============================] - 0s 181us/step - loss: 0.0667\n",
            "Epoch 52/200\n",
            "1000/1000 [==============================] - 0s 179us/step - loss: 0.0668\n",
            "Epoch 53/200\n",
            "1000/1000 [==============================] - 0s 188us/step - loss: 0.0664\n",
            "Epoch 54/200\n",
            "1000/1000 [==============================] - 0s 179us/step - loss: 0.0663\n",
            "Epoch 55/200\n",
            "1000/1000 [==============================] - 0s 180us/step - loss: 0.0665\n",
            "Epoch 56/200\n",
            "1000/1000 [==============================] - 0s 175us/step - loss: 0.0672\n",
            "Epoch 57/200\n",
            "1000/1000 [==============================] - 0s 180us/step - loss: 0.0667\n",
            "Epoch 58/200\n",
            "1000/1000 [==============================] - 0s 182us/step - loss: 0.0671\n",
            "Epoch 59/200\n",
            "1000/1000 [==============================] - 0s 204us/step - loss: 0.0668\n",
            "Epoch 60/200\n",
            "1000/1000 [==============================] - 0s 181us/step - loss: 0.0675\n",
            "Epoch 61/200\n",
            "1000/1000 [==============================] - 0s 178us/step - loss: 0.0676\n",
            "Epoch 62/200\n",
            "1000/1000 [==============================] - 0s 180us/step - loss: 0.0671\n",
            "Epoch 63/200\n",
            "1000/1000 [==============================] - 0s 179us/step - loss: 0.0660\n",
            "Epoch 64/200\n",
            "1000/1000 [==============================] - 0s 198us/step - loss: 0.0663\n",
            "Epoch 65/200\n",
            "1000/1000 [==============================] - 0s 185us/step - loss: 0.0666\n",
            "Epoch 66/200\n",
            "1000/1000 [==============================] - 0s 175us/step - loss: 0.0666\n",
            "Epoch 67/200\n",
            "1000/1000 [==============================] - 0s 177us/step - loss: 0.0662\n",
            "Epoch 68/200\n",
            "1000/1000 [==============================] - 0s 177us/step - loss: 0.0661\n",
            "Epoch 69/200\n",
            "1000/1000 [==============================] - 0s 179us/step - loss: 0.0666\n",
            "Epoch 70/200\n",
            "1000/1000 [==============================] - 0s 188us/step - loss: 0.0662\n",
            "Epoch 71/200\n",
            "1000/1000 [==============================] - 0s 175us/step - loss: 0.0662\n",
            "Epoch 72/200\n",
            "1000/1000 [==============================] - 0s 178us/step - loss: 0.0662\n",
            "Epoch 73/200\n",
            "1000/1000 [==============================] - 0s 179us/step - loss: 0.0661\n",
            "Epoch 74/200\n",
            "1000/1000 [==============================] - 0s 176us/step - loss: 0.0658\n",
            "Epoch 75/200\n",
            "1000/1000 [==============================] - 0s 184us/step - loss: 0.0659\n",
            "Epoch 76/200\n",
            "1000/1000 [==============================] - 0s 184us/step - loss: 0.0674\n",
            "Epoch 77/200\n",
            "1000/1000 [==============================] - 0s 180us/step - loss: 0.0660\n",
            "Epoch 78/200\n",
            "1000/1000 [==============================] - 0s 186us/step - loss: 0.0646\n",
            "Epoch 79/200\n",
            "1000/1000 [==============================] - 0s 183us/step - loss: 0.0693\n",
            "Epoch 80/200\n",
            "1000/1000 [==============================] - 0s 179us/step - loss: 0.0686\n",
            "Epoch 81/200\n",
            "1000/1000 [==============================] - 0s 188us/step - loss: 0.0655\n",
            "Epoch 82/200\n",
            "1000/1000 [==============================] - 0s 176us/step - loss: 0.0665\n",
            "Epoch 83/200\n",
            "1000/1000 [==============================] - 0s 182us/step - loss: 0.0663\n",
            "Epoch 84/200\n",
            "1000/1000 [==============================] - 0s 182us/step - loss: 0.0662\n",
            "Epoch 85/200\n",
            "1000/1000 [==============================] - 0s 182us/step - loss: 0.0661\n",
            "Epoch 86/200\n",
            "1000/1000 [==============================] - 0s 185us/step - loss: 0.0664\n",
            "Epoch 87/200\n",
            "1000/1000 [==============================] - 0s 194us/step - loss: 0.0657\n",
            "Epoch 88/200\n",
            "1000/1000 [==============================] - 0s 178us/step - loss: 0.0658\n",
            "Epoch 89/200\n",
            "1000/1000 [==============================] - 0s 185us/step - loss: 0.0661\n",
            "Epoch 90/200\n",
            "1000/1000 [==============================] - 0s 183us/step - loss: 0.0663\n",
            "Epoch 91/200\n",
            "1000/1000 [==============================] - 0s 180us/step - loss: 0.0651\n",
            "Epoch 92/200\n",
            "1000/1000 [==============================] - 0s 195us/step - loss: 0.0649\n",
            "Epoch 93/200\n",
            "1000/1000 [==============================] - 0s 183us/step - loss: 0.0662\n",
            "Epoch 94/200\n",
            "1000/1000 [==============================] - 0s 183us/step - loss: 0.0661\n",
            "Epoch 95/200\n",
            "1000/1000 [==============================] - 0s 184us/step - loss: 0.0651\n",
            "Epoch 96/200\n",
            "1000/1000 [==============================] - 0s 184us/step - loss: 0.0657\n",
            "Epoch 97/200\n",
            "1000/1000 [==============================] - 0s 178us/step - loss: 0.0657\n",
            "Epoch 98/200\n",
            "1000/1000 [==============================] - 0s 189us/step - loss: 0.0661\n",
            "Epoch 99/200\n",
            "1000/1000 [==============================] - 0s 175us/step - loss: 0.0661\n",
            "Epoch 100/200\n",
            "1000/1000 [==============================] - 0s 176us/step - loss: 0.0653\n",
            "Epoch 101/200\n",
            "1000/1000 [==============================] - 0s 179us/step - loss: 0.0649\n",
            "Epoch 102/200\n",
            "1000/1000 [==============================] - 0s 176us/step - loss: 0.0654\n",
            "Epoch 103/200\n",
            "1000/1000 [==============================] - 0s 196us/step - loss: 0.0652\n",
            "Epoch 104/200\n",
            "1000/1000 [==============================] - 0s 181us/step - loss: 0.0651\n",
            "Epoch 105/200\n",
            "1000/1000 [==============================] - 0s 177us/step - loss: 0.0658\n",
            "Epoch 106/200\n",
            "1000/1000 [==============================] - 0s 182us/step - loss: 0.0651\n",
            "Epoch 107/200\n",
            "1000/1000 [==============================] - 0s 182us/step - loss: 0.0656\n",
            "Epoch 108/200\n",
            "1000/1000 [==============================] - 0s 181us/step - loss: 0.0656\n",
            "Epoch 109/200\n",
            "1000/1000 [==============================] - 0s 188us/step - loss: 0.0655\n",
            "Epoch 110/200\n",
            "1000/1000 [==============================] - 0s 180us/step - loss: 0.0647\n",
            "Epoch 111/200\n",
            "1000/1000 [==============================] - 0s 178us/step - loss: 0.0653\n",
            "Epoch 112/200\n",
            "1000/1000 [==============================] - 0s 182us/step - loss: 0.0652\n",
            "Epoch 113/200\n",
            "1000/1000 [==============================] - 0s 184us/step - loss: 0.0648\n",
            "Epoch 114/200\n",
            "1000/1000 [==============================] - 0s 185us/step - loss: 0.0656\n",
            "Epoch 115/200\n",
            "1000/1000 [==============================] - 0s 181us/step - loss: 0.0652\n",
            "Epoch 116/200\n",
            "1000/1000 [==============================] - 0s 178us/step - loss: 0.0669\n",
            "Epoch 117/200\n",
            "1000/1000 [==============================] - 0s 183us/step - loss: 0.0662\n",
            "Epoch 118/200\n",
            "1000/1000 [==============================] - 0s 181us/step - loss: 0.0658\n",
            "Epoch 119/200\n",
            "1000/1000 [==============================] - 0s 182us/step - loss: 0.0669\n",
            "Epoch 120/200\n",
            "1000/1000 [==============================] - 0s 186us/step - loss: 0.0653\n",
            "Epoch 121/200\n",
            "1000/1000 [==============================] - 0s 177us/step - loss: 0.0662\n",
            "Epoch 122/200\n",
            "1000/1000 [==============================] - 0s 180us/step - loss: 0.0663\n",
            "Epoch 123/200\n",
            "1000/1000 [==============================] - 0s 181us/step - loss: 0.0657\n",
            "Epoch 124/200\n",
            "1000/1000 [==============================] - 0s 186us/step - loss: 0.0664\n",
            "Epoch 125/200\n",
            "1000/1000 [==============================] - 0s 179us/step - loss: 0.0664\n",
            "Epoch 126/200\n",
            "1000/1000 [==============================] - 0s 192us/step - loss: 0.0672\n",
            "Epoch 127/200\n",
            "1000/1000 [==============================] - 0s 181us/step - loss: 0.0671\n",
            "Epoch 128/200\n",
            "1000/1000 [==============================] - 0s 176us/step - loss: 0.0658\n",
            "Epoch 129/200\n",
            "1000/1000 [==============================] - 0s 178us/step - loss: 0.0659\n",
            "Epoch 130/200\n",
            "1000/1000 [==============================] - 0s 180us/step - loss: 0.0661\n",
            "Epoch 131/200\n",
            "1000/1000 [==============================] - 0s 193us/step - loss: 0.0653\n",
            "Epoch 132/200\n",
            "1000/1000 [==============================] - 0s 190us/step - loss: 0.0660\n",
            "Epoch 133/200\n",
            "1000/1000 [==============================] - 0s 178us/step - loss: 0.0662\n",
            "Epoch 134/200\n",
            "1000/1000 [==============================] - 0s 181us/step - loss: 0.0657\n",
            "Epoch 135/200\n",
            "1000/1000 [==============================] - 0s 178us/step - loss: 0.0658\n",
            "Epoch 136/200\n",
            "1000/1000 [==============================] - 0s 181us/step - loss: 0.0659\n",
            "Epoch 137/200\n",
            "1000/1000 [==============================] - 0s 190us/step - loss: 0.0663\n",
            "Epoch 138/200\n",
            "1000/1000 [==============================] - 0s 185us/step - loss: 0.0655\n",
            "Epoch 139/200\n",
            "1000/1000 [==============================] - 0s 179us/step - loss: 0.0652\n",
            "Epoch 140/200\n",
            "1000/1000 [==============================] - 0s 179us/step - loss: 0.0662\n",
            "Epoch 141/200\n",
            "1000/1000 [==============================] - 0s 181us/step - loss: 0.0658\n",
            "Epoch 142/200\n",
            "1000/1000 [==============================] - 0s 193us/step - loss: 0.0653\n",
            "Epoch 143/200\n",
            "1000/1000 [==============================] - 0s 184us/step - loss: 0.0659\n",
            "Epoch 144/200\n",
            "1000/1000 [==============================] - 0s 177us/step - loss: 0.0659\n",
            "Epoch 145/200\n",
            "1000/1000 [==============================] - 0s 183us/step - loss: 0.0660\n",
            "Epoch 146/200\n",
            "1000/1000 [==============================] - 0s 180us/step - loss: 0.0657\n",
            "Epoch 147/200\n",
            "1000/1000 [==============================] - 0s 183us/step - loss: 0.0660\n",
            "Epoch 148/200\n",
            "1000/1000 [==============================] - 0s 193us/step - loss: 0.0653\n",
            "Epoch 149/200\n",
            "1000/1000 [==============================] - 0s 187us/step - loss: 0.0666\n",
            "Epoch 150/200\n",
            "1000/1000 [==============================] - 0s 180us/step - loss: 0.0657\n",
            "Epoch 151/200\n",
            "1000/1000 [==============================] - 0s 183us/step - loss: 0.0660\n",
            "Epoch 152/200\n",
            "1000/1000 [==============================] - 0s 177us/step - loss: 0.0655\n",
            "Epoch 153/200\n",
            "1000/1000 [==============================] - 0s 189us/step - loss: 0.0650\n",
            "Epoch 154/200\n",
            "1000/1000 [==============================] - 0s 182us/step - loss: 0.0654\n",
            "Epoch 155/200\n",
            "1000/1000 [==============================] - 0s 181us/step - loss: 0.0652\n",
            "Epoch 156/200\n",
            "1000/1000 [==============================] - 0s 179us/step - loss: 0.0665\n",
            "Epoch 157/200\n",
            "1000/1000 [==============================] - 0s 180us/step - loss: 0.0660\n",
            "Epoch 158/200\n",
            "1000/1000 [==============================] - 0s 178us/step - loss: 0.0667\n",
            "Epoch 159/200\n",
            "1000/1000 [==============================] - 0s 189us/step - loss: 0.0661\n",
            "Epoch 160/200\n",
            "1000/1000 [==============================] - 0s 185us/step - loss: 0.0657\n",
            "Epoch 161/200\n",
            "1000/1000 [==============================] - 0s 179us/step - loss: 0.0652\n",
            "Epoch 162/200\n",
            "1000/1000 [==============================] - 0s 180us/step - loss: 0.0660\n",
            "Epoch 163/200\n",
            "1000/1000 [==============================] - 0s 177us/step - loss: 0.0693\n",
            "Epoch 164/200\n",
            "1000/1000 [==============================] - 0s 185us/step - loss: 0.0678\n",
            "Epoch 165/200\n",
            "1000/1000 [==============================] - 0s 178us/step - loss: 0.0687\n",
            "Epoch 166/200\n",
            "1000/1000 [==============================] - 0s 183us/step - loss: 0.0686\n",
            "Epoch 167/200\n",
            "1000/1000 [==============================] - 0s 177us/step - loss: 0.0682\n",
            "Epoch 168/200\n",
            "1000/1000 [==============================] - 0s 182us/step - loss: 0.0680\n",
            "Epoch 169/200\n",
            "1000/1000 [==============================] - 0s 182us/step - loss: 0.0679\n",
            "Epoch 170/200\n",
            "1000/1000 [==============================] - 0s 187us/step - loss: 0.0677\n",
            "Epoch 171/200\n",
            "1000/1000 [==============================] - 0s 183us/step - loss: 0.0678\n",
            "Epoch 172/200\n",
            "1000/1000 [==============================] - 0s 176us/step - loss: 0.0672\n",
            "Epoch 173/200\n",
            "1000/1000 [==============================] - 0s 180us/step - loss: 0.0684\n",
            "Epoch 174/200\n",
            "1000/1000 [==============================] - 0s 174us/step - loss: 0.0675\n",
            "Epoch 175/200\n",
            "1000/1000 [==============================] - 0s 178us/step - loss: 0.0679\n",
            "Epoch 176/200\n",
            "1000/1000 [==============================] - 0s 189us/step - loss: 0.0672\n",
            "Epoch 177/200\n",
            "1000/1000 [==============================] - 0s 178us/step - loss: 0.0681\n",
            "Epoch 178/200\n",
            "1000/1000 [==============================] - 0s 181us/step - loss: 0.0676\n",
            "Epoch 179/200\n",
            "1000/1000 [==============================] - 0s 176us/step - loss: 0.0676\n",
            "Epoch 180/200\n",
            "1000/1000 [==============================] - 0s 178us/step - loss: 0.0676\n",
            "Epoch 181/200\n",
            "1000/1000 [==============================] - 0s 192us/step - loss: 0.0679\n",
            "Epoch 182/200\n",
            "1000/1000 [==============================] - 0s 180us/step - loss: 0.0675\n",
            "Epoch 183/200\n",
            "1000/1000 [==============================] - 0s 179us/step - loss: 0.0679\n",
            "Epoch 184/200\n",
            "1000/1000 [==============================] - 0s 182us/step - loss: 0.0677\n",
            "Epoch 185/200\n",
            "1000/1000 [==============================] - 0s 180us/step - loss: 0.0673\n",
            "Epoch 186/200\n",
            "1000/1000 [==============================] - 0s 181us/step - loss: 0.0681\n",
            "Epoch 187/200\n",
            "1000/1000 [==============================] - 0s 194us/step - loss: 0.0669\n",
            "Epoch 188/200\n",
            "1000/1000 [==============================] - 0s 187us/step - loss: 0.0674\n",
            "Epoch 189/200\n",
            "1000/1000 [==============================] - 0s 188us/step - loss: 0.0675\n",
            "Epoch 190/200\n",
            "1000/1000 [==============================] - 0s 180us/step - loss: 0.0674\n",
            "Epoch 191/200\n",
            "1000/1000 [==============================] - 0s 176us/step - loss: 0.0682\n",
            "Epoch 192/200\n",
            "1000/1000 [==============================] - 0s 193us/step - loss: 0.0674\n",
            "Epoch 193/200\n",
            "1000/1000 [==============================] - 0s 183us/step - loss: 0.0672\n",
            "Epoch 194/200\n",
            "1000/1000 [==============================] - 0s 180us/step - loss: 0.0678\n",
            "Epoch 195/200\n",
            "1000/1000 [==============================] - 0s 181us/step - loss: 0.0673\n",
            "Epoch 196/200\n",
            "1000/1000 [==============================] - 0s 179us/step - loss: 0.0679\n",
            "Epoch 197/200\n",
            "1000/1000 [==============================] - 0s 182us/step - loss: 0.0678\n",
            "Epoch 198/200\n",
            "1000/1000 [==============================] - 0s 192us/step - loss: 0.0673\n",
            "Epoch 199/200\n",
            "1000/1000 [==============================] - 0s 183us/step - loss: 0.0672\n",
            "Epoch 200/200\n",
            "1000/1000 [==============================] - 0s 184us/step - loss: 0.0672\n"
          ],
          "name": "stdout"
        },
        {
          "output_type": "execute_result",
          "data": {
            "text/plain": [
              "<keras.callbacks.History at 0x7f68091c1208>"
            ]
          },
          "metadata": {
            "tags": []
          },
          "execution_count": 15
        }
      ]
    },
    {
      "metadata": {
        "scrolled": true,
        "id": "2TRmVoQq-1iS",
        "colab_type": "code",
        "colab": {
          "base_uri": "https://localhost:8080/",
          "height": 51
        },
        "outputId": "2d5ebd1a-2934-473d-b173-8adf166ef674"
      },
      "cell_type": "code",
      "source": [
        "model.evaluate(X_test_reg_img, Y_test_reg)"
      ],
      "execution_count": 16,
      "outputs": [
        {
          "output_type": "stream",
          "text": [
            "1000/1000 [==============================] - 0s 140us/step\n"
          ],
          "name": "stdout"
        },
        {
          "output_type": "execute_result",
          "data": {
            "text/plain": [
              "0.06970112669467926"
            ]
          },
          "metadata": {
            "tags": []
          },
          "execution_count": 16
        }
      ]
    },
    {
      "metadata": {
        "id": "eLCfLZe2-1iU",
        "colab_type": "code",
        "colab": {
          "base_uri": "https://localhost:8080/",
          "height": 361
        },
        "outputId": "8482ce6e-7dbc-4e95-a6f1-7e08954c1a5c"
      },
      "cell_type": "code",
      "source": [
        "t=40\n",
        "X_predict=X_test_reg[t].reshape(-1,5184)\n",
        "Y_true=Y_test_reg[t]\n",
        "Y_predict=model.predict(X_test_reg_img[t].reshape(-1,1,72,72))\n",
        "visualize_prediction(X_predict, Y_true, Y_predict)\n",
        "# Not working, trying other methods\n",
        "# notice that green line is the prediction result"
      ],
      "execution_count": 17,
      "outputs": [
        {
          "output_type": "stream",
          "text": [
            "/usr/local/lib/python3.6/dist-packages/ipykernel_launcher.py:129: DeprecationWarning: elementwise != comparison failed; this will raise an error in the future.\n"
          ],
          "name": "stderr"
        },
        {
          "output_type": "display_data",
          "data": {
            "image/png": "[encoded data removed]",
            "text/plain": [
              "<matplotlib.figure.Figure at 0x7f6808f297f0>"
            ]
          },
          "metadata": {
            "tags": []
          }
        }
      ]
    },
    {
      "metadata": {
        "id": "QDuAVkgmcW0a",
        "colab_type": "text"
      },
      "cell_type": "markdown",
      "source": [
        "# Another Model"
      ]
    },
    {
      "metadata": {
        "id": "1JLs7aTt-1iV",
        "colab_type": "code",
        "colab": {}
      },
      "cell_type": "code",
      "source": [
        "model = Sequential([\n",
        "        Conv2D(64, (3, 3), strides=(1,1),activation='relu',padding='same',input_shape=(1,72,72),data_format='channels_first'),\n",
        "        MaxPooling2D(pool_size=(2, 2)),\n",
        "        BatchNormalization(),\n",
        "        Conv2D(16, (3, 3), strides=(1,1), activation='relu',padding='same'),\n",
        "        MaxPooling2D(pool_size=(2, 2)),\n",
        "        BatchNormalization(),\n",
        "        Conv2D(16, (3, 3), strides=(1,1), activation='relu',padding='same'),\n",
        "        MaxPooling2D(pool_size=(2, 2)),\n",
        "        BatchNormalization(),\n",
        "        Conv2D(16, (3, 3), strides=(1,1), activation='relu',padding='same'),\n",
        "        MaxPooling2D(pool_size=(2, 2)),\n",
        "        BatchNormalization(),\n",
        "        Conv2D(16, (3, 3), strides=(1,1), activation='relu',padding='same'),\n",
        "        MaxPooling2D(pool_size=(2, 2)),\n",
        "        BatchNormalization(),\n",
        "        Conv2D(16, (3, 3), strides=(1,1), activation='relu',padding='same'),\n",
        "        MaxPooling2D(pool_size=(2, 2)),\n",
        "        BatchNormalization(),\n",
        "        Flatten(),\n",
        "        Dropout(0.2), \n",
        "        Dense(256, activation='relu'),\n",
        "        Dropout(0.2), \n",
        "        Dense(64, activation='relu'),\n",
        "        Dropout(0.2), \n",
        "        Dense(6)\n",
        "    ])\n",
        "model.compile(Adam(lr=1e-3), 'mse')"
      ],
      "execution_count": 0,
      "outputs": []
    },
    {
      "metadata": {
        "id": "TmrTKqIm-1iX",
        "colab_type": "code",
        "colab": {
          "base_uri": "https://localhost:8080/",
          "height": 6834
        },
        "outputId": "f31c0cdc-a620-40fa-d0fe-b8d1f6dab83f"
      },
      "cell_type": "code",
      "source": [
        "model.fit(X_train_reg_img, Y_train_reg, batch_size=32, epochs=200, verbose=1)"
      ],
      "execution_count": 21,
      "outputs": [
        {
          "output_type": "stream",
          "text": [
            "Epoch 1/200\n",
            "1000/1000 [==============================] - 1s 982us/step - loss: 0.0696\n",
            "Epoch 2/200\n",
            "1000/1000 [==============================] - 1s 907us/step - loss: 0.0696\n",
            "Epoch 3/200\n",
            "1000/1000 [==============================] - 1s 903us/step - loss: 0.0682\n",
            "Epoch 4/200\n",
            "1000/1000 [==============================] - 1s 883us/step - loss: 0.0684\n",
            "Epoch 5/200\n",
            "1000/1000 [==============================] - 1s 890us/step - loss: 0.0687\n",
            "Epoch 6/200\n",
            "1000/1000 [==============================] - 1s 889us/step - loss: 0.0681\n",
            "Epoch 7/200\n",
            "1000/1000 [==============================] - 1s 881us/step - loss: 0.0669\n",
            "Epoch 8/200\n",
            "1000/1000 [==============================] - 1s 876us/step - loss: 0.0668\n",
            "Epoch 9/200\n",
            "1000/1000 [==============================] - 1s 884us/step - loss: 0.0663\n",
            "Epoch 10/200\n",
            "1000/1000 [==============================] - 1s 888us/step - loss: 0.0666\n",
            "Epoch 11/200\n",
            "1000/1000 [==============================] - 1s 875us/step - loss: 0.0659\n",
            "Epoch 12/200\n",
            "1000/1000 [==============================] - 1s 890us/step - loss: 0.0663\n",
            "Epoch 13/200\n",
            "1000/1000 [==============================] - 1s 895us/step - loss: 0.0666\n",
            "Epoch 14/200\n",
            "1000/1000 [==============================] - 1s 886us/step - loss: 0.0655\n",
            "Epoch 15/200\n",
            "1000/1000 [==============================] - 1s 889us/step - loss: 0.0659\n",
            "Epoch 16/200\n",
            "1000/1000 [==============================] - 1s 882us/step - loss: 0.0646\n",
            "Epoch 17/200\n",
            "1000/1000 [==============================] - 1s 886us/step - loss: 0.0645\n",
            "Epoch 18/200\n",
            "1000/1000 [==============================] - 1s 880us/step - loss: 0.0646\n",
            "Epoch 19/200\n",
            "1000/1000 [==============================] - 1s 881us/step - loss: 0.0642\n",
            "Epoch 20/200\n",
            "1000/1000 [==============================] - 1s 876us/step - loss: 0.0651\n",
            "Epoch 21/200\n",
            "1000/1000 [==============================] - 1s 888us/step - loss: 0.0643\n",
            "Epoch 22/200\n",
            "1000/1000 [==============================] - 1s 885us/step - loss: 0.0656\n",
            "Epoch 23/200\n",
            "1000/1000 [==============================] - 1s 881us/step - loss: 0.0634\n",
            "Epoch 24/200\n",
            "1000/1000 [==============================] - 1s 874us/step - loss: 0.0635\n",
            "Epoch 25/200\n",
            "1000/1000 [==============================] - 1s 888us/step - loss: 0.0625\n",
            "Epoch 26/200\n",
            "1000/1000 [==============================] - 1s 878us/step - loss: 0.0630\n",
            "Epoch 27/200\n",
            "1000/1000 [==============================] - 1s 882us/step - loss: 0.0623\n",
            "Epoch 28/200\n",
            "1000/1000 [==============================] - 1s 885us/step - loss: 0.0637\n",
            "Epoch 29/200\n",
            "1000/1000 [==============================] - 1s 885us/step - loss: 0.0623\n",
            "Epoch 30/200\n",
            "1000/1000 [==============================] - 1s 881us/step - loss: 0.0630\n",
            "Epoch 31/200\n",
            "1000/1000 [==============================] - 1s 891us/step - loss: 0.0628\n",
            "Epoch 32/200\n",
            "1000/1000 [==============================] - 1s 896us/step - loss: 0.0617\n",
            "Epoch 33/200\n",
            "1000/1000 [==============================] - 1s 878us/step - loss: 0.0621\n",
            "Epoch 34/200\n",
            "1000/1000 [==============================] - 1s 886us/step - loss: 0.0629\n",
            "Epoch 35/200\n",
            "1000/1000 [==============================] - 1s 882us/step - loss: 0.0619\n",
            "Epoch 36/200\n",
            "1000/1000 [==============================] - 1s 882us/step - loss: 0.0617\n",
            "Epoch 37/200\n",
            "1000/1000 [==============================] - 1s 882us/step - loss: 0.0618\n",
            "Epoch 38/200\n",
            "1000/1000 [==============================] - 1s 894us/step - loss: 0.0614\n",
            "Epoch 39/200\n",
            "1000/1000 [==============================] - 1s 888us/step - loss: 0.0607\n",
            "Epoch 40/200\n",
            "1000/1000 [==============================] - 1s 885us/step - loss: 0.0614\n",
            "Epoch 41/200\n",
            "1000/1000 [==============================] - 1s 877us/step - loss: 0.0614\n",
            "Epoch 42/200\n",
            "1000/1000 [==============================] - 1s 890us/step - loss: 0.0626\n",
            "Epoch 43/200\n",
            "1000/1000 [==============================] - 1s 900us/step - loss: 0.0618\n",
            "Epoch 44/200\n",
            "1000/1000 [==============================] - 1s 882us/step - loss: 0.0609\n",
            "Epoch 45/200\n",
            "1000/1000 [==============================] - 1s 880us/step - loss: 0.0614\n",
            "Epoch 46/200\n",
            "1000/1000 [==============================] - 1s 888us/step - loss: 0.0615\n",
            "Epoch 47/200\n",
            "1000/1000 [==============================] - 1s 885us/step - loss: 0.0616\n",
            "Epoch 48/200\n",
            "1000/1000 [==============================] - 1s 886us/step - loss: 0.0610\n",
            "Epoch 49/200\n",
            "1000/1000 [==============================] - 1s 886us/step - loss: 0.0609\n",
            "Epoch 50/200\n",
            "1000/1000 [==============================] - 1s 870us/step - loss: 0.0603\n",
            "Epoch 51/200\n",
            "1000/1000 [==============================] - 1s 884us/step - loss: 0.0610\n",
            "Epoch 52/200\n",
            "1000/1000 [==============================] - 1s 882us/step - loss: 0.0613\n",
            "Epoch 53/200\n",
            "1000/1000 [==============================] - 1s 879us/step - loss: 0.0598\n",
            "Epoch 54/200\n",
            "1000/1000 [==============================] - 1s 885us/step - loss: 0.0596\n",
            "Epoch 55/200\n",
            "1000/1000 [==============================] - 1s 873us/step - loss: 0.0602\n",
            "Epoch 56/200\n",
            "1000/1000 [==============================] - 1s 882us/step - loss: 0.0600\n",
            "Epoch 57/200\n",
            "1000/1000 [==============================] - 1s 885us/step - loss: 0.0596\n",
            "Epoch 58/200\n",
            "1000/1000 [==============================] - 1s 883us/step - loss: 0.0604\n",
            "Epoch 59/200\n",
            "1000/1000 [==============================] - 1s 886us/step - loss: 0.0603\n",
            "Epoch 60/200\n",
            "1000/1000 [==============================] - 1s 875us/step - loss: 0.0603\n",
            "Epoch 61/200\n",
            "1000/1000 [==============================] - 1s 880us/step - loss: 0.0597\n",
            "Epoch 62/200\n",
            "1000/1000 [==============================] - 1s 879us/step - loss: 0.0603\n",
            "Epoch 63/200\n",
            "1000/1000 [==============================] - 1s 873us/step - loss: 0.0596\n",
            "Epoch 64/200\n",
            "1000/1000 [==============================] - 1s 880us/step - loss: 0.0597\n",
            "Epoch 65/200\n",
            "1000/1000 [==============================] - 1s 877us/step - loss: 0.0598\n",
            "Epoch 66/200\n",
            "1000/1000 [==============================] - 1s 884us/step - loss: 0.0603\n",
            "Epoch 67/200\n",
            "1000/1000 [==============================] - 1s 880us/step - loss: 0.0596\n",
            "Epoch 68/200\n",
            "1000/1000 [==============================] - 1s 880us/step - loss: 0.0606\n",
            "Epoch 69/200\n",
            "1000/1000 [==============================] - 1s 887us/step - loss: 0.0594\n",
            "Epoch 70/200\n",
            "1000/1000 [==============================] - 1s 874us/step - loss: 0.0600\n",
            "Epoch 71/200\n",
            "1000/1000 [==============================] - 1s 882us/step - loss: 0.0594\n",
            "Epoch 72/200\n",
            "1000/1000 [==============================] - 1s 891us/step - loss: 0.0595\n",
            "Epoch 73/200\n",
            "1000/1000 [==============================] - 1s 884us/step - loss: 0.0585\n",
            "Epoch 74/200\n",
            "1000/1000 [==============================] - 1s 884us/step - loss: 0.0582\n",
            "Epoch 75/200\n",
            "1000/1000 [==============================] - 1s 877us/step - loss: 0.0581\n",
            "Epoch 76/200\n",
            "1000/1000 [==============================] - 1s 880us/step - loss: 0.0588\n",
            "Epoch 77/200\n",
            "1000/1000 [==============================] - 1s 876us/step - loss: 0.0577\n",
            "Epoch 78/200\n",
            "1000/1000 [==============================] - 1s 884us/step - loss: 0.0587\n",
            "Epoch 79/200\n",
            "1000/1000 [==============================] - 1s 886us/step - loss: 0.0588\n",
            "Epoch 80/200\n",
            "1000/1000 [==============================] - 1s 894us/step - loss: 0.0577\n",
            "Epoch 81/200\n",
            "1000/1000 [==============================] - 1s 885us/step - loss: 0.0578\n",
            "Epoch 82/200\n",
            "1000/1000 [==============================] - 1s 888us/step - loss: 0.0595\n",
            "Epoch 83/200\n",
            "1000/1000 [==============================] - 1s 884us/step - loss: 0.0580\n",
            "Epoch 84/200\n",
            "1000/1000 [==============================] - 1s 877us/step - loss: 0.0579\n",
            "Epoch 85/200\n",
            "1000/1000 [==============================] - 1s 897us/step - loss: 0.0585\n",
            "Epoch 86/200\n",
            "1000/1000 [==============================] - 1s 887us/step - loss: 0.0579\n",
            "Epoch 87/200\n",
            "1000/1000 [==============================] - 1s 877us/step - loss: 0.0576\n",
            "Epoch 88/200\n",
            "1000/1000 [==============================] - 1s 883us/step - loss: 0.0567\n",
            "Epoch 89/200\n",
            "1000/1000 [==============================] - 1s 876us/step - loss: 0.0560\n",
            "Epoch 90/200\n",
            "1000/1000 [==============================] - 1s 894us/step - loss: 0.0564\n",
            "Epoch 91/200\n",
            "1000/1000 [==============================] - 1s 878us/step - loss: 0.0570\n",
            "Epoch 92/200\n",
            "1000/1000 [==============================] - 1s 873us/step - loss: 0.0569\n",
            "Epoch 93/200\n",
            "1000/1000 [==============================] - 1s 884us/step - loss: 0.0558\n",
            "Epoch 94/200\n",
            "1000/1000 [==============================] - 1s 886us/step - loss: 0.0566\n",
            "Epoch 95/200\n",
            "1000/1000 [==============================] - 1s 883us/step - loss: 0.0566\n",
            "Epoch 96/200\n",
            "1000/1000 [==============================] - 1s 876us/step - loss: 0.0563\n",
            "Epoch 97/200\n",
            "1000/1000 [==============================] - 1s 883us/step - loss: 0.0560\n",
            "Epoch 98/200\n",
            "1000/1000 [==============================] - 1s 880us/step - loss: 0.0565\n",
            "Epoch 99/200\n",
            "1000/1000 [==============================] - 1s 869us/step - loss: 0.0552\n",
            "Epoch 100/200\n",
            "1000/1000 [==============================] - 1s 900us/step - loss: 0.0541\n",
            "Epoch 101/200\n",
            "1000/1000 [==============================] - 1s 890us/step - loss: 0.0550\n",
            "Epoch 102/200\n",
            "1000/1000 [==============================] - 1s 879us/step - loss: 0.0539\n",
            "Epoch 103/200\n",
            "1000/1000 [==============================] - 1s 881us/step - loss: 0.0530\n",
            "Epoch 104/200\n",
            "1000/1000 [==============================] - 1s 877us/step - loss: 0.0537\n",
            "Epoch 105/200\n",
            "1000/1000 [==============================] - 1s 889us/step - loss: 0.0531\n",
            "Epoch 106/200\n",
            "1000/1000 [==============================] - 1s 886us/step - loss: 0.0533\n",
            "Epoch 107/200\n",
            "1000/1000 [==============================] - 1s 875us/step - loss: 0.0516\n",
            "Epoch 108/200\n",
            "1000/1000 [==============================] - 1s 884us/step - loss: 0.0532\n",
            "Epoch 109/200\n",
            "1000/1000 [==============================] - 1s 892us/step - loss: 0.0521\n",
            "Epoch 110/200\n",
            "1000/1000 [==============================] - 1s 882us/step - loss: 0.0519\n",
            "Epoch 111/200\n",
            "1000/1000 [==============================] - 1s 879us/step - loss: 0.0507\n",
            "Epoch 112/200\n",
            "1000/1000 [==============================] - 1s 890us/step - loss: 0.0505\n",
            "Epoch 113/200\n",
            "1000/1000 [==============================] - 1s 870us/step - loss: 0.0508\n",
            "Epoch 114/200\n",
            "1000/1000 [==============================] - 1s 874us/step - loss: 0.0494\n",
            "Epoch 115/200\n",
            "1000/1000 [==============================] - 1s 880us/step - loss: 0.0498\n",
            "Epoch 116/200\n",
            "1000/1000 [==============================] - 1s 890us/step - loss: 0.0502\n",
            "Epoch 117/200\n",
            "1000/1000 [==============================] - 1s 883us/step - loss: 0.0511\n",
            "Epoch 118/200\n",
            "1000/1000 [==============================] - 1s 876us/step - loss: 0.0488\n",
            "Epoch 119/200\n",
            "1000/1000 [==============================] - 1s 875us/step - loss: 0.0494\n",
            "Epoch 120/200\n",
            "1000/1000 [==============================] - 1s 878us/step - loss: 0.0474\n",
            "Epoch 121/200\n",
            "1000/1000 [==============================] - 1s 876us/step - loss: 0.0489\n",
            "Epoch 122/200\n",
            "1000/1000 [==============================] - 1s 871us/step - loss: 0.0490\n",
            "Epoch 123/200\n",
            "1000/1000 [==============================] - 1s 868us/step - loss: 0.0471\n",
            "Epoch 124/200\n",
            "1000/1000 [==============================] - 1s 873us/step - loss: 0.0488\n",
            "Epoch 125/200\n",
            "1000/1000 [==============================] - 1s 887us/step - loss: 0.0482\n",
            "Epoch 126/200\n",
            "1000/1000 [==============================] - 1s 877us/step - loss: 0.0537\n",
            "Epoch 127/200\n",
            "1000/1000 [==============================] - 1s 878us/step - loss: 0.0509\n",
            "Epoch 128/200\n",
            "1000/1000 [==============================] - 1s 874us/step - loss: 0.0483\n",
            "Epoch 129/200\n",
            "1000/1000 [==============================] - 1s 884us/step - loss: 0.0472\n",
            "Epoch 130/200\n",
            "1000/1000 [==============================] - 1s 888us/step - loss: 0.0462\n",
            "Epoch 131/200\n",
            "1000/1000 [==============================] - 1s 884us/step - loss: 0.0468\n",
            "Epoch 132/200\n",
            "1000/1000 [==============================] - 1s 879us/step - loss: 0.0444\n",
            "Epoch 133/200\n",
            "1000/1000 [==============================] - 1s 885us/step - loss: 0.0445\n",
            "Epoch 134/200\n",
            "1000/1000 [==============================] - 1s 871us/step - loss: 0.0428\n",
            "Epoch 135/200\n",
            "1000/1000 [==============================] - 1s 876us/step - loss: 0.0424\n",
            "Epoch 136/200\n",
            "1000/1000 [==============================] - 1s 886us/step - loss: 0.0429\n",
            "Epoch 137/200\n",
            "1000/1000 [==============================] - 1s 883us/step - loss: 0.0420\n",
            "Epoch 138/200\n",
            "1000/1000 [==============================] - 1s 883us/step - loss: 0.0429\n",
            "Epoch 139/200\n",
            "1000/1000 [==============================] - 1s 884us/step - loss: 0.0436\n",
            "Epoch 140/200\n",
            "1000/1000 [==============================] - 1s 882us/step - loss: 0.0418\n",
            "Epoch 141/200\n",
            "1000/1000 [==============================] - 1s 882us/step - loss: 0.0404\n",
            "Epoch 142/200\n",
            "1000/1000 [==============================] - 1s 866us/step - loss: 0.0412\n",
            "Epoch 143/200\n",
            "1000/1000 [==============================] - 1s 884us/step - loss: 0.0404\n",
            "Epoch 144/200\n",
            "1000/1000 [==============================] - 1s 883us/step - loss: 0.0401\n",
            "Epoch 145/200\n",
            "1000/1000 [==============================] - 1s 881us/step - loss: 0.0395\n",
            "Epoch 146/200\n",
            "1000/1000 [==============================] - 1s 890us/step - loss: 0.0393\n",
            "Epoch 147/200\n",
            "1000/1000 [==============================] - 1s 879us/step - loss: 0.0376\n",
            "Epoch 148/200\n",
            "1000/1000 [==============================] - 1s 878us/step - loss: 0.0375\n",
            "Epoch 149/200\n",
            "1000/1000 [==============================] - 1s 873us/step - loss: 0.0362\n",
            "Epoch 150/200\n",
            "1000/1000 [==============================] - 1s 879us/step - loss: 0.0371\n",
            "Epoch 151/200\n",
            "1000/1000 [==============================] - 1s 886us/step - loss: 0.0361\n",
            "Epoch 152/200\n",
            "1000/1000 [==============================] - 1s 880us/step - loss: 0.0355\n",
            "Epoch 153/200\n",
            "1000/1000 [==============================] - 1s 882us/step - loss: 0.0354\n",
            "Epoch 154/200\n",
            "1000/1000 [==============================] - 1s 886us/step - loss: 0.0352\n",
            "Epoch 155/200\n",
            "1000/1000 [==============================] - 1s 885us/step - loss: 0.0343\n",
            "Epoch 156/200\n",
            "1000/1000 [==============================] - 1s 878us/step - loss: 0.0334\n",
            "Epoch 157/200\n",
            "1000/1000 [==============================] - 1s 884us/step - loss: 0.0343\n",
            "Epoch 158/200\n",
            "1000/1000 [==============================] - 1s 884us/step - loss: 0.0337\n",
            "Epoch 159/200\n",
            "1000/1000 [==============================] - 1s 885us/step - loss: 0.0341\n",
            "Epoch 160/200\n",
            "1000/1000 [==============================] - 1s 882us/step - loss: 0.0338\n",
            "Epoch 161/200\n",
            "1000/1000 [==============================] - 1s 888us/step - loss: 0.0354\n",
            "Epoch 162/200\n",
            "1000/1000 [==============================] - 1s 880us/step - loss: 0.0335\n",
            "Epoch 163/200\n",
            "1000/1000 [==============================] - 1s 915us/step - loss: 0.0320\n",
            "Epoch 164/200\n",
            "1000/1000 [==============================] - 1s 952us/step - loss: 0.0323\n",
            "Epoch 165/200\n",
            "1000/1000 [==============================] - 1s 884us/step - loss: 0.0307\n",
            "Epoch 166/200\n",
            "1000/1000 [==============================] - 1s 882us/step - loss: 0.0305\n",
            "Epoch 167/200\n",
            "1000/1000 [==============================] - 1s 878us/step - loss: 0.0314\n",
            "Epoch 168/200\n",
            "1000/1000 [==============================] - 1s 897us/step - loss: 0.0308\n",
            "Epoch 169/200\n",
            "1000/1000 [==============================] - 1s 877us/step - loss: 0.0324\n",
            "Epoch 170/200\n",
            "1000/1000 [==============================] - 1s 883us/step - loss: 0.0311\n",
            "Epoch 171/200\n",
            "1000/1000 [==============================] - 1s 882us/step - loss: 0.0290\n",
            "Epoch 172/200\n",
            "1000/1000 [==============================] - 1s 881us/step - loss: 0.0299\n",
            "Epoch 173/200\n",
            "1000/1000 [==============================] - 1s 879us/step - loss: 0.0291\n",
            "Epoch 174/200\n",
            "1000/1000 [==============================] - 1s 893us/step - loss: 0.0294\n",
            "Epoch 175/200\n",
            "1000/1000 [==============================] - 1s 895us/step - loss: 0.0277\n",
            "Epoch 176/200\n",
            "1000/1000 [==============================] - 1s 883us/step - loss: 0.0274\n",
            "Epoch 177/200\n",
            "1000/1000 [==============================] - 1s 878us/step - loss: 0.0267\n",
            "Epoch 178/200\n",
            "1000/1000 [==============================] - 1s 885us/step - loss: 0.0281\n",
            "Epoch 179/200\n",
            "1000/1000 [==============================] - 1s 871us/step - loss: 0.0268\n",
            "Epoch 180/200\n",
            "1000/1000 [==============================] - 1s 879us/step - loss: 0.0280\n",
            "Epoch 181/200\n",
            "1000/1000 [==============================] - 1s 875us/step - loss: 0.0267\n",
            "Epoch 182/200\n",
            "1000/1000 [==============================] - 1s 880us/step - loss: 0.0263\n",
            "Epoch 183/200\n",
            "1000/1000 [==============================] - 1s 884us/step - loss: 0.0265\n",
            "Epoch 184/200\n",
            "1000/1000 [==============================] - 1s 874us/step - loss: 0.0269\n",
            "Epoch 185/200\n",
            "1000/1000 [==============================] - 1s 896us/step - loss: 0.0268\n",
            "Epoch 186/200\n",
            "1000/1000 [==============================] - 1s 876us/step - loss: 0.0265\n",
            "Epoch 187/200\n",
            "1000/1000 [==============================] - 1s 880us/step - loss: 0.0267\n",
            "Epoch 188/200\n",
            "1000/1000 [==============================] - 1s 889us/step - loss: 0.0258\n",
            "Epoch 189/200\n",
            "1000/1000 [==============================] - 1s 889us/step - loss: 0.0259\n",
            "Epoch 190/200\n",
            "1000/1000 [==============================] - 1s 874us/step - loss: 0.0266\n",
            "Epoch 191/200\n",
            "1000/1000 [==============================] - 1s 876us/step - loss: 0.0263\n",
            "Epoch 192/200\n",
            "1000/1000 [==============================] - 1s 877us/step - loss: 0.0250\n",
            "Epoch 193/200\n",
            "1000/1000 [==============================] - 1s 887us/step - loss: 0.0263\n",
            "Epoch 194/200\n",
            "1000/1000 [==============================] - 1s 879us/step - loss: 0.0243\n",
            "Epoch 195/200\n",
            "1000/1000 [==============================] - 1s 883us/step - loss: 0.0253\n",
            "Epoch 196/200\n",
            "1000/1000 [==============================] - 1s 875us/step - loss: 0.0255\n",
            "Epoch 197/200\n",
            "1000/1000 [==============================] - 1s 885us/step - loss: 0.0243\n",
            "Epoch 198/200\n",
            "1000/1000 [==============================] - 1s 882us/step - loss: 0.0255\n",
            "Epoch 199/200\n",
            "1000/1000 [==============================] - 1s 884us/step - loss: 0.0240\n",
            "Epoch 200/200\n",
            "1000/1000 [==============================] - 1s 881us/step - loss: 0.0231\n"
          ],
          "name": "stdout"
        },
        {
          "output_type": "execute_result",
          "data": {
            "text/plain": [
              "<keras.callbacks.History at 0x7f6807b07da0>"
            ]
          },
          "metadata": {
            "tags": []
          },
          "execution_count": 21
        }
      ]
    },
    {
      "metadata": {
        "id": "ECFuWysJ-1iZ",
        "colab_type": "code",
        "colab": {}
      },
      "cell_type": "code",
      "source": [
        ""
      ],
      "execution_count": 0,
      "outputs": []
    },
    {
      "metadata": {
        "id": "uDLVuOd1-1ie",
        "colab_type": "code",
        "colab": {}
      },
      "cell_type": "code",
      "source": [
        "# model.save('dncnn5.h5')\n",
        "# from keras.models import load_model\n",
        "# model = load_model('dncnn5.h5')\n",
        "# to avoid repeated training, model can be saved"
      ],
      "execution_count": 0,
      "outputs": []
    },
    {
      "metadata": {
        "scrolled": false,
        "id": "QPXWAHLn-1ig",
        "colab_type": "code",
        "colab": {
          "base_uri": "https://localhost:8080/",
          "height": 3124
        },
        "outputId": "979fedd3-3222-4c3a-db00-e9e927f87640"
      },
      "cell_type": "code",
      "source": [
        "for i in range(10):\n",
        "#     plt.subplot(5, 6, i + 1)\n",
        "    X_predict=X_train_reg_img[i].reshape(-1,5184)\n",
        "    Y_true=Y_train_reg[i]\n",
        "    Y_predict=model.predict(X_predict.reshape(-1,1,72,72))\n",
        "    visualize_prediction(X_predict, Y_true, yp=Y_predict)\n",
        "    "
      ],
      "execution_count": 22,
      "outputs": [
        {
          "output_type": "stream",
          "text": [
            "/usr/local/lib/python3.6/dist-packages/ipykernel_launcher.py:129: DeprecationWarning: elementwise != comparison failed; this will raise an error in the future.\n"
          ],
          "name": "stderr"
        },
        {
          "output_type": "display_data",
          "data": {
            "image/png": "[encoded data removed]",
            "text/plain": [
              "<matplotlib.figure.Figure at 0x7f6807b2fba8>"
            ]
          },
          "metadata": {
            "tags": []
          }
        },
        {
          "output_type": "display_data",
          "data": {
            "image/png": "[encoded data removed]",
            "text/plain": [
              "<matplotlib.figure.Figure at 0x7f6807a73f98>"
            ]
          },
          "metadata": {
            "tags": []
          }
        },
        {
          "output_type": "display_data",
          "data": {
            "image/png": "[encoded data removed]",
            "text/plain": [
              "<matplotlib.figure.Figure at 0x7f6807a31518>"
            ]
          },
          "metadata": {
            "tags": []
          }
        },
        {
          "output_type": "display_data",
          "data": {
            "image/png": "[encoded data removed]",
            "text/plain": [
              "<matplotlib.figure.Figure at 0x7f6807985630>"
            ]
          },
          "metadata": {
            "tags": []
          }
        },
        {
          "output_type": "display_data",
          "data": {
            "image/png": "[encoded data removed]",
            "text/plain": [
              "<matplotlib.figure.Figure at 0x7f680795c5f8>"
            ]
          },
          "metadata": {
            "tags": []
          }
        },
        {
          "output_type": "display_data",
          "data": {
            "image/png": "[encoded data removed]",
            "text/plain": [
              "<matplotlib.figure.Figure at 0x7f680792d5f8>"
            ]
          },
          "metadata": {
            "tags": []
          }
        },
        {
          "output_type": "display_data",
          "data": {
            "image/png": "[encoded data removed]",
            "text/plain": [
              "<matplotlib.figure.Figure at 0x7f680788d5f8>"
            ]
          },
          "metadata": {
            "tags": []
          }
        },
        {
          "output_type": "display_data",
          "data": {
            "image/png": "[encoded data removed]",
            "text/plain": [
              "<matplotlib.figure.Figure at 0x7f6807863630>"
            ]
          },
          "metadata": {
            "tags": []
          }
        },
        {
          "output_type": "display_data",
          "data": {
            "image/png": "[encoded data removed]",
            "text/plain": [
              "<matplotlib.figure.Figure at 0x7f68077bd6d8>"
            ]
          },
          "metadata": {
            "tags": []
          }
        },
        {
          "output_type": "display_data",
          "data": {
            "image/png": "[encoded data removed]",
            "text/plain": [
              "<matplotlib.figure.Figure at 0x7f6807793748>"
            ]
          },
          "metadata": {
            "tags": []
          }
        }
      ]
    },
    {
      "metadata": {
        "id": "Bb8Mnp5J-1ii",
        "colab_type": "text"
      },
      "cell_type": "markdown",
      "source": [
        "# Denoise"
      ]
    },
    {
      "metadata": {
        "id": "c34RbiffmtLt",
        "colab_type": "code",
        "colab": {}
      },
      "cell_type": "code",
      "source": [
        "def generate_two_triangles(noise=0.0, free_location=False):\n",
        "    figsize = 1.0\n",
        "    if free_location:\n",
        "        U = np.random.random(3)\n",
        "        V = np.random.random(3)\n",
        "    else:\n",
        "        size = (0.3 + 0.7 * np.random.random())*figsize/2\n",
        "        middle = figsize/2\n",
        "        U = (middle, middle+size, middle-size)\n",
        "        V = (middle+size, middle-size, middle-size)\n",
        "    imdata = generate_a_drawing(figsize, U, V, noise)\n",
        "    imdata0 = generate_a_drawing(figsize, U, V, 0)\n",
        "    return [imdata, imdata0]\n",
        "\n",
        "def generate_dataset_denoise(nb_samples, noise=20.0):\n",
        "    # Getting im_size:\n",
        "    im_size = generate_a_triangle()[0].shape[0]\n",
        "    X = np.zeros([nb_samples,im_size])\n",
        "    Y = np.zeros([nb_samples,im_size])\n",
        "    print('Creating data:')\n",
        "    for i in range(nb_samples):\n",
        "        if (i+1) % 100 == 0:\n",
        "            print(i+1)\n",
        "        [X[i], Y[i]] = generate_two_triangles(noise, True)\n",
        "    X = (X + noise) / (255 + 2 * noise)\n",
        "    return [X, Y]\n",
        "\n",
        "def visualize_denoise_prediction(K, x, y):\n",
        "    for i in range(K):\n",
        "        plt.subplots(K,2,2*i+1)\n",
        "        plt.imshow(x[i].reshape(72,72),cmap='gray')\n",
        "        plt.subplots(K,2,2*i+2)\n",
        "        plt.imshow(y[i].reshape(72,72),cmap='gray')\n",
        "    \n",
        "      "
      ],
      "execution_count": 0,
      "outputs": []
    },
    {
      "metadata": {
        "id": "omIsPLmG-1ij",
        "colab_type": "code",
        "colab": {
          "base_uri": "https://localhost:8080/",
          "height": 544
        },
        "outputId": "9a215ac7-04de-471e-cdc6-736e9b4396a0"
      },
      "cell_type": "code",
      "source": [
        "X_train_den, Y_train_den = generate_dataset_denoise(3000,20)"
      ],
      "execution_count": 20,
      "outputs": [
        {
          "output_type": "stream",
          "text": [
            "Creating data:\n",
            "100\n",
            "200\n",
            "300\n",
            "400\n",
            "500\n",
            "600\n",
            "700\n",
            "800\n",
            "900\n",
            "1000\n",
            "1100\n",
            "1200\n",
            "1300\n",
            "1400\n",
            "1500\n",
            "1600\n",
            "1700\n",
            "1800\n",
            "1900\n",
            "2000\n",
            "2100\n",
            "2200\n",
            "2300\n",
            "2400\n",
            "2500\n",
            "2600\n",
            "2700\n",
            "2800\n",
            "2900\n",
            "3000\n"
          ],
          "name": "stdout"
        }
      ]
    },
    {
      "metadata": {
        "scrolled": true,
        "id": "cWrewhff-1il",
        "colab_type": "code",
        "colab": {
          "base_uri": "https://localhost:8080/",
          "height": 544
        },
        "outputId": "07e778c5-b4d8-484b-e08f-83a4d18c30f0"
      },
      "cell_type": "code",
      "source": [
        "X_test_den, Y_test_den = generate_dataset_denoise(3000,20)"
      ],
      "execution_count": 19,
      "outputs": [
        {
          "output_type": "stream",
          "text": [
            "Creating data:\n",
            "100\n",
            "200\n",
            "300\n",
            "400\n",
            "500\n",
            "600\n",
            "700\n",
            "800\n",
            "900\n",
            "1000\n",
            "1100\n",
            "1200\n",
            "1300\n",
            "1400\n",
            "1500\n",
            "1600\n",
            "1700\n",
            "1800\n",
            "1900\n",
            "2000\n",
            "2100\n",
            "2200\n",
            "2300\n",
            "2400\n",
            "2500\n",
            "2600\n",
            "2700\n",
            "2800\n",
            "2900\n",
            "3000\n"
          ],
          "name": "stdout"
        }
      ]
    },
    {
      "metadata": {
        "id": "ZO6bpoWV-1in",
        "colab_type": "code",
        "colab": {}
      },
      "cell_type": "code",
      "source": [
        "X_train_den_img=X_train_den.reshape(-1,1,72,72)\n",
        "X_test_den_img=X_test_den.reshape(-1,1,72,72)\n",
        "Y_train_den_img=Y_train_den.reshape(-1,1,72,72)\n",
        "Y_test_den_img=Y_test_den.reshape(-1,1,72,72)"
      ],
      "execution_count": 0,
      "outputs": []
    },
    {
      "metadata": {
        "id": "0GVdCNhJ-1io",
        "colab_type": "code",
        "colab": {
          "base_uri": "https://localhost:8080/",
          "height": 6834
        },
        "outputId": "2f5c7d1d-3ad1-465d-8bbd-bc821860a99d"
      },
      "cell_type": "code",
      "source": [
        "sgd = SGD(lr=0.01,\n",
        "          decay=1e-6, momentum=0.9, clipnorm=1.,\n",
        "          nesterov=True)\n",
        "\n",
        "model = Sequential([\n",
        "#         Conv2D(16, (3, 3), strides=(1,1),activation='relu',padding='same',input_shape=(1,72,72),data_format='channels_first'),\n",
        "#         MaxPooling2D(pool_size=(2, 2)),\n",
        "#         BatchNormalization(),\n",
        "#         Conv2D(16, (3, 3), strides=(1,1), activation='relu',padding='same'),\n",
        "#         MaxPooling2D(pool_size=(2, 2)),\n",
        "#         BatchNormalization(),\n",
        "#         Conv2D(16, (3, 3), strides=(1,1), activation='relu',padding='same'),\n",
        "#         MaxPooling2D(pool_size=(2, 2)),\n",
        "#         BatchNormalization(),\n",
        "        Flatten(input_shape=(1,72,72),data_format='channels_first'),\n",
        "        Dense(64, activation='relu'),\n",
        "        Dense(16, activation='relu'),\n",
        "        Dense(16, activation='relu'),\n",
        "        Dense(16, activation='relu'),\n",
        "        Dense(16, activation='relu'),\n",
        "        Dense(16, activation='relu'),\n",
        "        Dense(64, activation='relu'),\n",
        "        Dense(5184)\n",
        "    ])\n",
        "model.compile('adam', 'mse')\n",
        "model.fit(X_train_den_img, Y_test_den, batch_size=32, epochs=200, verbose=1)"
      ],
      "execution_count": 28,
      "outputs": [
        {
          "output_type": "stream",
          "text": [
            "Epoch 1/200\n",
            "1000/1000 [==============================] - 1s 917us/step - loss: 52108.4693\n",
            "Epoch 2/200\n",
            "1000/1000 [==============================] - 0s 334us/step - loss: 4676.9230\n",
            "Epoch 3/200\n",
            "1000/1000 [==============================] - 0s 328us/step - loss: 2382.7482\n",
            "Epoch 4/200\n",
            "1000/1000 [==============================] - 0s 316us/step - loss: 2288.4997\n",
            "Epoch 5/200\n",
            "1000/1000 [==============================] - 0s 314us/step - loss: 2279.2061\n",
            "Epoch 6/200\n",
            "1000/1000 [==============================] - 0s 309us/step - loss: 2276.8983\n",
            "Epoch 7/200\n",
            "1000/1000 [==============================] - 0s 330us/step - loss: 2270.5667\n",
            "Epoch 8/200\n",
            "1000/1000 [==============================] - 0s 307us/step - loss: 2271.7831\n",
            "Epoch 9/200\n",
            "1000/1000 [==============================] - 0s 310us/step - loss: 2270.5902\n",
            "Epoch 10/200\n",
            "1000/1000 [==============================] - 0s 305us/step - loss: 2263.5611\n",
            "Epoch 11/200\n",
            "1000/1000 [==============================] - 0s 315us/step - loss: 2261.4138\n",
            "Epoch 12/200\n",
            "1000/1000 [==============================] - 0s 311us/step - loss: 2255.5842\n",
            "Epoch 13/200\n",
            "1000/1000 [==============================] - 0s 313us/step - loss: 2256.7003\n",
            "Epoch 14/200\n",
            "1000/1000 [==============================] - 0s 325us/step - loss: 2250.3567\n",
            "Epoch 15/200\n",
            "1000/1000 [==============================] - 0s 312us/step - loss: 2251.3648\n",
            "Epoch 16/200\n",
            "1000/1000 [==============================] - 0s 316us/step - loss: 2247.9476\n",
            "Epoch 17/200\n",
            "1000/1000 [==============================] - 0s 326us/step - loss: 2239.8780\n",
            "Epoch 18/200\n",
            "1000/1000 [==============================] - 0s 312us/step - loss: 2244.1511\n",
            "Epoch 19/200\n",
            "1000/1000 [==============================] - 0s 316us/step - loss: 2238.5320\n",
            "Epoch 20/200\n",
            "1000/1000 [==============================] - 0s 319us/step - loss: 2237.1053\n",
            "Epoch 21/200\n",
            "1000/1000 [==============================] - 0s 319us/step - loss: 2240.5643\n",
            "Epoch 22/200\n",
            "1000/1000 [==============================] - 0s 311us/step - loss: 2232.8088\n",
            "Epoch 23/200\n",
            "1000/1000 [==============================] - 0s 311us/step - loss: 2233.7508\n",
            "Epoch 24/200\n",
            "1000/1000 [==============================] - 0s 315us/step - loss: 2231.7231\n",
            "Epoch 25/200\n",
            "1000/1000 [==============================] - 0s 307us/step - loss: 2235.5805\n",
            "Epoch 26/200\n",
            "1000/1000 [==============================] - 0s 311us/step - loss: 2227.9471\n",
            "Epoch 27/200\n",
            "1000/1000 [==============================] - 0s 314us/step - loss: 2231.9121\n",
            "Epoch 28/200\n",
            "1000/1000 [==============================] - 0s 308us/step - loss: 2233.5478\n",
            "Epoch 29/200\n",
            "1000/1000 [==============================] - 0s 311us/step - loss: 2229.6519\n",
            "Epoch 30/200\n",
            "1000/1000 [==============================] - 0s 314us/step - loss: 2231.6851\n",
            "Epoch 31/200\n",
            "1000/1000 [==============================] - 0s 312us/step - loss: 2225.3170\n",
            "Epoch 32/200\n",
            "1000/1000 [==============================] - 0s 310us/step - loss: 2224.8386\n",
            "Epoch 33/200\n",
            "1000/1000 [==============================] - 0s 309us/step - loss: 2225.1308\n",
            "Epoch 34/200\n",
            "1000/1000 [==============================] - 0s 319us/step - loss: 2227.4310\n",
            "Epoch 35/200\n",
            "1000/1000 [==============================] - 0s 311us/step - loss: 2220.1231\n",
            "Epoch 36/200\n",
            "1000/1000 [==============================] - 0s 315us/step - loss: 2220.9349\n",
            "Epoch 37/200\n",
            "1000/1000 [==============================] - 0s 328us/step - loss: 2222.1765\n",
            "Epoch 38/200\n",
            "1000/1000 [==============================] - 0s 313us/step - loss: 2220.3740\n",
            "Epoch 39/200\n",
            "1000/1000 [==============================] - 0s 311us/step - loss: 2219.1687\n",
            "Epoch 40/200\n",
            "1000/1000 [==============================] - 0s 325us/step - loss: 2225.8624\n",
            "Epoch 41/200\n",
            "1000/1000 [==============================] - 0s 314us/step - loss: 2219.8440\n",
            "Epoch 42/200\n",
            "1000/1000 [==============================] - 0s 317us/step - loss: 2223.8601\n",
            "Epoch 43/200\n",
            "1000/1000 [==============================] - 0s 325us/step - loss: 2220.0563\n",
            "Epoch 44/200\n",
            "1000/1000 [==============================] - 0s 316us/step - loss: 2221.9307\n",
            "Epoch 45/200\n",
            "1000/1000 [==============================] - 0s 314us/step - loss: 2224.2380\n",
            "Epoch 46/200\n",
            "1000/1000 [==============================] - 0s 320us/step - loss: 2216.3080\n",
            "Epoch 47/200\n",
            "1000/1000 [==============================] - 0s 311us/step - loss: 2213.4804\n",
            "Epoch 48/200\n",
            "1000/1000 [==============================] - 0s 307us/step - loss: 2217.4600\n",
            "Epoch 49/200\n",
            "1000/1000 [==============================] - 0s 315us/step - loss: 2223.6181\n",
            "Epoch 50/200\n",
            "1000/1000 [==============================] - 0s 315us/step - loss: 2215.8976\n",
            "Epoch 51/200\n",
            "1000/1000 [==============================] - 0s 314us/step - loss: 2213.9808\n",
            "Epoch 52/200\n",
            "1000/1000 [==============================] - 0s 323us/step - loss: 2213.7375\n",
            "Epoch 53/200\n",
            "1000/1000 [==============================] - 0s 317us/step - loss: 2219.3166\n",
            "Epoch 54/200\n",
            "1000/1000 [==============================] - 0s 310us/step - loss: 2214.5680\n",
            "Epoch 55/200\n",
            "1000/1000 [==============================] - 0s 306us/step - loss: 2217.7306\n",
            "Epoch 56/200\n",
            "1000/1000 [==============================] - 0s 313us/step - loss: 2214.2638\n",
            "Epoch 57/200\n",
            "1000/1000 [==============================] - 0s 310us/step - loss: 2223.5044\n",
            "Epoch 58/200\n",
            "1000/1000 [==============================] - 0s 314us/step - loss: 2213.0812\n",
            "Epoch 59/200\n",
            "1000/1000 [==============================] - 0s 321us/step - loss: 2213.4779\n",
            "Epoch 60/200\n",
            "1000/1000 [==============================] - 0s 317us/step - loss: 2216.3236\n",
            "Epoch 61/200\n",
            "1000/1000 [==============================] - 0s 308us/step - loss: 2226.9548\n",
            "Epoch 62/200\n",
            "1000/1000 [==============================] - 0s 317us/step - loss: 2212.2696\n",
            "Epoch 63/200\n",
            "1000/1000 [==============================] - 0s 324us/step - loss: 2214.2472\n",
            "Epoch 64/200\n",
            "1000/1000 [==============================] - 0s 310us/step - loss: 2227.2042\n",
            "Epoch 65/200\n",
            "1000/1000 [==============================] - 0s 308us/step - loss: 2222.0935\n",
            "Epoch 66/200\n",
            "1000/1000 [==============================] - 0s 317us/step - loss: 2214.8962\n",
            "Epoch 67/200\n",
            "1000/1000 [==============================] - 0s 309us/step - loss: 2219.3357\n",
            "Epoch 68/200\n",
            "1000/1000 [==============================] - 0s 303us/step - loss: 2214.0635\n",
            "Epoch 69/200\n",
            "1000/1000 [==============================] - 0s 313us/step - loss: 2211.1517\n",
            "Epoch 70/200\n",
            "1000/1000 [==============================] - 0s 327us/step - loss: 2211.3100\n",
            "Epoch 71/200\n",
            "1000/1000 [==============================] - 0s 309us/step - loss: 2222.7965\n",
            "Epoch 72/200\n",
            "1000/1000 [==============================] - 0s 306us/step - loss: 2217.8435\n",
            "Epoch 73/200\n",
            "1000/1000 [==============================] - 0s 318us/step - loss: 2218.1513\n",
            "Epoch 74/200\n",
            "1000/1000 [==============================] - 0s 308us/step - loss: 2212.8768\n",
            "Epoch 75/200\n",
            "1000/1000 [==============================] - 0s 309us/step - loss: 2214.9955\n",
            "Epoch 76/200\n",
            "1000/1000 [==============================] - 0s 314us/step - loss: 2213.5643\n",
            "Epoch 77/200\n",
            "1000/1000 [==============================] - 0s 310us/step - loss: 2213.3358\n",
            "Epoch 78/200\n",
            "1000/1000 [==============================] - 0s 308us/step - loss: 2210.4070\n",
            "Epoch 79/200\n",
            "1000/1000 [==============================] - 0s 315us/step - loss: 2212.5172\n",
            "Epoch 80/200\n",
            "1000/1000 [==============================] - 0s 309us/step - loss: 2212.4849\n",
            "Epoch 81/200\n",
            "1000/1000 [==============================] - 0s 309us/step - loss: 2211.7718\n",
            "Epoch 82/200\n",
            "1000/1000 [==============================] - 0s 321us/step - loss: 2216.0514\n",
            "Epoch 83/200\n",
            "1000/1000 [==============================] - 0s 316us/step - loss: 2219.2843\n",
            "Epoch 84/200\n",
            "1000/1000 [==============================] - 0s 314us/step - loss: 2219.3258\n",
            "Epoch 85/200\n",
            "1000/1000 [==============================] - 0s 322us/step - loss: 2212.7557\n",
            "Epoch 86/200\n",
            "1000/1000 [==============================] - 0s 324us/step - loss: 2206.8761\n",
            "Epoch 87/200\n",
            "1000/1000 [==============================] - 0s 308us/step - loss: 2212.8512\n",
            "Epoch 88/200\n",
            "1000/1000 [==============================] - 0s 312us/step - loss: 2213.7946\n",
            "Epoch 89/200\n",
            "1000/1000 [==============================] - 0s 319us/step - loss: 2212.2573\n",
            "Epoch 90/200\n",
            "1000/1000 [==============================] - 0s 310us/step - loss: 2212.3613\n",
            "Epoch 91/200\n",
            "1000/1000 [==============================] - 0s 305us/step - loss: 2218.2208\n",
            "Epoch 92/200\n",
            "1000/1000 [==============================] - 0s 325us/step - loss: 2211.4789\n",
            "Epoch 93/200\n",
            "1000/1000 [==============================] - 0s 316us/step - loss: 2213.8054\n",
            "Epoch 94/200\n",
            "1000/1000 [==============================] - 0s 313us/step - loss: 2211.9973\n",
            "Epoch 95/200\n",
            "1000/1000 [==============================] - 0s 323us/step - loss: 2211.4575\n",
            "Epoch 96/200\n",
            "1000/1000 [==============================] - 0s 309us/step - loss: 2212.8448\n",
            "Epoch 97/200\n",
            "1000/1000 [==============================] - 0s 314us/step - loss: 2221.6431\n",
            "Epoch 98/200\n",
            "1000/1000 [==============================] - 0s 309us/step - loss: 2209.0965\n",
            "Epoch 99/200\n",
            "1000/1000 [==============================] - 0s 319us/step - loss: 2218.0748\n",
            "Epoch 100/200\n",
            "1000/1000 [==============================] - 0s 313us/step - loss: 2212.3684\n",
            "Epoch 101/200\n",
            "1000/1000 [==============================] - 0s 310us/step - loss: 2212.7736\n",
            "Epoch 102/200\n",
            "1000/1000 [==============================] - 0s 319us/step - loss: 2217.8185\n",
            "Epoch 103/200\n",
            "1000/1000 [==============================] - 0s 312us/step - loss: 2207.9405\n",
            "Epoch 104/200\n",
            "1000/1000 [==============================] - 0s 312us/step - loss: 2214.5868\n",
            "Epoch 105/200\n",
            "1000/1000 [==============================] - 0s 324us/step - loss: 2232.0678\n",
            "Epoch 106/200\n",
            "1000/1000 [==============================] - 0s 311us/step - loss: 2221.1755\n",
            "Epoch 107/200\n",
            "1000/1000 [==============================] - 0s 315us/step - loss: 2211.8504\n",
            "Epoch 108/200\n",
            "1000/1000 [==============================] - 0s 324us/step - loss: 2207.8802\n",
            "Epoch 109/200\n",
            "1000/1000 [==============================] - 0s 311us/step - loss: 2212.7558\n",
            "Epoch 110/200\n",
            "1000/1000 [==============================] - 0s 315us/step - loss: 2210.0660\n",
            "Epoch 111/200\n",
            "1000/1000 [==============================] - 0s 309us/step - loss: 2207.8457\n",
            "Epoch 112/200\n",
            "1000/1000 [==============================] - 0s 316us/step - loss: 2205.0021\n",
            "Epoch 113/200\n",
            "1000/1000 [==============================] - 0s 313us/step - loss: 2210.9232\n",
            "Epoch 114/200\n",
            "1000/1000 [==============================] - 0s 304us/step - loss: 2211.1827\n",
            "Epoch 115/200\n",
            "1000/1000 [==============================] - 0s 309us/step - loss: 2211.7387\n",
            "Epoch 116/200\n",
            "1000/1000 [==============================] - 0s 308us/step - loss: 2209.9733\n",
            "Epoch 117/200\n",
            "1000/1000 [==============================] - 0s 305us/step - loss: 2210.0010\n",
            "Epoch 118/200\n",
            "1000/1000 [==============================] - 0s 314us/step - loss: 2212.4996\n",
            "Epoch 119/200\n",
            "1000/1000 [==============================] - 0s 315us/step - loss: 2204.8430\n",
            "Epoch 120/200\n",
            "1000/1000 [==============================] - 0s 316us/step - loss: 2206.0243\n",
            "Epoch 121/200\n",
            "1000/1000 [==============================] - 0s 320us/step - loss: 2224.6363\n",
            "Epoch 122/200\n",
            "1000/1000 [==============================] - 0s 307us/step - loss: 2222.1449\n",
            "Epoch 123/200\n",
            "1000/1000 [==============================] - 0s 305us/step - loss: 2205.5314\n",
            "Epoch 124/200\n",
            "1000/1000 [==============================] - 0s 315us/step - loss: 2206.5038\n",
            "Epoch 125/200\n",
            "1000/1000 [==============================] - 0s 317us/step - loss: 2209.4853\n",
            "Epoch 126/200\n",
            "1000/1000 [==============================] - 0s 320us/step - loss: 2214.1912\n",
            "Epoch 127/200\n",
            "1000/1000 [==============================] - 0s 314us/step - loss: 2206.2251\n",
            "Epoch 128/200\n",
            "1000/1000 [==============================] - 0s 324us/step - loss: 2203.9002\n",
            "Epoch 129/200\n",
            "1000/1000 [==============================] - 0s 311us/step - loss: 2205.4786\n",
            "Epoch 130/200\n",
            "1000/1000 [==============================] - 0s 315us/step - loss: 2207.2322\n",
            "Epoch 131/200\n",
            "1000/1000 [==============================] - 0s 324us/step - loss: 2205.1071\n",
            "Epoch 132/200\n",
            "1000/1000 [==============================] - 0s 308us/step - loss: 2212.2637\n",
            "Epoch 133/200\n",
            "1000/1000 [==============================] - 0s 308us/step - loss: 2211.1617\n",
            "Epoch 134/200\n",
            "1000/1000 [==============================] - 0s 317us/step - loss: 2206.8401\n",
            "Epoch 135/200\n",
            "1000/1000 [==============================] - 0s 308us/step - loss: 2210.4153\n",
            "Epoch 136/200\n",
            "1000/1000 [==============================] - 0s 313us/step - loss: 2205.6049\n",
            "Epoch 137/200\n",
            "1000/1000 [==============================] - 0s 310us/step - loss: 2205.7724\n",
            "Epoch 138/200\n",
            "1000/1000 [==============================] - 0s 314us/step - loss: 2207.8667\n",
            "Epoch 139/200\n",
            "1000/1000 [==============================] - 0s 312us/step - loss: 2205.7469\n",
            "Epoch 140/200\n",
            "1000/1000 [==============================] - 0s 315us/step - loss: 2204.6373\n",
            "Epoch 141/200\n",
            "1000/1000 [==============================] - 0s 326us/step - loss: 2211.2806\n",
            "Epoch 142/200\n",
            "1000/1000 [==============================] - 0s 315us/step - loss: 2212.3691\n",
            "Epoch 143/200\n",
            "1000/1000 [==============================] - 0s 311us/step - loss: 2207.4573\n",
            "Epoch 144/200\n",
            "1000/1000 [==============================] - 0s 317us/step - loss: 2212.1176\n",
            "Epoch 145/200\n",
            "1000/1000 [==============================] - 0s 309us/step - loss: 2213.9832\n",
            "Epoch 146/200\n",
            "1000/1000 [==============================] - 0s 307us/step - loss: 2211.1248\n",
            "Epoch 147/200\n",
            "1000/1000 [==============================] - 0s 307us/step - loss: 2208.5110\n",
            "Epoch 148/200\n",
            "1000/1000 [==============================] - 0s 314us/step - loss: 2208.7254\n",
            "Epoch 149/200\n",
            "1000/1000 [==============================] - 0s 303us/step - loss: 2203.4712\n",
            "Epoch 150/200\n",
            "1000/1000 [==============================] - 0s 307us/step - loss: 2207.0047\n",
            "Epoch 151/200\n",
            "1000/1000 [==============================] - 0s 313us/step - loss: 2209.9841\n",
            "Epoch 152/200\n",
            "1000/1000 [==============================] - 0s 312us/step - loss: 2204.6896\n",
            "Epoch 153/200\n",
            "1000/1000 [==============================] - 0s 305us/step - loss: 2213.8677\n",
            "Epoch 154/200\n",
            "1000/1000 [==============================] - 0s 313us/step - loss: 2209.9433\n",
            "Epoch 155/200\n",
            "1000/1000 [==============================] - 0s 308us/step - loss: 2207.5025\n",
            "Epoch 156/200\n",
            "1000/1000 [==============================] - 0s 305us/step - loss: 2209.3814\n",
            "Epoch 157/200\n",
            "1000/1000 [==============================] - 0s 316us/step - loss: 2205.6293\n",
            "Epoch 158/200\n",
            "1000/1000 [==============================] - 0s 310us/step - loss: 2204.4227\n",
            "Epoch 159/200\n",
            "1000/1000 [==============================] - 0s 304us/step - loss: 2207.0264\n",
            "Epoch 160/200\n",
            "1000/1000 [==============================] - 0s 305us/step - loss: 2208.6091\n",
            "Epoch 161/200\n",
            "1000/1000 [==============================] - 0s 314us/step - loss: 2207.8360\n",
            "Epoch 162/200\n",
            "1000/1000 [==============================] - 0s 323us/step - loss: 2210.3150\n",
            "Epoch 163/200\n",
            "1000/1000 [==============================] - 0s 308us/step - loss: 2213.4248\n",
            "Epoch 164/200\n",
            "1000/1000 [==============================] - 0s 315us/step - loss: 2209.4668\n",
            "Epoch 165/200\n",
            "1000/1000 [==============================] - 0s 317us/step - loss: 2207.1582\n",
            "Epoch 166/200\n",
            "1000/1000 [==============================] - 0s 310us/step - loss: 2204.9206\n",
            "Epoch 167/200\n",
            "1000/1000 [==============================] - 0s 307us/step - loss: 2211.3798\n",
            "Epoch 168/200\n",
            "1000/1000 [==============================] - 0s 313us/step - loss: 2205.5857\n",
            "Epoch 169/200\n",
            "1000/1000 [==============================] - 0s 305us/step - loss: 2203.9596\n",
            "Epoch 170/200\n",
            "1000/1000 [==============================] - 0s 301us/step - loss: 2203.5904\n",
            "Epoch 171/200\n",
            "1000/1000 [==============================] - 0s 312us/step - loss: 2207.1895\n",
            "Epoch 172/200\n",
            "1000/1000 [==============================] - 0s 308us/step - loss: 2200.4637\n",
            "Epoch 173/200\n",
            "1000/1000 [==============================] - 0s 305us/step - loss: 2204.3287\n",
            "Epoch 174/200\n",
            "1000/1000 [==============================] - 0s 322us/step - loss: 2202.7592\n",
            "Epoch 175/200\n",
            "1000/1000 [==============================] - 0s 314us/step - loss: 2209.2898\n",
            "Epoch 176/200\n",
            "1000/1000 [==============================] - 0s 305us/step - loss: 2207.2764\n",
            "Epoch 177/200\n",
            "1000/1000 [==============================] - 0s 317us/step - loss: 2218.8767\n",
            "Epoch 178/200\n",
            "1000/1000 [==============================] - 0s 306us/step - loss: 2211.3407\n",
            "Epoch 179/200\n",
            "1000/1000 [==============================] - 0s 300us/step - loss: 2203.7539\n",
            "Epoch 180/200\n",
            "1000/1000 [==============================] - 0s 298us/step - loss: 2209.5978\n",
            "Epoch 181/200\n",
            "1000/1000 [==============================] - 0s 316us/step - loss: 2215.7518\n",
            "Epoch 182/200\n",
            "1000/1000 [==============================] - 0s 322us/step - loss: 2203.7488\n",
            "Epoch 183/200\n",
            "1000/1000 [==============================] - 0s 304us/step - loss: 2202.1282\n",
            "Epoch 184/200\n",
            "1000/1000 [==============================] - 0s 313us/step - loss: 2202.3317\n",
            "Epoch 185/200\n",
            "1000/1000 [==============================] - 0s 307us/step - loss: 2200.9302\n",
            "Epoch 186/200\n",
            "1000/1000 [==============================] - 0s 302us/step - loss: 2205.1187\n",
            "Epoch 187/200\n",
            "1000/1000 [==============================] - 0s 310us/step - loss: 2202.2543\n",
            "Epoch 188/200\n",
            "1000/1000 [==============================] - 0s 308us/step - loss: 2230.3729\n",
            "Epoch 189/200\n",
            "1000/1000 [==============================] - 0s 305us/step - loss: 2202.4928\n",
            "Epoch 190/200\n",
            "1000/1000 [==============================] - 0s 321us/step - loss: 2207.8849\n",
            "Epoch 191/200\n",
            "1000/1000 [==============================] - 0s 308us/step - loss: 2205.9776\n",
            "Epoch 192/200\n",
            "1000/1000 [==============================] - 0s 308us/step - loss: 2210.8326\n",
            "Epoch 193/200\n",
            "1000/1000 [==============================] - 0s 307us/step - loss: 2205.2727\n",
            "Epoch 194/200\n",
            "1000/1000 [==============================] - 0s 315us/step - loss: 2202.2704\n",
            "Epoch 195/200\n",
            "1000/1000 [==============================] - 0s 316us/step - loss: 2209.3669\n",
            "Epoch 196/200\n",
            "1000/1000 [==============================] - 0s 301us/step - loss: 2202.1607\n",
            "Epoch 197/200\n",
            "1000/1000 [==============================] - 0s 309us/step - loss: 2211.8281\n",
            "Epoch 198/200\n",
            "1000/1000 [==============================] - 0s 312us/step - loss: 2207.6003\n",
            "Epoch 199/200\n",
            "1000/1000 [==============================] - 0s 305us/step - loss: 2214.0841\n",
            "Epoch 200/200\n",
            "1000/1000 [==============================] - 0s 315us/step - loss: 2205.5726\n"
          ],
          "name": "stdout"
        },
        {
          "output_type": "execute_result",
          "data": {
            "text/plain": [
              "<keras.callbacks.History at 0x7ff77b57d668>"
            ]
          },
          "metadata": {
            "tags": []
          },
          "execution_count": 28
        }
      ]
    },
    {
      "metadata": {
        "id": "b_g2YZVV-1is",
        "colab_type": "code",
        "colab": {
          "base_uri": "https://localhost:8080/",
          "height": 51
        },
        "outputId": "e3144ae9-866e-443f-93da-33251670633b"
      },
      "cell_type": "code",
      "source": [
        "model.evaluate(X_test_den_img, Y_test_den)"
      ],
      "execution_count": 29,
      "outputs": [
        {
          "output_type": "stream",
          "text": [
            "1000/1000 [==============================] - 0s 224us/step\n"
          ],
          "name": "stdout"
        },
        {
          "output_type": "execute_result",
          "data": {
            "text/plain": [
              "2205.494970703125"
            ]
          },
          "metadata": {
            "tags": []
          },
          "execution_count": 29
        }
      ]
    },
    {
      "metadata": {
        "id": "hNVgbHxA-1iu",
        "colab_type": "code",
        "colab": {}
      },
      "cell_type": "code",
      "source": [
        "Y_predict_den=model.predict(X_test_den_img)"
      ],
      "execution_count": 0,
      "outputs": []
    },
    {
      "metadata": {
        "id": "1SOTxNOU-1iq",
        "colab_type": "code",
        "colab": {
          "base_uri": "https://localhost:8080/",
          "height": 366
        },
        "outputId": "b3980481-e471-41b7-ea64-66e44cc5b52c"
      },
      "cell_type": "code",
      "source": [
        "plt.imshow(Y_predict_den[1].reshape(72,72),cmap='gray')\n",
        "# same method failed"
      ],
      "execution_count": 31,
      "outputs": [
        {
          "output_type": "execute_result",
          "data": {
            "text/plain": [
              "<matplotlib.image.AxesImage at 0x7ff77adf2cf8>"
            ]
          },
          "metadata": {
            "tags": []
          },
          "execution_count": 31
        },
        {
          "output_type": "display_data",
          "data": {
            "image/png": "[encoded data removed]",
            "text/plain": [
              "<matplotlib.figure.Figure at 0x7ff77b565cc0>"
            ]
          },
          "metadata": {
            "tags": []
          }
        }
      ]
    },
    {
      "metadata": {
        "id": "pdopdDPk5cW5",
        "colab_type": "text"
      },
      "cell_type": "markdown",
      "source": [
        "# Hourglass model for denoising"
      ]
    },
    {
      "metadata": {
        "id": "RmugvjuVp5da",
        "colab_type": "code",
        "colab": {}
      },
      "cell_type": "code",
      "source": [
        "keras.backend.set_image_data_format('channels_first')\n",
        "input_img = Input(shape=(1,72,72))  # adapt this if using `channels_first` image data format\n",
        "\n",
        "x = Conv2D(32, (3, 3), activation='relu', padding='same')(input_img)\n",
        "x = MaxPooling2D((2, 2), padding='same')(x)\n",
        "x = Conv2D(32, (3, 3), activation='relu', padding='same')(x)\n",
        "encoded = MaxPooling2D((2, 2), padding='same')(x)\n",
        "\n",
        "# at this point the representation is (7, 7, 32)\n",
        "\n",
        "x = Conv2D(32, (3, 3), activation='relu', padding='same')(encoded)\n",
        "x = UpSampling2D((2, 2))(x)\n",
        "x = Conv2D(32, (3, 3), activation='relu', padding='same')(x)\n",
        "x = UpSampling2D((2, 2))(x)\n",
        "decoded = Conv2D(1, (3, 3), activation='sigmoid', padding='same')(x)\n",
        "\n",
        "autoencoder = Model(input_img, decoded)\n",
        "autoencoder.compile(optimizer='adadelta', loss='mse')"
      ],
      "execution_count": 0,
      "outputs": []
    },
    {
      "metadata": {
        "id": "lGTtHJ-q2bNy",
        "colab_type": "code",
        "colab": {
          "base_uri": "https://localhost:8080/",
          "height": 476
        },
        "outputId": "ee41ab14-024a-40bb-a266-25b2853b5b17"
      },
      "cell_type": "code",
      "source": [
        "autoencoder.summary()"
      ],
      "execution_count": 60,
      "outputs": [
        {
          "output_type": "stream",
          "text": [
            "_________________________________________________________________\n",
            "Layer (type)                 Output Shape              Param #   \n",
            "=================================================================\n",
            "input_6 (InputLayer)         (None, 1, 72, 72)         0         \n",
            "_________________________________________________________________\n",
            "conv2d_33 (Conv2D)           (None, 32, 72, 72)        320       \n",
            "_________________________________________________________________\n",
            "max_pooling2d_9 (MaxPooling2 (None, 32, 36, 36)        0         \n",
            "_________________________________________________________________\n",
            "conv2d_34 (Conv2D)           (None, 32, 36, 36)        9248      \n",
            "_________________________________________________________________\n",
            "max_pooling2d_10 (MaxPooling (None, 32, 18, 18)        0         \n",
            "_________________________________________________________________\n",
            "conv2d_35 (Conv2D)           (None, 32, 18, 18)        9248      \n",
            "_________________________________________________________________\n",
            "up_sampling2d_9 (UpSampling2 (None, 32, 36, 36)        0         \n",
            "_________________________________________________________________\n",
            "conv2d_36 (Conv2D)           (None, 32, 36, 36)        9248      \n",
            "_________________________________________________________________\n",
            "up_sampling2d_10 (UpSampling (None, 32, 72, 72)        0         \n",
            "_________________________________________________________________\n",
            "conv2d_37 (Conv2D)           (None, 1, 72, 72)         289       \n",
            "=================================================================\n",
            "Total params: 28,353\n",
            "Trainable params: 28,353\n",
            "Non-trainable params: 0\n",
            "_________________________________________________________________\n"
          ],
          "name": "stdout"
        }
      ]
    },
    {
      "metadata": {
        "id": "PJ5kHNDi2bSN",
        "colab_type": "code",
        "colab": {}
      },
      "cell_type": "code",
      "source": [
        ""
      ],
      "execution_count": 0,
      "outputs": []
    },
    {
      "metadata": {
        "id": "Hlsa_W3o-1iv",
        "colab_type": "code",
        "colab": {
          "base_uri": "https://localhost:8080/",
          "height": 1255
        },
        "outputId": "3254ee36-4984-4cc4-e276-065367227c76"
      },
      "cell_type": "code",
      "source": [
        "autoencoder.fit(X_train_den_img, Y_train_den_img,\n",
        "                epochs=50,\n",
        "                batch_size=8,\n",
        "                shuffle=True,\n",
        "                validation_data=(X_test_den_img, Y_test_den_img),\n",
        "#                 callbacks=[TensorBoard(log_dir='/tmp/tb', histogram_freq=0, write_graph=False)]\n",
        "               )"
      ],
      "execution_count": 66,
      "outputs": [
        {
          "output_type": "stream",
          "text": [
            "Train on 1000 samples, validate on 1000 samples\n",
            "Epoch 1/50\n",
            "1000/1000 [==============================] - 2s 2ms/step - loss: 61491.8352 - val_loss: 61630.1503\n",
            "Epoch 2/50\n",
            "1000/1000 [==============================] - 2s 2ms/step - loss: 61491.8353 - val_loss: 61630.1503\n",
            "Epoch 3/50\n",
            "1000/1000 [==============================] - 2s 2ms/step - loss: 61491.8350 - val_loss: 61630.1503\n",
            "Epoch 4/50\n",
            "1000/1000 [==============================] - 2s 2ms/step - loss: 61491.8349 - val_loss: 61630.1503\n",
            "Epoch 5/50\n",
            "1000/1000 [==============================] - 2s 2ms/step - loss: 61491.8352 - val_loss: 61630.1503\n",
            "Epoch 6/50\n",
            "1000/1000 [==============================] - 2s 2ms/step - loss: 61491.8350 - val_loss: 61630.1503\n",
            "Epoch 7/50\n",
            "1000/1000 [==============================] - 2s 2ms/step - loss: 61491.8349 - val_loss: 61630.1503\n",
            "Epoch 8/50\n",
            " 968/1000 [============================>.] - ETA: 0s - loss: 61509.5505"
          ],
          "name": "stdout"
        },
        {
          "output_type": "error",
          "ename": "KeyboardInterrupt",
          "evalue": "ignored",
          "traceback": [
            "\u001b[0;31m---------------------------------------------------------------------------\u001b[0m",
            "\u001b[0;31mKeyboardInterrupt\u001b[0m                         Traceback (most recent call last)",
            "\u001b[0;32m<ipython-input-66-8297f659db43>\u001b[0m in \u001b[0;36m<module>\u001b[0;34m()\u001b[0m\n\u001b[1;32m      3\u001b[0m                 \u001b[0mbatch_size\u001b[0m\u001b[0;34m=\u001b[0m\u001b[0;36m8\u001b[0m\u001b[0;34m,\u001b[0m\u001b[0;34m\u001b[0m\u001b[0;34m\u001b[0m\u001b[0m\n\u001b[1;32m      4\u001b[0m                 \u001b[0mshuffle\u001b[0m\u001b[0;34m=\u001b[0m\u001b[0;32mTrue\u001b[0m\u001b[0;34m,\u001b[0m\u001b[0;34m\u001b[0m\u001b[0;34m\u001b[0m\u001b[0m\n\u001b[0;32m----> 5\u001b[0;31m                 \u001b[0mvalidation_data\u001b[0m\u001b[0;34m=\u001b[0m\u001b[0;34m(\u001b[0m\u001b[0mX_test_den_img\u001b[0m\u001b[0;34m,\u001b[0m \u001b[0mY_test_den_img\u001b[0m\u001b[0;34m)\u001b[0m\u001b[0;34m,\u001b[0m\u001b[0;34m\u001b[0m\u001b[0;34m\u001b[0m\u001b[0m\n\u001b[0m\u001b[1;32m      6\u001b[0m \u001b[0;31m#                 callbacks=[TensorBoard(log_dir='/tmp/tb', histogram_freq=0, write_graph=False)]\u001b[0m\u001b[0;34m\u001b[0m\u001b[0;34m\u001b[0m\u001b[0;34m\u001b[0m\u001b[0m\n\u001b[1;32m      7\u001b[0m                )\n",
            "\u001b[0;32m/usr/local/lib/python3.6/dist-packages/keras/engine/training.py\u001b[0m in \u001b[0;36mfit\u001b[0;34m(self, x, y, batch_size, epochs, verbose, callbacks, validation_split, validation_data, shuffle, class_weight, sample_weight, initial_epoch, steps_per_epoch, validation_steps, **kwargs)\u001b[0m\n\u001b[1;32m   1037\u001b[0m                                         \u001b[0minitial_epoch\u001b[0m\u001b[0;34m=\u001b[0m\u001b[0minitial_epoch\u001b[0m\u001b[0;34m,\u001b[0m\u001b[0;34m\u001b[0m\u001b[0;34m\u001b[0m\u001b[0m\n\u001b[1;32m   1038\u001b[0m                                         \u001b[0msteps_per_epoch\u001b[0m\u001b[0;34m=\u001b[0m\u001b[0msteps_per_epoch\u001b[0m\u001b[0;34m,\u001b[0m\u001b[0;34m\u001b[0m\u001b[0;34m\u001b[0m\u001b[0m\n\u001b[0;32m-> 1039\u001b[0;31m                                         validation_steps=validation_steps)\n\u001b[0m\u001b[1;32m   1040\u001b[0m \u001b[0;34m\u001b[0m\u001b[0m\n\u001b[1;32m   1041\u001b[0m     def evaluate(self, x=None, y=None,\n",
            "\u001b[0;32m/usr/local/lib/python3.6/dist-packages/keras/engine/training_arrays.py\u001b[0m in \u001b[0;36mfit_loop\u001b[0;34m(model, f, ins, out_labels, batch_size, epochs, verbose, callbacks, val_f, val_ins, shuffle, callback_metrics, initial_epoch, steps_per_epoch, validation_steps)\u001b[0m\n\u001b[1;32m    210\u001b[0m                         val_outs = test_loop(model, val_f, val_ins,\n\u001b[1;32m    211\u001b[0m                                              \u001b[0mbatch_size\u001b[0m\u001b[0;34m=\u001b[0m\u001b[0mbatch_size\u001b[0m\u001b[0;34m,\u001b[0m\u001b[0;34m\u001b[0m\u001b[0;34m\u001b[0m\u001b[0m\n\u001b[0;32m--> 212\u001b[0;31m                                              verbose=0)\n\u001b[0m\u001b[1;32m    213\u001b[0m                         \u001b[0mval_outs\u001b[0m \u001b[0;34m=\u001b[0m \u001b[0mto_list\u001b[0m\u001b[0;34m(\u001b[0m\u001b[0mval_outs\u001b[0m\u001b[0;34m)\u001b[0m\u001b[0;34m\u001b[0m\u001b[0;34m\u001b[0m\u001b[0m\n\u001b[1;32m    214\u001b[0m                         \u001b[0;31m# Same labels assumed.\u001b[0m\u001b[0;34m\u001b[0m\u001b[0;34m\u001b[0m\u001b[0;34m\u001b[0m\u001b[0m\n",
            "\u001b[0;32m/usr/local/lib/python3.6/dist-packages/keras/engine/training_arrays.py\u001b[0m in \u001b[0;36mtest_loop\u001b[0;34m(model, f, ins, batch_size, verbose, steps)\u001b[0m\n\u001b[1;32m    390\u001b[0m                 \u001b[0mins_batch\u001b[0m\u001b[0;34m[\u001b[0m\u001b[0mi\u001b[0m\u001b[0;34m]\u001b[0m \u001b[0;34m=\u001b[0m \u001b[0mins_batch\u001b[0m\u001b[0;34m[\u001b[0m\u001b[0mi\u001b[0m\u001b[0;34m]\u001b[0m\u001b[0;34m.\u001b[0m\u001b[0mtoarray\u001b[0m\u001b[0;34m(\u001b[0m\u001b[0;34m)\u001b[0m\u001b[0;34m\u001b[0m\u001b[0;34m\u001b[0m\u001b[0m\n\u001b[1;32m    391\u001b[0m \u001b[0;34m\u001b[0m\u001b[0m\n\u001b[0;32m--> 392\u001b[0;31m             \u001b[0mbatch_outs\u001b[0m \u001b[0;34m=\u001b[0m \u001b[0mf\u001b[0m\u001b[0;34m(\u001b[0m\u001b[0mins_batch\u001b[0m\u001b[0;34m)\u001b[0m\u001b[0;34m\u001b[0m\u001b[0;34m\u001b[0m\u001b[0m\n\u001b[0m\u001b[1;32m    393\u001b[0m             \u001b[0;32mif\u001b[0m \u001b[0misinstance\u001b[0m\u001b[0;34m(\u001b[0m\u001b[0mbatch_outs\u001b[0m\u001b[0;34m,\u001b[0m \u001b[0mlist\u001b[0m\u001b[0;34m)\u001b[0m\u001b[0;34m:\u001b[0m\u001b[0;34m\u001b[0m\u001b[0;34m\u001b[0m\u001b[0m\n\u001b[1;32m    394\u001b[0m                 \u001b[0;32mif\u001b[0m \u001b[0mbatch_index\u001b[0m \u001b[0;34m==\u001b[0m \u001b[0;36m0\u001b[0m\u001b[0;34m:\u001b[0m\u001b[0;34m\u001b[0m\u001b[0;34m\u001b[0m\u001b[0m\n",
            "\u001b[0;32m/usr/local/lib/python3.6/dist-packages/keras/backend/tensorflow_backend.py\u001b[0m in \u001b[0;36m__call__\u001b[0;34m(self, inputs)\u001b[0m\n\u001b[1;32m   2713\u001b[0m                 \u001b[0;32mreturn\u001b[0m \u001b[0mself\u001b[0m\u001b[0;34m.\u001b[0m\u001b[0m_legacy_call\u001b[0m\u001b[0;34m(\u001b[0m\u001b[0minputs\u001b[0m\u001b[0;34m)\u001b[0m\u001b[0;34m\u001b[0m\u001b[0;34m\u001b[0m\u001b[0m\n\u001b[1;32m   2714\u001b[0m \u001b[0;34m\u001b[0m\u001b[0m\n\u001b[0;32m-> 2715\u001b[0;31m             \u001b[0;32mreturn\u001b[0m \u001b[0mself\u001b[0m\u001b[0;34m.\u001b[0m\u001b[0m_call\u001b[0m\u001b[0;34m(\u001b[0m\u001b[0minputs\u001b[0m\u001b[0;34m)\u001b[0m\u001b[0;34m\u001b[0m\u001b[0;34m\u001b[0m\u001b[0m\n\u001b[0m\u001b[1;32m   2716\u001b[0m         \u001b[0;32melse\u001b[0m\u001b[0;34m:\u001b[0m\u001b[0;34m\u001b[0m\u001b[0;34m\u001b[0m\u001b[0m\n\u001b[1;32m   2717\u001b[0m             \u001b[0;32mif\u001b[0m \u001b[0mpy_any\u001b[0m\u001b[0;34m(\u001b[0m\u001b[0mis_tensor\u001b[0m\u001b[0;34m(\u001b[0m\u001b[0mx\u001b[0m\u001b[0;34m)\u001b[0m \u001b[0;32mfor\u001b[0m \u001b[0mx\u001b[0m \u001b[0;32min\u001b[0m \u001b[0minputs\u001b[0m\u001b[0;34m)\u001b[0m\u001b[0;34m:\u001b[0m\u001b[0;34m\u001b[0m\u001b[0;34m\u001b[0m\u001b[0m\n",
            "\u001b[0;32m/usr/local/lib/python3.6/dist-packages/keras/backend/tensorflow_backend.py\u001b[0m in \u001b[0;36m_call\u001b[0;34m(self, inputs)\u001b[0m\n\u001b[1;32m   2673\u001b[0m             \u001b[0mfetched\u001b[0m \u001b[0;34m=\u001b[0m \u001b[0mself\u001b[0m\u001b[0;34m.\u001b[0m\u001b[0m_callable_fn\u001b[0m\u001b[0;34m(\u001b[0m\u001b[0;34m*\u001b[0m\u001b[0marray_vals\u001b[0m\u001b[0;34m,\u001b[0m \u001b[0mrun_metadata\u001b[0m\u001b[0;34m=\u001b[0m\u001b[0mself\u001b[0m\u001b[0;34m.\u001b[0m\u001b[0mrun_metadata\u001b[0m\u001b[0;34m)\u001b[0m\u001b[0;34m\u001b[0m\u001b[0;34m\u001b[0m\u001b[0m\n\u001b[1;32m   2674\u001b[0m         \u001b[0;32melse\u001b[0m\u001b[0;34m:\u001b[0m\u001b[0;34m\u001b[0m\u001b[0;34m\u001b[0m\u001b[0m\n\u001b[0;32m-> 2675\u001b[0;31m             \u001b[0mfetched\u001b[0m \u001b[0;34m=\u001b[0m \u001b[0mself\u001b[0m\u001b[0;34m.\u001b[0m\u001b[0m_callable_fn\u001b[0m\u001b[0;34m(\u001b[0m\u001b[0;34m*\u001b[0m\u001b[0marray_vals\u001b[0m\u001b[0;34m)\u001b[0m\u001b[0;34m\u001b[0m\u001b[0;34m\u001b[0m\u001b[0m\n\u001b[0m\u001b[1;32m   2676\u001b[0m         \u001b[0;32mreturn\u001b[0m \u001b[0mfetched\u001b[0m\u001b[0;34m[\u001b[0m\u001b[0;34m:\u001b[0m\u001b[0mlen\u001b[0m\u001b[0;34m(\u001b[0m\u001b[0mself\u001b[0m\u001b[0;34m.\u001b[0m\u001b[0moutputs\u001b[0m\u001b[0;34m)\u001b[0m\u001b[0;34m]\u001b[0m\u001b[0;34m\u001b[0m\u001b[0;34m\u001b[0m\u001b[0m\n\u001b[1;32m   2677\u001b[0m \u001b[0;34m\u001b[0m\u001b[0m\n",
            "\u001b[0;32m/usr/local/lib/python3.6/dist-packages/tensorflow/python/client/session.py\u001b[0m in \u001b[0;36m__call__\u001b[0;34m(self, *args, **kwargs)\u001b[0m\n\u001b[1;32m   1437\u001b[0m           ret = tf_session.TF_SessionRunCallable(\n\u001b[1;32m   1438\u001b[0m               \u001b[0mself\u001b[0m\u001b[0;34m.\u001b[0m\u001b[0m_session\u001b[0m\u001b[0;34m.\u001b[0m\u001b[0m_session\u001b[0m\u001b[0;34m,\u001b[0m \u001b[0mself\u001b[0m\u001b[0;34m.\u001b[0m\u001b[0m_handle\u001b[0m\u001b[0;34m,\u001b[0m \u001b[0margs\u001b[0m\u001b[0;34m,\u001b[0m \u001b[0mstatus\u001b[0m\u001b[0;34m,\u001b[0m\u001b[0;34m\u001b[0m\u001b[0;34m\u001b[0m\u001b[0m\n\u001b[0;32m-> 1439\u001b[0;31m               run_metadata_ptr)\n\u001b[0m\u001b[1;32m   1440\u001b[0m         \u001b[0;32mif\u001b[0m \u001b[0mrun_metadata\u001b[0m\u001b[0;34m:\u001b[0m\u001b[0;34m\u001b[0m\u001b[0;34m\u001b[0m\u001b[0m\n\u001b[1;32m   1441\u001b[0m           \u001b[0mproto_data\u001b[0m \u001b[0;34m=\u001b[0m \u001b[0mtf_session\u001b[0m\u001b[0;34m.\u001b[0m\u001b[0mTF_GetBuffer\u001b[0m\u001b[0;34m(\u001b[0m\u001b[0mrun_metadata_ptr\u001b[0m\u001b[0;34m)\u001b[0m\u001b[0;34m\u001b[0m\u001b[0;34m\u001b[0m\u001b[0m\n",
            "\u001b[0;31mKeyboardInterrupt\u001b[0m: "
          ]
        }
      ]
    },
    {
      "metadata": {
        "id": "YW4bvgEi-1ix",
        "colab_type": "code",
        "colab": {
          "base_uri": "https://localhost:8080/",
          "height": 51
        },
        "outputId": "c233f6f5-b06d-4388-9464-26e4eb9b4a64"
      },
      "cell_type": "code",
      "source": [
        "autoencoder.evaluate(X_test_den_img, Y_test_den_img)"
      ],
      "execution_count": 67,
      "outputs": [
        {
          "output_type": "stream",
          "text": [
            "1000/1000 [==============================] - 0s 276us/step\n"
          ],
          "name": "stdout"
        },
        {
          "output_type": "execute_result",
          "data": {
            "text/plain": [
              "61630.1503125"
            ]
          },
          "metadata": {
            "tags": []
          },
          "execution_count": 67
        }
      ]
    },
    {
      "metadata": {
        "id": "-Jw2MEUV-1iw",
        "colab_type": "code",
        "colab": {}
      },
      "cell_type": "code",
      "source": [
        "Y_predict_den=autoencoder.predict(X_test_den_img)"
      ],
      "execution_count": 0,
      "outputs": []
    },
    {
      "metadata": {
        "id": "RmoyRgOM-1iy",
        "colab_type": "code",
        "colab": {
          "base_uri": "https://localhost:8080/",
          "height": 366
        },
        "outputId": "97064a7b-e121-4aea-a3e6-a91c8199dbc0"
      },
      "cell_type": "code",
      "source": [
        "plt.imshow(Y_predict_den[1].reshape(72,72),cmap='gray')\n",
        "# hourglass net failed"
      ],
      "execution_count": 69,
      "outputs": [
        {
          "output_type": "execute_result",
          "data": {
            "text/plain": [
              "<matplotlib.image.AxesImage at 0x7ff779215a20>"
            ]
          },
          "metadata": {
            "tags": []
          },
          "execution_count": 69
        },
        {
          "output_type": "display_data",
          "data": {
            "image/png": "[encoded data removed]",
            "text/plain": [
              "<matplotlib.figure.Figure at 0x7ff7792484e0>"
            ]
          },
          "metadata": {
            "tags": []
          }
        }
      ]
    },
    {
      "metadata": {
        "id": "5BgdpBGK5UvS",
        "colab_type": "text"
      },
      "cell_type": "markdown",
      "source": [
        "# CNN model for denoising"
      ]
    },
    {
      "metadata": {
        "id": "fsDh2ZI6-1it",
        "colab_type": "code",
        "colab": {
          "base_uri": "https://localhost:8080/",
          "height": 1343
        },
        "outputId": "f68636d4-19b2-488a-ea4e-7f154e06a462"
      },
      "cell_type": "code",
      "source": [
        "keras.backend.set_image_data_format('channels_first')\n",
        "model_input = Input(shape=(1, 72, 72))\n",
        "x = Conv2D(16, (3, 3), strides=(1,1), padding=\"same\")(model_input)\n",
        "x = Activation(\"relu\")(x)\n",
        "for i in range(10):\n",
        "    x = Conv2D(16, (3, 3), strides=(1,1), padding=\"same\")(x)\n",
        "    x = Activation(\"relu\")(x)\n",
        "    x = BatchNormalization()(x)\n",
        "x = Conv2D(1, (3, 3), strides=(1,1), padding=\"same\")(x)\n",
        "x = Subtract()([model_input, x]) # input - noise\n",
        "    \n",
        "model = Model(model_input, x)\n",
        "model.compile(optimizer=Adam(lr=.05), loss='mse')\n",
        "model.summary()"
      ],
      "execution_count": 35,
      "outputs": [
        {
          "output_type": "stream",
          "text": [
            "__________________________________________________________________________________________________\n",
            "Layer (type)                    Output Shape         Param #     Connected to                     \n",
            "==================================================================================================\n",
            "input_13 (InputLayer)           (None, 1, 72, 72)    0                                            \n",
            "__________________________________________________________________________________________________\n",
            "conv2d_116 (Conv2D)             (None, 16, 72, 72)   160         input_13[0][0]                   \n",
            "__________________________________________________________________________________________________\n",
            "activation_107 (Activation)     (None, 16, 72, 72)   0           conv2d_116[0][0]                 \n",
            "__________________________________________________________________________________________________\n",
            "conv2d_117 (Conv2D)             (None, 16, 72, 72)   2320        activation_107[0][0]             \n",
            "__________________________________________________________________________________________________\n",
            "activation_108 (Activation)     (None, 16, 72, 72)   0           conv2d_117[0][0]                 \n",
            "__________________________________________________________________________________________________\n",
            "batch_normalization_51 (BatchNo (None, 16, 72, 72)   288         activation_108[0][0]             \n",
            "__________________________________________________________________________________________________\n",
            "conv2d_118 (Conv2D)             (None, 16, 72, 72)   2320        batch_normalization_51[0][0]     \n",
            "__________________________________________________________________________________________________\n",
            "activation_109 (Activation)     (None, 16, 72, 72)   0           conv2d_118[0][0]                 \n",
            "__________________________________________________________________________________________________\n",
            "batch_normalization_52 (BatchNo (None, 16, 72, 72)   288         activation_109[0][0]             \n",
            "__________________________________________________________________________________________________\n",
            "conv2d_119 (Conv2D)             (None, 16, 72, 72)   2320        batch_normalization_52[0][0]     \n",
            "__________________________________________________________________________________________________\n",
            "activation_110 (Activation)     (None, 16, 72, 72)   0           conv2d_119[0][0]                 \n",
            "__________________________________________________________________________________________________\n",
            "batch_normalization_53 (BatchNo (None, 16, 72, 72)   288         activation_110[0][0]             \n",
            "__________________________________________________________________________________________________\n",
            "conv2d_120 (Conv2D)             (None, 16, 72, 72)   2320        batch_normalization_53[0][0]     \n",
            "__________________________________________________________________________________________________\n",
            "activation_111 (Activation)     (None, 16, 72, 72)   0           conv2d_120[0][0]                 \n",
            "__________________________________________________________________________________________________\n",
            "batch_normalization_54 (BatchNo (None, 16, 72, 72)   288         activation_111[0][0]             \n",
            "__________________________________________________________________________________________________\n",
            "conv2d_121 (Conv2D)             (None, 16, 72, 72)   2320        batch_normalization_54[0][0]     \n",
            "__________________________________________________________________________________________________\n",
            "activation_112 (Activation)     (None, 16, 72, 72)   0           conv2d_121[0][0]                 \n",
            "__________________________________________________________________________________________________\n",
            "batch_normalization_55 (BatchNo (None, 16, 72, 72)   288         activation_112[0][0]             \n",
            "__________________________________________________________________________________________________\n",
            "conv2d_122 (Conv2D)             (None, 16, 72, 72)   2320        batch_normalization_55[0][0]     \n",
            "__________________________________________________________________________________________________\n",
            "activation_113 (Activation)     (None, 16, 72, 72)   0           conv2d_122[0][0]                 \n",
            "__________________________________________________________________________________________________\n",
            "batch_normalization_56 (BatchNo (None, 16, 72, 72)   288         activation_113[0][0]             \n",
            "__________________________________________________________________________________________________\n",
            "conv2d_123 (Conv2D)             (None, 16, 72, 72)   2320        batch_normalization_56[0][0]     \n",
            "__________________________________________________________________________________________________\n",
            "activation_114 (Activation)     (None, 16, 72, 72)   0           conv2d_123[0][0]                 \n",
            "__________________________________________________________________________________________________\n",
            "batch_normalization_57 (BatchNo (None, 16, 72, 72)   288         activation_114[0][0]             \n",
            "__________________________________________________________________________________________________\n",
            "conv2d_124 (Conv2D)             (None, 16, 72, 72)   2320        batch_normalization_57[0][0]     \n",
            "__________________________________________________________________________________________________\n",
            "activation_115 (Activation)     (None, 16, 72, 72)   0           conv2d_124[0][0]                 \n",
            "__________________________________________________________________________________________________\n",
            "batch_normalization_58 (BatchNo (None, 16, 72, 72)   288         activation_115[0][0]             \n",
            "__________________________________________________________________________________________________\n",
            "conv2d_125 (Conv2D)             (None, 16, 72, 72)   2320        batch_normalization_58[0][0]     \n",
            "__________________________________________________________________________________________________\n",
            "activation_116 (Activation)     (None, 16, 72, 72)   0           conv2d_125[0][0]                 \n",
            "__________________________________________________________________________________________________\n",
            "batch_normalization_59 (BatchNo (None, 16, 72, 72)   288         activation_116[0][0]             \n",
            "__________________________________________________________________________________________________\n",
            "conv2d_126 (Conv2D)             (None, 16, 72, 72)   2320        batch_normalization_59[0][0]     \n",
            "__________________________________________________________________________________________________\n",
            "activation_117 (Activation)     (None, 16, 72, 72)   0           conv2d_126[0][0]                 \n",
            "__________________________________________________________________________________________________\n",
            "batch_normalization_60 (BatchNo (None, 16, 72, 72)   288         activation_117[0][0]             \n",
            "__________________________________________________________________________________________________\n",
            "conv2d_127 (Conv2D)             (None, 1, 72, 72)    145         batch_normalization_60[0][0]     \n",
            "__________________________________________________________________________________________________\n",
            "subtract_10 (Subtract)          (None, 1, 72, 72)    0           input_13[0][0]                   \n",
            "                                                                 conv2d_127[0][0]                 \n",
            "==================================================================================================\n",
            "Total params: 26,385\n",
            "Trainable params: 24,945\n",
            "Non-trainable params: 1,440\n",
            "__________________________________________________________________________________________________\n"
          ],
          "name": "stdout"
        }
      ]
    },
    {
      "metadata": {
        "id": "elq6a3dK-1iz",
        "colab_type": "code",
        "colab": {
          "base_uri": "https://localhost:8080/",
          "height": 3924
        },
        "outputId": "c32351ac-6b25-4d30-ea4f-3ebb74811d9b"
      },
      "cell_type": "code",
      "source": [
        "model.fit(X_train_den_img, Y_train_den_img,\n",
        "                epochs=200,\n",
        "                batch_size=64,\n",
        "                shuffle=True,\n",
        "                validation_data=(X_test_den_img, Y_test_den_img),\n",
        "#                 callbacks=[TensorBoard(log_dir='/tmp/tb', histogram_freq=0, write_graph=False)]\n",
        "               )"
      ],
      "execution_count": 36,
      "outputs": [
        {
          "output_type": "stream",
          "text": [
            "Train on 3000 samples, validate on 3000 samples\n",
            "Epoch 1/200\n",
            "3000/3000 [==============================] - 16s 5ms/step - loss: 14099.1899 - val_loss: 24007.0177\n",
            "Epoch 2/200\n",
            "3000/3000 [==============================] - 10s 3ms/step - loss: 573.1887 - val_loss: 10162.2898\n",
            "Epoch 3/200\n",
            "3000/3000 [==============================] - 10s 3ms/step - loss: 398.9386 - val_loss: 14174.9391\n",
            "Epoch 4/200\n",
            "3000/3000 [==============================] - 10s 3ms/step - loss: 302.3103 - val_loss: 11734.9724\n",
            "Epoch 5/200\n",
            "3000/3000 [==============================] - 10s 3ms/step - loss: 216.2658 - val_loss: 42794.9731\n",
            "Epoch 6/200\n",
            "3000/3000 [==============================] - 10s 3ms/step - loss: 146.0993 - val_loss: 36542.7795\n",
            "Epoch 7/200\n",
            "3000/3000 [==============================] - 10s 3ms/step - loss: 107.0311 - val_loss: 36950.2575\n",
            "Epoch 8/200\n",
            "3000/3000 [==============================] - 10s 3ms/step - loss: 74.9151 - val_loss: 37184.4684\n",
            "Epoch 9/200\n",
            "3000/3000 [==============================] - 10s 3ms/step - loss: 66.3639 - val_loss: 39505.8760\n",
            "Epoch 10/200\n",
            "3000/3000 [==============================] - 10s 3ms/step - loss: 60.6071 - val_loss: 39031.2440\n",
            "Epoch 11/200\n",
            "3000/3000 [==============================] - 10s 3ms/step - loss: 59.0367 - val_loss: 10639.0945\n",
            "Epoch 12/200\n",
            "3000/3000 [==============================] - 10s 3ms/step - loss: 53.2805 - val_loss: 7950.2213\n",
            "Epoch 13/200\n",
            "3000/3000 [==============================] - 10s 3ms/step - loss: 51.1522 - val_loss: 2870.2915\n",
            "Epoch 14/200\n",
            "3000/3000 [==============================] - 10s 3ms/step - loss: 48.6762 - val_loss: 2134.0928\n",
            "Epoch 15/200\n",
            "3000/3000 [==============================] - 10s 3ms/step - loss: 45.0985 - val_loss: 2915.2760\n",
            "Epoch 16/200\n",
            "3000/3000 [==============================] - 10s 3ms/step - loss: 43.0747 - val_loss: 976.6263\n",
            "Epoch 17/200\n",
            "3000/3000 [==============================] - 10s 3ms/step - loss: 36.5726 - val_loss: 1628.7056\n",
            "Epoch 18/200\n",
            "3000/3000 [==============================] - 10s 3ms/step - loss: 37.4674 - val_loss: 279.7816\n",
            "Epoch 19/200\n",
            "3000/3000 [==============================] - 10s 3ms/step - loss: 31.3177 - val_loss: 469.8872\n",
            "Epoch 20/200\n",
            "3000/3000 [==============================] - 10s 3ms/step - loss: 26.1398 - val_loss: 614.1507\n",
            "Epoch 21/200\n",
            "3000/3000 [==============================] - 10s 3ms/step - loss: 23.4396 - val_loss: 103.3589\n",
            "Epoch 22/200\n",
            "3000/3000 [==============================] - 10s 3ms/step - loss: 23.4730 - val_loss: 81.4689\n",
            "Epoch 23/200\n",
            "3000/3000 [==============================] - 10s 3ms/step - loss: 35.2135 - val_loss: 6022.2658\n",
            "Epoch 24/200\n",
            "3000/3000 [==============================] - 10s 3ms/step - loss: 17.8256 - val_loss: 681.2423\n",
            "Epoch 25/200\n",
            "3000/3000 [==============================] - 10s 3ms/step - loss: 14.7233 - val_loss: 546.1685\n",
            "Epoch 26/200\n",
            "3000/3000 [==============================] - 10s 3ms/step - loss: 12.3821 - val_loss: 360.4781\n",
            "Epoch 27/200\n",
            "3000/3000 [==============================] - 10s 3ms/step - loss: 11.2193 - val_loss: 172.3767\n",
            "Epoch 28/200\n",
            "3000/3000 [==============================] - 10s 3ms/step - loss: 9.6933 - val_loss: 177.9882\n",
            "Epoch 29/200\n",
            "3000/3000 [==============================] - 10s 3ms/step - loss: 9.2503 - val_loss: 82.5687\n",
            "Epoch 30/200\n",
            "3000/3000 [==============================] - 10s 3ms/step - loss: 7.8435 - val_loss: 204.4415\n",
            "Epoch 31/200\n",
            "3000/3000 [==============================] - 10s 3ms/step - loss: 6.7577 - val_loss: 50.3695\n",
            "Epoch 32/200\n",
            "3000/3000 [==============================] - 10s 3ms/step - loss: 6.0147 - val_loss: 65.4963\n",
            "Epoch 33/200\n",
            "3000/3000 [==============================] - 10s 3ms/step - loss: 5.6701 - val_loss: 31.2771\n",
            "Epoch 34/200\n",
            "3000/3000 [==============================] - 10s 3ms/step - loss: 5.6093 - val_loss: 12.4568\n",
            "Epoch 35/200\n",
            "3000/3000 [==============================] - 10s 3ms/step - loss: 4.5388 - val_loss: 13.1222\n",
            "Epoch 36/200\n",
            "3000/3000 [==============================] - 10s 3ms/step - loss: 4.4279 - val_loss: 8.8671\n",
            "Epoch 37/200\n",
            "3000/3000 [==============================] - 10s 3ms/step - loss: 4.0558 - val_loss: 9.2694\n",
            "Epoch 38/200\n",
            "3000/3000 [==============================] - 10s 3ms/step - loss: 3.8849 - val_loss: 8.6044\n",
            "Epoch 39/200\n",
            "3000/3000 [==============================] - 10s 3ms/step - loss: 3.4753 - val_loss: 10.8062\n",
            "Epoch 40/200\n",
            "3000/3000 [==============================] - 10s 3ms/step - loss: 3.6068 - val_loss: 9.7089\n",
            "Epoch 41/200\n",
            "3000/3000 [==============================] - 10s 3ms/step - loss: 3.3770 - val_loss: 9.1724\n",
            "Epoch 42/200\n",
            "3000/3000 [==============================] - 10s 3ms/step - loss: 3.0472 - val_loss: 12.3336\n",
            "Epoch 43/200\n",
            "3000/3000 [==============================] - 10s 3ms/step - loss: 2.8861 - val_loss: 5.1994\n",
            "Epoch 44/200\n",
            "3000/3000 [==============================] - 10s 3ms/step - loss: 2.7572 - val_loss: 6.0382\n",
            "Epoch 45/200\n",
            "3000/3000 [==============================] - 10s 3ms/step - loss: 3.4044 - val_loss: 35.7537\n",
            "Epoch 46/200\n",
            "3000/3000 [==============================] - 10s 3ms/step - loss: 3.0545 - val_loss: 8.5013\n",
            "Epoch 47/200\n",
            "3000/3000 [==============================] - 10s 3ms/step - loss: 2.6761 - val_loss: 15.1846\n",
            "Epoch 48/200\n",
            "3000/3000 [==============================] - 10s 3ms/step - loss: 2.5555 - val_loss: 3.9234\n",
            "Epoch 49/200\n",
            "3000/3000 [==============================] - 10s 3ms/step - loss: 2.2370 - val_loss: 8.3895\n",
            "Epoch 50/200\n",
            "3000/3000 [==============================] - 10s 3ms/step - loss: 2.3951 - val_loss: 4.9591\n",
            "Epoch 51/200\n",
            "3000/3000 [==============================] - 10s 3ms/step - loss: 2.2463 - val_loss: 15.8048\n",
            "Epoch 52/200\n",
            "3000/3000 [==============================] - 10s 3ms/step - loss: 2.1018 - val_loss: 4.1567\n",
            "Epoch 53/200\n",
            "3000/3000 [==============================] - 10s 3ms/step - loss: 2.4965 - val_loss: 9.7623\n",
            "Epoch 54/200\n",
            "3000/3000 [==============================] - 10s 3ms/step - loss: 2.0791 - val_loss: 4.8181\n",
            "Epoch 55/200\n",
            "3000/3000 [==============================] - 10s 3ms/step - loss: 2.2856 - val_loss: 3.0609\n",
            "Epoch 56/200\n",
            "3000/3000 [==============================] - 10s 3ms/step - loss: 2.1782 - val_loss: 6.0640\n",
            "Epoch 57/200\n",
            "3000/3000 [==============================] - 10s 3ms/step - loss: 2.5444 - val_loss: 26.0820\n",
            "Epoch 58/200\n",
            "3000/3000 [==============================] - 10s 3ms/step - loss: 2.4751 - val_loss: 6.0570\n",
            "Epoch 59/200\n",
            "3000/3000 [==============================] - 10s 3ms/step - loss: 1.9000 - val_loss: 8.6153\n",
            "Epoch 60/200\n",
            "3000/3000 [==============================] - 10s 3ms/step - loss: 1.7957 - val_loss: 5.0540\n",
            "Epoch 61/200\n",
            "3000/3000 [==============================] - 10s 3ms/step - loss: 1.8032 - val_loss: 4.9719\n",
            "Epoch 62/200\n",
            "3000/3000 [==============================] - 10s 3ms/step - loss: 1.8792 - val_loss: 3.5326\n",
            "Epoch 63/200\n",
            "3000/3000 [==============================] - 10s 3ms/step - loss: 1.9049 - val_loss: 4.0367\n",
            "Epoch 64/200\n",
            "3000/3000 [==============================] - 10s 3ms/step - loss: 1.8473 - val_loss: 5.2504\n",
            "Epoch 65/200\n",
            "3000/3000 [==============================] - 10s 3ms/step - loss: 1.5995 - val_loss: 7.7171\n",
            "Epoch 66/200\n",
            "3000/3000 [==============================] - 10s 3ms/step - loss: 1.5808 - val_loss: 3.9963\n",
            "Epoch 67/200\n",
            "3000/3000 [==============================] - 10s 3ms/step - loss: 2.0874 - val_loss: 6.3518\n",
            "Epoch 68/200\n",
            "3000/3000 [==============================] - 10s 3ms/step - loss: 1.7595 - val_loss: 5.5386\n",
            "Epoch 69/200\n",
            "3000/3000 [==============================] - 10s 3ms/step - loss: 2.1218 - val_loss: 15.4012\n",
            "Epoch 70/200\n",
            "3000/3000 [==============================] - 10s 3ms/step - loss: 225.2265 - val_loss: 788252.6452\n",
            "Epoch 71/200\n",
            "3000/3000 [==============================] - 10s 3ms/step - loss: 97.5157 - val_loss: 4495.7329\n",
            "Epoch 72/200\n",
            "3000/3000 [==============================] - 10s 3ms/step - loss: 49.3021 - val_loss: 746.3285\n",
            "Epoch 73/200\n",
            "3000/3000 [==============================] - 10s 3ms/step - loss: 30.9318 - val_loss: 278.9025\n",
            "Epoch 74/200\n",
            "3000/3000 [==============================] - 10s 3ms/step - loss: 21.9395 - val_loss: 176.1050\n",
            "Epoch 75/200\n",
            "3000/3000 [==============================] - 10s 3ms/step - loss: 15.4162 - val_loss: 127.3241\n",
            "Epoch 76/200\n",
            "3000/3000 [==============================] - 10s 3ms/step - loss: 16.1701 - val_loss: 116.6585\n",
            "Epoch 77/200\n",
            "3000/3000 [==============================] - 10s 3ms/step - loss: 11.9433 - val_loss: 76.2316\n",
            "Epoch 78/200\n",
            "3000/3000 [==============================] - 10s 3ms/step - loss: 7.5806 - val_loss: 63.6654\n",
            "Epoch 79/200\n",
            "3000/3000 [==============================] - 10s 3ms/step - loss: 6.2256 - val_loss: 55.5682\n",
            "Epoch 80/200\n",
            "3000/3000 [==============================] - 10s 3ms/step - loss: 5.6405 - val_loss: 39.0629\n",
            "Epoch 81/200\n",
            "3000/3000 [==============================] - 10s 3ms/step - loss: 5.1500 - val_loss: 29.0105\n",
            "Epoch 82/200\n",
            "3000/3000 [==============================] - 10s 3ms/step - loss: 4.2870 - val_loss: 15.4249\n",
            "Epoch 83/200\n",
            "3000/3000 [==============================] - 10s 3ms/step - loss: 3.7699 - val_loss: 16.7649\n",
            "Epoch 84/200\n",
            "3000/3000 [==============================] - 10s 3ms/step - loss: 3.2489 - val_loss: 12.6123\n",
            "Epoch 85/200\n",
            "3000/3000 [==============================] - 10s 3ms/step - loss: 3.1223 - val_loss: 12.8146\n",
            "Epoch 86/200\n",
            "3000/3000 [==============================] - 10s 3ms/step - loss: 2.9233 - val_loss: 8.2277\n",
            "Epoch 87/200\n",
            "3000/3000 [==============================] - 10s 3ms/step - loss: 2.7380 - val_loss: 7.3163\n",
            "Epoch 88/200\n",
            "3000/3000 [==============================] - 10s 3ms/step - loss: 2.6498 - val_loss: 4.9630\n",
            "Epoch 89/200\n",
            "3000/3000 [==============================] - 10s 3ms/step - loss: 2.4463 - val_loss: 4.1849\n",
            "Epoch 90/200\n",
            " 832/3000 [=======>......................] - ETA: 5s - loss: 2.4049"
          ],
          "name": "stdout"
        },
        {
          "output_type": "error",
          "ename": "KeyboardInterrupt",
          "evalue": "ignored",
          "traceback": [
            "\u001b[0;31m---------------------------------------------------------------------------\u001b[0m",
            "\u001b[0;31mKeyboardInterrupt\u001b[0m                         Traceback (most recent call last)",
            "\u001b[0;32m<ipython-input-36-6a38acde3264>\u001b[0m in \u001b[0;36m<module>\u001b[0;34m()\u001b[0m\n\u001b[1;32m      3\u001b[0m                 \u001b[0mbatch_size\u001b[0m\u001b[0;34m=\u001b[0m\u001b[0;36m64\u001b[0m\u001b[0;34m,\u001b[0m\u001b[0;34m\u001b[0m\u001b[0;34m\u001b[0m\u001b[0m\n\u001b[1;32m      4\u001b[0m                 \u001b[0mshuffle\u001b[0m\u001b[0;34m=\u001b[0m\u001b[0;32mTrue\u001b[0m\u001b[0;34m,\u001b[0m\u001b[0;34m\u001b[0m\u001b[0;34m\u001b[0m\u001b[0m\n\u001b[0;32m----> 5\u001b[0;31m                 \u001b[0mvalidation_data\u001b[0m\u001b[0;34m=\u001b[0m\u001b[0;34m(\u001b[0m\u001b[0mX_test_den_img\u001b[0m\u001b[0;34m,\u001b[0m \u001b[0mY_test_den_img\u001b[0m\u001b[0;34m)\u001b[0m\u001b[0;34m,\u001b[0m\u001b[0;34m\u001b[0m\u001b[0;34m\u001b[0m\u001b[0m\n\u001b[0m\u001b[1;32m      6\u001b[0m \u001b[0;31m#                 callbacks=[TensorBoard(log_dir='/tmp/tb', histogram_freq=0, write_graph=False)]\u001b[0m\u001b[0;34m\u001b[0m\u001b[0;34m\u001b[0m\u001b[0;34m\u001b[0m\u001b[0m\n\u001b[1;32m      7\u001b[0m                )\n",
            "\u001b[0;32m/usr/local/lib/python3.6/dist-packages/keras/engine/training.py\u001b[0m in \u001b[0;36mfit\u001b[0;34m(self, x, y, batch_size, epochs, verbose, callbacks, validation_split, validation_data, shuffle, class_weight, sample_weight, initial_epoch, steps_per_epoch, validation_steps, **kwargs)\u001b[0m\n\u001b[1;32m   1037\u001b[0m                                         \u001b[0minitial_epoch\u001b[0m\u001b[0;34m=\u001b[0m\u001b[0minitial_epoch\u001b[0m\u001b[0;34m,\u001b[0m\u001b[0;34m\u001b[0m\u001b[0;34m\u001b[0m\u001b[0m\n\u001b[1;32m   1038\u001b[0m                                         \u001b[0msteps_per_epoch\u001b[0m\u001b[0;34m=\u001b[0m\u001b[0msteps_per_epoch\u001b[0m\u001b[0;34m,\u001b[0m\u001b[0;34m\u001b[0m\u001b[0;34m\u001b[0m\u001b[0m\n\u001b[0;32m-> 1039\u001b[0;31m                                         validation_steps=validation_steps)\n\u001b[0m\u001b[1;32m   1040\u001b[0m \u001b[0;34m\u001b[0m\u001b[0m\n\u001b[1;32m   1041\u001b[0m     def evaluate(self, x=None, y=None,\n",
            "\u001b[0;32m/usr/local/lib/python3.6/dist-packages/keras/engine/training_arrays.py\u001b[0m in \u001b[0;36mfit_loop\u001b[0;34m(model, f, ins, out_labels, batch_size, epochs, verbose, callbacks, val_f, val_ins, shuffle, callback_metrics, initial_epoch, steps_per_epoch, validation_steps)\u001b[0m\n\u001b[1;32m    197\u001b[0m                     \u001b[0mins_batch\u001b[0m\u001b[0;34m[\u001b[0m\u001b[0mi\u001b[0m\u001b[0;34m]\u001b[0m \u001b[0;34m=\u001b[0m \u001b[0mins_batch\u001b[0m\u001b[0;34m[\u001b[0m\u001b[0mi\u001b[0m\u001b[0;34m]\u001b[0m\u001b[0;34m.\u001b[0m\u001b[0mtoarray\u001b[0m\u001b[0;34m(\u001b[0m\u001b[0;34m)\u001b[0m\u001b[0;34m\u001b[0m\u001b[0;34m\u001b[0m\u001b[0m\n\u001b[1;32m    198\u001b[0m \u001b[0;34m\u001b[0m\u001b[0m\n\u001b[0;32m--> 199\u001b[0;31m                 \u001b[0mouts\u001b[0m \u001b[0;34m=\u001b[0m \u001b[0mf\u001b[0m\u001b[0;34m(\u001b[0m\u001b[0mins_batch\u001b[0m\u001b[0;34m)\u001b[0m\u001b[0;34m\u001b[0m\u001b[0;34m\u001b[0m\u001b[0m\n\u001b[0m\u001b[1;32m    200\u001b[0m                 \u001b[0mouts\u001b[0m \u001b[0;34m=\u001b[0m \u001b[0mto_list\u001b[0m\u001b[0;34m(\u001b[0m\u001b[0mouts\u001b[0m\u001b[0;34m)\u001b[0m\u001b[0;34m\u001b[0m\u001b[0;34m\u001b[0m\u001b[0m\n\u001b[1;32m    201\u001b[0m                 \u001b[0;32mfor\u001b[0m \u001b[0ml\u001b[0m\u001b[0;34m,\u001b[0m \u001b[0mo\u001b[0m \u001b[0;32min\u001b[0m \u001b[0mzip\u001b[0m\u001b[0;34m(\u001b[0m\u001b[0mout_labels\u001b[0m\u001b[0;34m,\u001b[0m \u001b[0mouts\u001b[0m\u001b[0;34m)\u001b[0m\u001b[0;34m:\u001b[0m\u001b[0;34m\u001b[0m\u001b[0;34m\u001b[0m\u001b[0m\n",
            "\u001b[0;32m/usr/local/lib/python3.6/dist-packages/keras/backend/tensorflow_backend.py\u001b[0m in \u001b[0;36m__call__\u001b[0;34m(self, inputs)\u001b[0m\n\u001b[1;32m   2713\u001b[0m                 \u001b[0;32mreturn\u001b[0m \u001b[0mself\u001b[0m\u001b[0;34m.\u001b[0m\u001b[0m_legacy_call\u001b[0m\u001b[0;34m(\u001b[0m\u001b[0minputs\u001b[0m\u001b[0;34m)\u001b[0m\u001b[0;34m\u001b[0m\u001b[0;34m\u001b[0m\u001b[0m\n\u001b[1;32m   2714\u001b[0m \u001b[0;34m\u001b[0m\u001b[0m\n\u001b[0;32m-> 2715\u001b[0;31m             \u001b[0;32mreturn\u001b[0m \u001b[0mself\u001b[0m\u001b[0;34m.\u001b[0m\u001b[0m_call\u001b[0m\u001b[0;34m(\u001b[0m\u001b[0minputs\u001b[0m\u001b[0;34m)\u001b[0m\u001b[0;34m\u001b[0m\u001b[0;34m\u001b[0m\u001b[0m\n\u001b[0m\u001b[1;32m   2716\u001b[0m         \u001b[0;32melse\u001b[0m\u001b[0;34m:\u001b[0m\u001b[0;34m\u001b[0m\u001b[0;34m\u001b[0m\u001b[0m\n\u001b[1;32m   2717\u001b[0m             \u001b[0;32mif\u001b[0m \u001b[0mpy_any\u001b[0m\u001b[0;34m(\u001b[0m\u001b[0mis_tensor\u001b[0m\u001b[0;34m(\u001b[0m\u001b[0mx\u001b[0m\u001b[0;34m)\u001b[0m \u001b[0;32mfor\u001b[0m \u001b[0mx\u001b[0m \u001b[0;32min\u001b[0m \u001b[0minputs\u001b[0m\u001b[0;34m)\u001b[0m\u001b[0;34m:\u001b[0m\u001b[0;34m\u001b[0m\u001b[0;34m\u001b[0m\u001b[0m\n",
            "\u001b[0;32m/usr/local/lib/python3.6/dist-packages/keras/backend/tensorflow_backend.py\u001b[0m in \u001b[0;36m_call\u001b[0;34m(self, inputs)\u001b[0m\n\u001b[1;32m   2673\u001b[0m             \u001b[0mfetched\u001b[0m \u001b[0;34m=\u001b[0m \u001b[0mself\u001b[0m\u001b[0;34m.\u001b[0m\u001b[0m_callable_fn\u001b[0m\u001b[0;34m(\u001b[0m\u001b[0;34m*\u001b[0m\u001b[0marray_vals\u001b[0m\u001b[0;34m,\u001b[0m \u001b[0mrun_metadata\u001b[0m\u001b[0;34m=\u001b[0m\u001b[0mself\u001b[0m\u001b[0;34m.\u001b[0m\u001b[0mrun_metadata\u001b[0m\u001b[0;34m)\u001b[0m\u001b[0;34m\u001b[0m\u001b[0;34m\u001b[0m\u001b[0m\n\u001b[1;32m   2674\u001b[0m         \u001b[0;32melse\u001b[0m\u001b[0;34m:\u001b[0m\u001b[0;34m\u001b[0m\u001b[0;34m\u001b[0m\u001b[0m\n\u001b[0;32m-> 2675\u001b[0;31m             \u001b[0mfetched\u001b[0m \u001b[0;34m=\u001b[0m \u001b[0mself\u001b[0m\u001b[0;34m.\u001b[0m\u001b[0m_callable_fn\u001b[0m\u001b[0;34m(\u001b[0m\u001b[0;34m*\u001b[0m\u001b[0marray_vals\u001b[0m\u001b[0;34m)\u001b[0m\u001b[0;34m\u001b[0m\u001b[0;34m\u001b[0m\u001b[0m\n\u001b[0m\u001b[1;32m   2676\u001b[0m         \u001b[0;32mreturn\u001b[0m \u001b[0mfetched\u001b[0m\u001b[0;34m[\u001b[0m\u001b[0;34m:\u001b[0m\u001b[0mlen\u001b[0m\u001b[0;34m(\u001b[0m\u001b[0mself\u001b[0m\u001b[0;34m.\u001b[0m\u001b[0moutputs\u001b[0m\u001b[0;34m)\u001b[0m\u001b[0;34m]\u001b[0m\u001b[0;34m\u001b[0m\u001b[0;34m\u001b[0m\u001b[0m\n\u001b[1;32m   2677\u001b[0m \u001b[0;34m\u001b[0m\u001b[0m\n",
            "\u001b[0;32m/usr/local/lib/python3.6/dist-packages/tensorflow/python/client/session.py\u001b[0m in \u001b[0;36m__call__\u001b[0;34m(self, *args, **kwargs)\u001b[0m\n\u001b[1;32m   1437\u001b[0m           ret = tf_session.TF_SessionRunCallable(\n\u001b[1;32m   1438\u001b[0m               \u001b[0mself\u001b[0m\u001b[0;34m.\u001b[0m\u001b[0m_session\u001b[0m\u001b[0;34m.\u001b[0m\u001b[0m_session\u001b[0m\u001b[0;34m,\u001b[0m \u001b[0mself\u001b[0m\u001b[0;34m.\u001b[0m\u001b[0m_handle\u001b[0m\u001b[0;34m,\u001b[0m \u001b[0margs\u001b[0m\u001b[0;34m,\u001b[0m \u001b[0mstatus\u001b[0m\u001b[0;34m,\u001b[0m\u001b[0;34m\u001b[0m\u001b[0;34m\u001b[0m\u001b[0m\n\u001b[0;32m-> 1439\u001b[0;31m               run_metadata_ptr)\n\u001b[0m\u001b[1;32m   1440\u001b[0m         \u001b[0;32mif\u001b[0m \u001b[0mrun_metadata\u001b[0m\u001b[0;34m:\u001b[0m\u001b[0;34m\u001b[0m\u001b[0;34m\u001b[0m\u001b[0m\n\u001b[1;32m   1441\u001b[0m           \u001b[0mproto_data\u001b[0m \u001b[0;34m=\u001b[0m \u001b[0mtf_session\u001b[0m\u001b[0;34m.\u001b[0m\u001b[0mTF_GetBuffer\u001b[0m\u001b[0;34m(\u001b[0m\u001b[0mrun_metadata_ptr\u001b[0m\u001b[0;34m)\u001b[0m\u001b[0;34m\u001b[0m\u001b[0;34m\u001b[0m\u001b[0m\n",
            "\u001b[0;31mKeyboardInterrupt\u001b[0m: "
          ]
        }
      ]
    },
    {
      "metadata": {
        "id": "jRjM6MTt-1i0",
        "colab_type": "code",
        "colab": {
          "base_uri": "https://localhost:8080/",
          "height": 383
        },
        "outputId": "9747fbf2-994e-45f0-d37d-a97f6acf60e2"
      },
      "cell_type": "code",
      "source": [
        "model.evaluate(X_test_den_img, Y_test_den_img)\n",
        "Y_predict_den=model.predict(X_test_den_img)\n",
        "plt.imshow(X_test_den_img[1].reshape(72,72),cmap='gray')\n",
        "# image with noise"
      ],
      "execution_count": 37,
      "outputs": [
        {
          "output_type": "stream",
          "text": [
            "3000/3000 [==============================] - 3s 1ms/step\n"
          ],
          "name": "stdout"
        },
        {
          "output_type": "execute_result",
          "data": {
            "text/plain": [
              "<matplotlib.image.AxesImage at 0x7fc0f1da79e8>"
            ]
          },
          "metadata": {
            "tags": []
          },
          "execution_count": 37
        },
        {
          "output_type": "display_data",
          "data": {
            "image/png": "[encoded data removed]",
            "text/plain": [
              "<matplotlib.figure.Figure at 0x7fc0f1f31f60>"
            ]
          },
          "metadata": {
            "tags": []
          }
        }
      ]
    },
    {
      "metadata": {
        "id": "p0jb4sZXigGJ",
        "colab_type": "code",
        "colab": {
          "base_uri": "https://localhost:8080/",
          "height": 366
        },
        "outputId": "eb1519f9-a7d7-477c-9610-ca9a6f658a98"
      },
      "cell_type": "code",
      "source": [
        "# image without noise\n",
        "plt.imshow(Y_test_den_img[1].reshape(72,72),cmap='gray')"
      ],
      "execution_count": 39,
      "outputs": [
        {
          "output_type": "execute_result",
          "data": {
            "text/plain": [
              "<matplotlib.image.AxesImage at 0x7fc0f1c8f6a0>"
            ]
          },
          "metadata": {
            "tags": []
          },
          "execution_count": 39
        },
        {
          "output_type": "display_data",
          "data": {
            "image/png": "[encoded data removed]",
            "text/plain": [
              "<matplotlib.figure.Figure at 0x7fc0f1d44b38>"
            ]
          },
          "metadata": {
            "tags": []
          }
        }
      ]
    },
    {
      "metadata": {
        "id": "F2J9lYEpgMHG",
        "colab_type": "code",
        "colab": {
          "base_uri": "https://localhost:8080/",
          "height": 366
        },
        "outputId": "dec65341-d543-44a2-af62-1632828dd1b9"
      },
      "cell_type": "code",
      "source": [
        "# denoise outcome\n",
        "plt.imshow(Y_predict_den[1].reshape(72,72),cmap='gray')\n",
        "# succeeded"
      ],
      "execution_count": 38,
      "outputs": [
        {
          "output_type": "execute_result",
          "data": {
            "text/plain": [
              "<matplotlib.image.AxesImage at 0x7fc0f1d669b0>"
            ]
          },
          "metadata": {
            "tags": []
          },
          "execution_count": 38
        },
        {
          "output_type": "display_data",
          "data": {
            "image/png": "[encoded data removed]",
            "text/plain": [
              "<matplotlib.figure.Figure at 0x7fc0f1e377b8>"
            ]
          },
          "metadata": {
            "tags": []
          }
        }
      ]
    },
    {
      "metadata": {
        "id": "5G4OJgG8gKZp",
        "colab_type": "text"
      },
      "cell_type": "markdown",
      "source": [
        "Note that the convergence isn't stable: at some point (e.g. step 70) both training and validation loss increased. Since the outcome is good enough, I applied manual early stopping."
      ]
    },
    {
      "metadata": {
        "id": "4M84zjujYHfR",
        "colab_type": "code",
        "colab": {}
      },
      "cell_type": "code",
      "source": [
        ""
      ],
      "execution_count": 0,
      "outputs": []
    }
  ]
}